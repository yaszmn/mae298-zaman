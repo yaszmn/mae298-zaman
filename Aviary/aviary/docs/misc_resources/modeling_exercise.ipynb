{
 "cells": [
  {
   "cell_type": "markdown",
   "metadata": {},
   "source": [
    "# Modeling Exercise for the Usability Study\n",
    "\n",
    "This doc page details the modeling exercise for the usability study.\n",
    "After attempting to complete the modeling exercises, please [fill out a survey to provide feedback on the usability of Aviary](https://forms.gle/pwNsRiwSWM5fwmTg9).\n",
    "Please keep a rough estimation of the time it takes to complete each part of the exercise.\n",
    "\n",
    "```{note}\n",
    "Please give your best effort for completing each task, but do not worry if you are unable to complete the task. Your feedback is still valuable.\n",
    "```\n",
    "\n",
    "## Task 0: Installation\n",
    "\n",
    "First, please install Aviary on your local system following the [installation instructions](../getting_started/installation).\n",
    "\n",
    "## Task 1: Run a basic Aviary script\n",
    "\n",
    "Aviary ships with multiple examples in the {glue:md}`aviary/examples` directory.\n",
    "The most basic, {glue:md}`run_level1_example.py`, [(available here)](https://github.com/OpenMDAO/Aviary/blob/main/aviary/examples/level1_example.py) is our first starting point.\n",
    "Run this script in your terminal."
   ]
  },
  {
   "cell_type": "code",
   "execution_count": null,
   "metadata": {
    "tags": [
     "remove-cell"
    ]
   },
   "outputs": [],
   "source": [
    "# Testing Cell\n",
    "import aviary.api as av\n",
    "from aviary.utils.doctape import glue_variable\n",
    "\n",
    "examples_dir = av.get_path('examples')\n",
    "examples_dir = examples_dir.relative_to(av.top_dir.parent)\n",
    "glue_variable(examples_dir, md_code=True)\n",
    "\n",
    "folder = av.get_path('examples/run_level1_example.py')\n",
    "basic_example_filepath = av.get_path('examples/run_level1_example.py')\n",
    "glue_variable(basic_example_filepath.name, md_code=True)"
   ]
  },
  {
   "cell_type": "markdown",
   "metadata": {},
   "source": [
    "If the file runs successfully, you should see some output in your terminal that ends with:\n",
    "\n",
    "```bash\n",
    "Optimization terminated successfully    (Exit mode 0)\n",
    "            Current function value: 2.420353717703553\n",
    "            Iterations: 8\n",
    "            Function evaluations: 8\n",
    "            Gradient evaluations: 8\n",
    "Optimization Complete\n",
    "```\n",
    "\n",
    "Once you have successfully run this script, please open the Aviary dashboard by running the following command in your terminal:\n",
    "\n",
    "```bash\n",
    "aviary dashboard run_level1_example\n",
    "```"
   ]
  },
  {
   "cell_type": "code",
   "execution_count": null,
   "metadata": {
    "tags": [
     "remove-cell"
    ]
   },
   "outputs": [],
   "source": [
    "from aviary.interface.cmd_entry_points import _command_map\n",
    "\n",
    "_command_map['dashboard']"
   ]
  },
  {
   "cell_type": "code",
   "execution_count": null,
   "metadata": {
    "tags": [
     "remove-cell"
    ]
   },
   "outputs": [],
   "source": [
    "# Testing Cell\n",
    "from aviary.interface.methods_for_level2 import AviaryGroup\n",
    "from aviary.utils.doctape import glue_variable, glue_class_options\n",
    "\n",
    "current_glued_vars = []\n",
    "glue_class_options(AviaryGroup, current_glued_vars, md_code=True)"
   ]
  },
  {
   "cell_type": "markdown",
   "metadata": {},
   "source": [
    "Check out the [dashboard docs](../user_guide/postprocessing_and_visualizing_results) for more information on how to use the dashboard.\n",
    "Play around with the dashboard and see what types of outputs are provided from Aviary.\n",
    "\n",
    "## Task 2: Create a custom mission profile\n",
    "\n",
    "The next step is to run an Aviary case with a mission profile that you define.\n",
    "Please follow the [instructions in this example doc](../examples/simple_mission_example) to create a custom mission profile.\n",
    "Once you have created your custom mission profile, run the Aviary case following the instructions in the example doc.\n",
    "If you are not able to successfully create a custom {glue:md}`phase_info` object to define the mission, please use the default one defined in the example.\n",
    "\n",
    "```{note}\n",
    "The survey will ask you to provide a copy of the {glue:md}`phase_info` object you create, so please save this information for later.\n",
    "```\n",
    "\n",
    "Again open the Aviary dashboard and visually examine the results by running the following command in your terminal:\n",
    "\n",
    "```bash\n",
    "aviary dashboard <name_of_the_script_you_ran (without .py)>\n",
    "```\n",
    "\n",
    "## Task 3: Run a mission with a reserve phase\n",
    "\n",
    "Aviary has the capability to run a mission with a reserve phase as [detailed in the docs here](https://openmdao.github.io/Aviary/examples/reserve_missions.html).\n",
    "The included example, {glue:md}`run_reserve_mission_multiphase.py`, [(available here)](https://github.com/OpenMDAO/Aviary/blob/main/aviary/examples/reserve_missions/run_reserve_mission_multiphase.py) demonstrates how to run a mission with a reserve phase.\n",
    "Please copy the contents of this file into a new Python script."
   ]
  },
  {
   "cell_type": "code",
   "execution_count": null,
   "metadata": {
    "tags": [
     "remove-cell"
    ]
   },
   "outputs": [],
   "source": [
    "# Testing Cell\n",
    "import aviary.api as av\n",
    "from aviary.utils.doctape import glue_variable\n",
    "\n",
    "file_name = 'run_reserve_mission_multiphase.py'\n",
    "file_path = av.get_path('examples/reserve_missions/' + file_name)\n",
    "glue_variable(file_name, md_code=True)"
   ]
  },
  {
   "cell_type": "markdown",
   "metadata": {},
   "source": [
    "Modify the target distance for the reserve phase to be 300 km and run the script.\n",
    "Then open the Aviary dashboard to visually examine the results:\n",
    "\n",
    "```bash\n",
    "aviary dashboard run_reserve_mission_multiphase\n",
    "```\n",
    "\n",
    "```{note}\n",
    "Please record the value of the fuel burn for the `reserve_cruise` phase; the survey will ask you for this information.\n",
    "```"
   ]
  }
 ],
 "metadata": {
  "kernelspec": {
   "display_name": "Python 3 (ipykernel)",
   "language": "python",
   "name": "python3"
  },
  "language_info": {
   "codemirror_mode": {
    "name": "ipython",
    "version": 3
   },
   "file_extension": ".py",
   "mimetype": "text/x-python",
   "name": "python",
   "nbconvert_exporter": "python",
   "pygments_lexer": "ipython3",
   "version": "3.12.3"
  }
 },
 "nbformat": 4,
 "nbformat_minor": 4
}
