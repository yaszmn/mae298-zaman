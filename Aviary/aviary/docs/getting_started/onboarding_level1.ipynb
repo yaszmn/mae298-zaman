{
 "cells": [
  {
   "cell_type": "code",
   "execution_count": null,
   "id": "3b749fb0",
   "metadata": {
    "tags": [
     "remove-cell"
    ]
   },
   "outputs": [],
   "source": [
    "# Testing Cell\n",
    "from aviary.interface.methods_for_level2 import AviaryGroup\n",
    "from aviary.utils.doctape import glue_class_options\n",
    "\n",
    "current_glued_vars = []\n",
    "\n",
    "glue_class_options(AviaryGroup, current_glued_vars, md_code=True)"
   ]
  },
  {
   "cell_type": "markdown",
   "id": "e78c2158",
   "metadata": {},
   "source": [
    "# Level 1\n",
    "\n",
    "## What is level 1\n",
    "\n",
    "This part is a tutorial type introduction. We assume users have read [Aviary User Interface](../user_guide/user_interface). In this doc page we discuss Level 1's interface, but also other details, such as inputs and outputs.\n",
    "\n",
    "If you have not yet, make sure to [install Aviary](installation).\n",
    "\n",
    "To run Aviary in the Level 1 command-line interface (CLI), type this in a terminal:"
   ]
  },
  {
   "cell_type": "code",
   "execution_count": null,
   "id": "4e8edc4a",
   "metadata": {},
   "outputs": [],
   "source": [
    "!aviary"
   ]
  },
  {
   "cell_type": "code",
   "execution_count": null,
   "id": "51f42a8c",
   "metadata": {
    "tags": [
     "remove-cell"
    ]
   },
   "outputs": [],
   "source": [
    "# Testing Cell\n",
    "import inspect\n",
    "\n",
    "import aviary.api as av\n",
    "from aviary.interface.methods_for_level1 import run_level_1\n",
    "from aviary.utils.doctape import check_value, glue_variable\n",
    "from aviary.utils.functions import get_model, get_path\n",
    "\n",
    "# obtain the default value of maximum number of iterations from function run_level_1().\n",
    "num_max_iter = inspect.signature(run_level_1).parameters['max_iter'].default\n",
    "glue_variable('num_max_iter', str(num_max_iter), md_code=False)\n",
    "\n",
    "# check if aircraft_for_bench_GwGm.csv exists in models/aircraft/test_aircraft/.\n",
    "csv_file_path = get_model('aircraft_for_bench_GwGm.csv')\n",
    "\n",
    "glue_variable(csv_file_path.stem, md_code=True)\n",
    "glue_variable(csv_file_path.name, md_code=True)\n",
    "glue_variable(csv_file_path.relative_to(av.top_dir), md_code=True)\n",
    "\n",
    "glue_dos2unix = 'dos2unix ' + str(csv_file_path.name)\n",
    "glue_variable('dos2unix aircraft_for_bench_GwGm.csv', glue_dos2unix, md_code=False)\n",
    "\n",
    "path = get_path('models').relative_to(av.top_dir.parent)\n",
    "glue_variable(path, md_code=True)\n",
    "path = get_path('models/aircraft/test_aircraft').relative_to(av.top_dir.parent)\n",
    "glue_variable(path, md_code=True)\n",
    "\n",
    "check_value(av.EquationsOfMotion.HEIGHT_ENERGY.value, 'height_energy')\n",
    "check_value(av.EquationsOfMotion.TWO_DEGREES_OF_FREEDOM.value, '2DOF')\n",
    "check_value(av.EquationsOfMotion.SOLVED_2DOF.value, 'solved_2DOF')\n",
    "\n",
    "HEIGHT_ENERGY = av.EquationsOfMotion.HEIGHT_ENERGY\n",
    "glue_variable('height_energy', HEIGHT_ENERGY.name, md_code=True)\n",
    "TWO_DEGREES_OF_FREEDOM = av.EquationsOfMotion.TWO_DEGREES_OF_FREEDOM\n",
    "glue_variable(TWO_DEGREES_OF_FREEDOM.name, md_code=True)"
   ]
  },
  {
   "cell_type": "markdown",
   "id": "eebbbea4",
   "metadata": {},
   "source": [
    "We'll now discuss the different parts of the CLI, starting with how to run an Aviary problem.\n",
    "\n",
    "## First level 1 run\n",
    "\n",
    "We are ready to run some models. By default, Aviary runs the optimizer for up to {glue:md}`num_max_iter` iterations. In order to reduce the run time, we will limit the maximum number of iterations to 1. It will be faster for these examples, but you will not get optimal solutions. \n",
    "\n",
    "Note: The following examples use the IPOPT optimizer, which is accessible by installing pyoptsparse. An example of a level 1 problem using the SLSQP optimizer is available in 'run_level1_example.py' in the aviary/examples directory. \n",
    "\n",
    "Issue the following command:"
   ]
  },
  {
   "cell_type": "code",
   "execution_count": null,
   "id": "844ca5ad",
   "metadata": {
    "tags": [
     "hide-output"
    ]
   },
   "outputs": [],
   "source": [
    "!aviary run_mission models/aircraft/test_aircraft/aircraft_for_bench_GwGm.csv --optimizer IPOPT --max_iter 1"
   ]
  },
  {
   "cell_type": "markdown",
   "id": "386ca993",
   "metadata": {},
   "source": [
    "The argument {glue:md}`models/aircraft/test_aircraft/aircraft_for_bench_GwGm.csv` shows where the aircraft csv file lives. This argument must be one of the following three options:\n",
    "\n",
    "- an absolute path,\n",
    "- a relative path relative to the current working directory,\n",
    "- a relative path relative to the Aviary package,\n",
    "- a relative path relative to the Aviary models folder.\n",
    "\n",
    "Aviary searches for the given dataset in this order. If a dataset file exists in multiple directories, the first one Aviary finds will be used.\n",
    "\n",
    "```{note}\n",
    "When you run Aviary all of the outputs will be saved in the location where you run the command or run script.\n",
    "Outputs files such as optimization history and Dymos output files are saved at that location.\n",
    "A folder named 'report' will also be created there, and contains all of the associated report files for your runs.\n",
    "These reports include [optimization and trajectory reports generated by OpenMDAO and Dymos](https://openmdao.org/newdocs/versions/latest/features/reports/reports_system.html).\n",
    "```\n",
    "\n",
    "## Warning messages\n",
    "\n",
    "During your first run you may notice some warning messages in the Aviary output. Frequently seen warnings are:\n",
    "\n",
    "- **PromotionWarning:** Issued when there is ambiguity due to variable promotion (an [OpenMDAO warning](https://openmdao.org/newdocs/versions/latest/features/warning_control/warnings.html)).\n",
    "- **RuntimeWarning:** Issued for warnings about dubious runtime features (a [Python warning](https://docs.python.org/3/library/warnings.html)).\n",
    "- **UserWarning:** Issued for warnings about potential OpenMDAO, Dymos, and/or Aviary problems.\n",
    "- **DerivativesWarning:** Issued when the approximated partials or coloring cannot be evaluated as expected (an [OpenMDAO warning](https://openmdao.org/newdocs/versions/latest/features/warning_control/warnings.html)).\n",
    "\n",
    "Some of these warnings are expected and can be ignored. For example, the following warnings are expected when running the {glue:md}`aircraft_for_bench_GwGm.csv` model:\n",
    "\n",
    "```\n",
    "'rhs_checking' is disabled for 'DirectSolver in 'traj.phases.desc1' <class Phase>' but that solver has redundant adjoint solves. If it is expensive to compute derivatives for this solver, turning on 'rhs_checking' may improve performance.\n",
    "\n",
    "~/OpenMDAO/OpenMDAO/openmdao/core/total_jac.py:1670: DerivativesWarning:The following constraints or objectives cannot be impacted by the design variables of the problem at the current design point:\n",
    "  traj.climb2.mach[final], inds=[(11, 0)]\n",
    "```\n",
    "\n",
    "For now, we can ignore the warning messages and continue.\n",
    "<!-- TODO: expand this section -->\n",
    "\n",
    "## Level 1 run options\n",
    "In addition to a model input file, this option has additional options that are important, as seen here:"
   ]
  },
  {
   "cell_type": "code",
   "execution_count": null,
   "id": "6fda6ed7",
   "metadata": {},
   "outputs": [],
   "source": [
    "!aviary run_mission -h"
   ]
  },
  {
   "cell_type": "code",
   "execution_count": null,
   "id": "b7878ec1",
   "metadata": {
    "tags": [
     "remove-cell"
    ]
   },
   "outputs": [],
   "source": [
    "# Testing Cell\n",
    "from aviary.utils.doctape import glue_actions, glue_variable\n",
    "from aviary.variable_info.variables import Aircraft, Mission\n",
    "\n",
    "glue_actions('run_mission', current_glued_vars, glue_default=True, glue_choices=True)\n",
    "\n",
    "glue_variable(Aircraft.__name__, md_code=True)\n",
    "glue_variable(Mission.__name__, md_code=True)\n",
    "glue_variable(Aircraft.__name__.lower(), md_code=True)\n",
    "glue_variable(Mission.__name__.lower(), md_code=True)"
   ]
  },
  {
   "cell_type": "markdown",
   "id": "01f6c52c",
   "metadata": {},
   "source": [
    "Let us discuss these in more detail:\n",
    "\n",
    "- {glue:md}`--optimizer`: Name of optimizer. Choices are: {glue:md}`SNOPT`, {glue:md}`IPOPT`, {glue:md}`SLSQP`, and `None`. The default is {glue:md}`IPOPT`. If optimizer is `None`, it will be set to {glue:md}`IPOPT`. The optimization objective is fuel burn for level 1 runs. The objective is\n",
    "  - `mission:objectives:fuel` if `mission_method` is `GASP` \n",
    "  - `fuel_burned` if `mission_method` is `FLOPS`.\n",
    "\n",
    "- {glue:md}`--phase_info`: Path to phase info file. If not provided, it is {glue:md}`models/missions/two_dof_default.py` if mission origin is {glue:md}`TWO_DEGREES_OF_FREEDOM` and {glue:md}`models/missions/height_energy_default.py` for {glue:md}`HEIGHT_ENERGY`.\n",
    "\n",
    "- {glue:md}`--max_iter`: Maximum number of iterations. Default is {glue:md}`num_max_iter`.\n",
    "\n",
    "For the  {glue:md}`aircraft_for_bench_GwGm.csv` example so far, we have used the {glue:md}`IPOPT` optimizer because it is publicly available through [pyOptSparse](https://mdolab-pyoptsparse.readthedocs-hosted.com/en/latest/)."
   ]
  },
  {
   "cell_type": "code",
   "execution_count": null,
   "id": "df82c6d7",
   "metadata": {
    "tags": [
     "remove-cell"
    ]
   },
   "outputs": [],
   "source": [
    "# Testing Cell\n",
    "from aviary.interface.cmd_entry_points import _command_map\n",
    "\n",
    "run_mission = 'run_mission'\n",
    "_command_map[run_mission]\n",
    "command = 'aviary ' + run_mission\n",
    "glue_variable(run_mission, md_code=True)\n",
    "glue_variable(command, md_code=True)\n",
    "f_to_a = 'fortran_to_aviary'\n",
    "_command_map[f_to_a]\n",
    "glue_variable(f_to_a, md_code=True)"
   ]
  },
  {
   "cell_type": "markdown",
   "id": "92de3e87",
   "metadata": {},
   "source": [
    "## Aviary run_mission command\n",
    "\n",
    "The Level 1 CLI (i.e. {glue:md}`run_mission` option) is designed to offer the lowest barrier to entry for new users.\n",
    "Analysts who have experience with legacy tools, such as `FLOPS` and `GASP`, should find the switch from FORTRAN namelists to csv-based input decks to be straightforward. Aviary input decks allow the user the ability to set aircraft characteristics and basic mission parameters,\n",
    "such as cruise Mach number and altitude, in a simple text-based format that does not require any familiarity with Python or OpenMDAO.\n",
    "\n",
    "Aviary can then be executed by calling {glue:md}`aviary run_mission` with the csv input deck.\n",
    "Although the order of the variables in the input deck is not important, you might find it helpful to separate the variables based on if they're used as initial guesses or in the metadata."
   ]
  },
  {
   "cell_type": "markdown",
   "id": "b1f051a0",
   "metadata": {},
   "source": [
    "## First aircraft model\n",
    "\n",
    "We have a few sample aircraft csv files in {glue:md}`aviary/models`. They are all `.csv` files. For example, {glue:md}`aircraft_for_bench_GwGm.csv` (in {glue:md}`aviary/models/aircraft/test_aircraft`) is a large single aisle aircraft mission model."
   ]
  },
  {
   "cell_type": "code",
   "execution_count": null,
   "id": "ae01a81f",
   "metadata": {
    "tags": [
     "remove-cell"
    ]
   },
   "outputs": [],
   "source": [
    "# Testing Cell\n",
    "from aviary.utils.functions import get_model, get_path\n",
    "\n",
    "get_path('models/aircraft/test_aircraft/aircraft_for_bench_GwGm.csv')\n",
    "\n",
    "csv_snippet = '```\\n'\n",
    "filename = 'aircraft_for_bench_GwGm.csv'\n",
    "with open(get_model(filename)) as f_in:\n",
    "    lines = f_in.readlines()\n",
    "    n = len(lines)\n",
    "    l_aircraft = []\n",
    "    l_mission = []\n",
    "    l_settings = []\n",
    "    l_init = []\n",
    "    l_GASP = []\n",
    "    cnt_aircraft = 0\n",
    "    cnt_mission = 0\n",
    "    cnt_settings = 0\n",
    "    cnt_initial = 0\n",
    "    cnt_gasp = 0\n",
    "    for idx in range(n):\n",
    "        s = lines[idx]\n",
    "        if 'aircraft:wing:aspect_ratio' in s:\n",
    "            glue_variable('aircraft:wing:aspect_ratio', md_code=True)\n",
    "            glue_variable('Aircraft.Wing.ASPECT_RATIO', md_code=True)\n",
    "            pass\n",
    "        elif 'climb_range' in s:\n",
    "            glue_variable('climb_range', md_code=True)\n",
    "        if s.startswith('aircraft') and cnt_aircraft < 3:\n",
    "            l_aircraft.append(s)\n",
    "            cnt_aircraft += 1\n",
    "        elif s.startswith('mission') and cnt_mission < 3:\n",
    "            l_mission.append(s)\n",
    "            cnt_mission += 1\n",
    "        elif s.startswith('settings') and cnt_settings < 3:\n",
    "            l_settings.append(s)\n",
    "            cnt_settings += 1\n",
    "        elif s.count(',') == 1 and cnt_initial < 3:\n",
    "            l_init.append(s)\n",
    "            cnt_initial += 1\n",
    "        elif s.startswith('INGASP') and cnt_gasp < 3:\n",
    "            l_GASP.append(s)\n",
    "            cnt_gasp = cnt_gasp + 1\n",
    "    l = l_aircraft\n",
    "    l.extend(['......\\n'])\n",
    "    l.extend(l_mission)\n",
    "    l.extend(['......\\n'])\n",
    "    l.extend(l_settings)\n",
    "    l.extend(['......\\n'])\n",
    "    l.extend(l_init)\n",
    "    l.extend(['......\\n'])\n",
    "    l.extend(l_GASP)\n",
    "    l.extend(['......\\n'])\n",
    "    csv_snippet += ''.join(l)\n",
    "\n",
    "csv_snippet += '...\\n```'\n",
    "glue_variable('csv_snippet', csv_snippet, md_code=False)"
   ]
  },
  {
   "cell_type": "markdown",
   "id": "d0094350",
   "metadata": {},
   "source": [
    "Open {glue:md}`aircraft_for_bench_GwGm.csv` using your favorite editor (e.g., MS Excel or VS Code). If you choose to use MS Excel, you need to take extra steps to make sure that it is in the original format. We recommend running dos2unix first (e.g. {glue:md}`dos2unix aircraft_for_bench_GwGm.csv`).\n",
    "\n",
    "The file {glue:md}`aircraft_for_bench_GwGm.csv` is a data input file modeling large single aisle aircraft which was converted from a `GASP` input deck.\n",
    "Here is a snippet of the file:\n",
    "\n",
    "```{glue:md} csv_snippet\n",
    ":format: myst\n",
    "```\n",
    "\n",
    "The input `.csv` file defines the aircraft and mission. In an Aviary input file you see a list of Aviary variables, their values, and units. Aviary variables are colon delimited strings (e.g. `aircraft:wing:aspect_ratio`). An Aviary variable name usually has three words. The first word is `aircraft` or `mission`, the second word is a subsystem name and the third is the variable name. Each variable has a value and units. Aviary requires units for every variable because it reduces errors and is a good engineering practice.\n",
    "\n",
    "```{note}\n",
    "If you have used the {glue:md}`fortran_to_aviary` tool to create a `.csv` file you must check the outputted variable values and units to ensure the file is valid and what you expect.\n",
    "```\n",
    "\n",
    "Be aware that some variables do not follow the standard naming format (e.g. {glue:md}`climb_range`). These are used for the initial guessing of the trajectory. They are intentionally separate to prevent conflicts with some similarly named variables. They are only used once to set up the problem and then are discarded.\n",
    "\n",
    "Finally we see a list of `GASP` variables that are not converted. Not all variables are converted to Aviary right now. They may represent some features in `FLOPS` and `GASP` that we haven't implemented in Aviary yet.\n",
    "\n",
    "To find information about a variable (e.g. description, data type, etc.), users should read the [Variable Metadata Doc](../user_guide/variable_metadata).\n",
    "\n",
    "Variable names may appear differently within the code from how they are formatted inside OpenMDAO components and in input files and outputs. This is because OpenMDAO requires variable names to be strings, but for developer convenience those strings are mapped to Python classes and attributes. The top-level and sub-categories have capitalized first letters, and the final variable name is always in all-caps. For more information on Aviary's variable hierarchy, see the [Variable Hierarchy doc](../user_guide/variable_hierarchy.ipynb).\n",
    "\n",
    "File {glue:md}`aviary/variable_info/variables.py` is a variable hierarchy that is for a single mission. Each mission gets a copy of this hierarchy. Below is a snippet of this file:"
   ]
  },
  {
   "cell_type": "code",
   "execution_count": null,
   "id": "d3c818d7",
   "metadata": {
    "tags": [
     "remove-cell"
    ]
   },
   "outputs": [],
   "source": [
    "# Testing Cell\n",
    "file_path = av.get_path('variable_info/variables.py')\n",
    "glue_variable(file_path.relative_to(av.top_dir.parent), md_code=True)"
   ]
  },
  {
   "cell_type": "code",
   "execution_count": null,
   "id": "f57d6c96",
   "metadata": {
    "tags": [
     "remove-input"
    ]
   },
   "outputs": [],
   "source": [
    "import aviary.api as av\n",
    "\n",
    "# Get the path of variables.py within the aviary package\n",
    "file_path = av.get_path('variable_info/variables.py')\n",
    "\n",
    "# Read and print the first 17 lines of the file\n",
    "with open(file_path, 'r') as file:\n",
    "    for i in range(17):\n",
    "        print(file.readline().strip('\\n'))"
   ]
  },
  {
   "cell_type": "markdown",
   "id": "b597474e",
   "metadata": {},
   "source": [
    "Aviary variables are always set to default values before the input file is read in. Then Aviary will update the values based on the user-provided `.csv` input file. If you want to set different values, you can set them in the `.csv` input file."
   ]
  },
  {
   "cell_type": "code",
   "execution_count": null,
   "id": "2b10a4df",
   "metadata": {
    "tags": [
     "remove-cell"
    ]
   },
   "outputs": [],
   "source": [
    "# Testing Cell\n",
    "import aviary.api as av\n",
    "from aviary.utils.doctape import glue_variable\n",
    "\n",
    "# check if the following model files exist.\n",
    "\n",
    "other_models = '```\\n'\n",
    "filename = 'models/aircraft/advanced_single_aisle/advanced_single_aisle_FLOPS.csv'\n",
    "filepath = av.get_path(filename)\n",
    "other_models += 'aviary/' + filename + '\\n'\n",
    "\n",
    "filename = 'models/aircraft/large_single_aisle_1/large_single_aisle_1_GASP.csv'\n",
    "filepath = av.get_path(filename)\n",
    "other_models += 'aviary/' + filename + '\\n'\n",
    "glue_variable('large_single_aisle_1', md_code=True)\n",
    "\n",
    "filename = 'models/aircraft/small_single_aisle/small_single_aisle_GASP.csv'\n",
    "filepath = av.get_path(filename)\n",
    "other_models += 'aviary/' + filename + '\\n'\n",
    "\n",
    "glue_variable('other_models', other_models, md_code=False)"
   ]
  },
  {
   "cell_type": "markdown",
   "id": "74c88a21",
   "metadata": {},
   "source": [
    "## Other available input files\n",
    "\n",
    "Other input files reside in aviary/models. They include:\n",
    "\n",
    "```{glue:md} other_models\n",
    ":format: myst\n",
    "```\n",
    "\n",
    "For example, to run {glue:md}`large_single_aisle_1` model, you execute the following command:"
   ]
  },
  {
   "cell_type": "code",
   "execution_count": null,
   "id": "1f10bc75",
   "metadata": {
    "tags": [
     "hide-output"
    ]
   },
   "outputs": [],
   "source": [
    "!aviary run_mission models/aircraft/large_single_aisle_1/large_single_aisle_1_GASP.csv --max_iter 1 --optimizer IPOPT"
   ]
  },
  {
   "cell_type": "markdown",
   "id": "c64a853c",
   "metadata": {},
   "source": [
    "For FLOPS-derived models, let us run:"
   ]
  },
  {
   "cell_type": "code",
   "execution_count": null,
   "id": "5217ccc8",
   "metadata": {
    "tags": [
     "hide-output"
    ]
   },
   "outputs": [],
   "source": [
    "!aviary run_mission models/aircraft/test_aircraft/aircraft_for_bench_FwFm.csv --max_iter 1 --optimizer IPOPT"
   ]
  },
  {
   "cell_type": "markdown",
   "id": "215c53c1",
   "metadata": {},
   "source": [
    "## Aviary fortran_to_aviary command\n",
    "\n",
    "```{note}\n",
    "You only need to use the {glue:md}`fortran_to_aviary` command if you are converting a FLOPS or GASP deck to Aviary's csv format.\n",
    "```\n",
    "\n",
    "This {glue:md}`fortran_to_aviary` tool (see [Aviary Commands](../user_guide/aviary_commands) for details) converts FORTRAN namelists into Aviary's csv based format using the mappings found in the `historical_name` section of the [variable_meta_data](../user_guide/variable_metadata). The resulting csv is automatically sorted into three sections:\n",
    "1. **Input Values:**\n",
    "    Any FORTRAN variables that were mapped to input variables in the variable metadata, converted to their equivalent Aviary names\n",
    "2. **Initial Guesses:**\n",
    "    Some variables are only used as initial guesses for the trajectory.\n",
    "    These are displayed separately from the Input Values because they will not be passed directly to components\n",
    "3. **Unconverted Values:**\n",
    "    If the {glue:md}`fortran_to_aviary` converter can't find an Aviary variable that matches the FORTRAN variable, it is added to the end of the csv file.\n",
    "    We recommend that you check this section after converting a namelist to ensure that there aren't any variables you expected to be converted here.\n",
    "    Many of these unconverted variables represent features or options that are not used in Aviary and can be ignored. Variables related to mission definition are important, but Aviary defines mission profiles in a significantly different way. Currently, the user must build a new [mission definition file](../examples/simple_mission_example) that recreates the mission.\n",
    "    Aviary will ignore unconverted variables when loading the csv, so you can safely leave them.\n"
   ]
  },
  {
   "cell_type": "code",
   "execution_count": null,
   "id": "117aea9a",
   "metadata": {
    "tags": [
     "remove-cell"
    ]
   },
   "outputs": [],
   "source": [
    "# Testing Cell\n",
    "from aviary.interface.cmd_entry_points import _command_map\n",
    "\n",
    "_command_map['fortran_to_aviary']"
   ]
  },
  {
   "cell_type": "markdown",
   "id": "30ec0526",
   "metadata": {},
   "source": [
    "## Phase info\n",
    "\n",
    "Aviary runs depend not only on input `*.csv` files, but also on {glue:md}`phase_info` dictionaries. A {glue:md}`phase_info` dictionary defines the mission and any analysis settings used within Aviary. It is used by Aviary to build a mission trajectory (e.g., from take-off to landing).\n",
    "\n",
    "A [Python dictionary](https://www.w3schools.com/python/python_dictionaries.asp) is a set of key-value pairs. Most keys in {glue:md}`phase_info` are self-explained. Users should read Dymos' [Phase Options](https://openmdao.github.io/dymos/api/phase_api.html). For more details about phase_info keys, especially their example usages, please read [onboarding phase information](input_csv_phase_info).\n",
    "\n",
    "### Default TWO_DEGREES_OF_FREEDOM phases\n",
    "\n",
    "The {glue:md}`aviary/models/missions/two_dof_default.py` file is shown below:"
   ]
  },
  {
   "cell_type": "code",
   "execution_count": null,
   "id": "b52be376",
   "metadata": {
    "tags": [
     "remove-input"
    ]
   },
   "outputs": [],
   "source": [
    "import aviary.api as av\n",
    "\n",
    "# Get the path of variables.py within the aviary package\n",
    "file_path = av.get_path('models/missions/two_dof_default.py')\n",
    "\n",
    "# Read the file contents\n",
    "with open(file_path, 'r') as file:\n",
    "    # Find the line that starts with 'phase_info ='\n",
    "    for line in file:\n",
    "        if line.startswith('phase_info ='):\n",
    "            print(line.strip('\\n'))\n",
    "            break\n",
    "\n",
    "    # Print the remaining lines\n",
    "    for line in file:\n",
    "        print(line.strip('\\n'))"
   ]
  },
  {
   "cell_type": "code",
   "execution_count": null,
   "id": "83ea2df6",
   "metadata": {
    "tags": [
     "remove-cell"
    ]
   },
   "outputs": [],
   "source": [
    "# Testing Cell\n",
    "from aviary.models.missions.two_dof_default import phase_info\n",
    "from aviary.utils.doctape import check_value, glue_keys, glue_variable\n",
    "from aviary.variable_info.enums import EquationsOfMotion, SpeedType\n",
    "\n",
    "TWO_DEGREES_OF_FREEDOM = EquationsOfMotion.TWO_DEGREES_OF_FREEDOM\n",
    "# make sure that the default values in two_dof.py are not changed.\n",
    "\n",
    "duration_bounds = phase_info['groundroll']['user_options']['time_duration_bounds']\n",
    "duration_bounds_lower = float(duration_bounds[0][0])\n",
    "duration_bounds_upper = float(duration_bounds[0][1])\n",
    "# check_value(duration_bounds, ((1., 100.), 's'))\n",
    "glue_variable('default_duration_bounds', duration_bounds, md_code=True)\n",
    "\n",
    "duration_ref = phase_info['groundroll']['user_options']['time_duration_ref']\n",
    "duration_ref_val = float(duration_ref[0])\n",
    "# check_value(duration_ref, (50.0, 's'))\n",
    "glue_variable('default_duration_ref', duration_ref, md_code=True)\n",
    "\n",
    "duration_lower_relative = duration_bounds_lower / duration_ref_val\n",
    "duration_upper_relative = duration_bounds_upper / duration_ref_val\n",
    "glue_variable('duration_lower_relative', duration_lower_relative, md_code=True)\n",
    "glue_variable('duration_upper_relative', duration_upper_relative, md_code=True)\n",
    "glue_variable(\n",
    "    'time_duration_bounds_relative',\n",
    "    f'({duration_lower_relative}, {duration_upper_relative})',\n",
    "    md_code=True,\n",
    ")\n",
    "\n",
    "velocity_bounds = phase_info['groundroll']['user_options']['velocity_bounds']\n",
    "velocity_lower_val = float(velocity_bounds[0][0])\n",
    "velocity_upper_val = float(velocity_bounds[0][1])\n",
    "glue_variable('default_velocity_bounds', velocity_bounds, md_code=True)\n",
    "\n",
    "velocity_ref = phase_info['groundroll']['user_options']['velocity_ref']\n",
    "velocity_ref_val = float(velocity_ref[0])\n",
    "glue_variable('default_velocity_ref', velocity_ref, md_code=True)\n",
    "\n",
    "velocity_lower_relative = velocity_lower_val / velocity_ref_val\n",
    "velocity_upper_relative = velocity_upper_val / velocity_ref_val\n",
    "glue_variable('velocity_lower_relative', velocity_lower_relative, md_code=True)\n",
    "glue_variable('velocity_upper_relative', velocity_upper_relative, md_code=True)\n",
    "glue_variable(\n",
    "    'velocity_bounds_relative',\n",
    "    f'({velocity_lower_relative}, {velocity_upper_relative})',\n",
    "    md_code=True,\n",
    ")\n",
    "\n",
    "distance_ref = phase_info['groundroll']['user_options']['distance_ref']\n",
    "distance_ref_val = float(distance_ref[0])\n",
    "distance_ref_unit = distance_ref[1]\n",
    "# check_value(distance_ref, (3000, 'ft'))\n",
    "glue_variable('default_distance_ref', distance_ref, md_code=True)\n",
    "glue_variable('default_distance_unit', distance_ref_unit, md_code=False)\n",
    "\n",
    "distance_bounds = phase_info['groundroll']['user_options']['distance_bounds']\n",
    "distance_lower_val = float(distance_bounds[0][0])\n",
    "distance_upper_val = float(distance_bounds[0][1])\n",
    "\n",
    "distance_lower_relative = distance_lower_val / distance_ref_val\n",
    "distance_upper_relative = distance_upper_val / distance_ref_val\n",
    "glue_variable('distance_lower_relative', distance_lower_relative, md_code=True)\n",
    "glue_variable('distance_upper_relative', distance_upper_relative, md_code=True)\n",
    "\n",
    "mass_ref = phase_info['groundroll']['user_options']['mass_ref']\n",
    "mass_ref_val = float(mass_ref[0])\n",
    "# check_value(mass_ref, (150_000, 'lbm'))\n",
    "glue_variable('default_mass_ref', mass_ref, md_code=True)\n",
    "\n",
    "mass_bounds = phase_info['groundroll']['user_options']['mass_bounds']\n",
    "mass_lower_val = float(mass_bounds[0][0])\n",
    "mass_upper = mass_bounds[0][1]\n",
    "glue_variable('default_mass_bounds', mass_bounds, md_code=True)\n",
    "glue_variable('mass_upper', mass_upper, md_code=True)\n",
    "\n",
    "mass_lower_relative = mass_lower_val / mass_ref_val\n",
    "glue_variable('mass_lower_relative', mass_lower_relative, md_code=True)\n",
    "\n",
    "throttle = phase_info['groundroll']['initial_guesses']['throttle']\n",
    "# check_value(throttle, ([0.956, 0.956], 'unitless'))\n",
    "\n",
    "num_segments = phase_info['groundroll']['user_options']['num_segments']\n",
    "# check_value(num_segments, 1)\n",
    "glue_variable('default_num_segments', num_segments, md_code=True)\n",
    "\n",
    "order = phase_info['groundroll']['user_options']['order']\n",
    "# check_value(order, 3)\n",
    "glue_variable('default_order', order, md_code=True)\n",
    "\n",
    "mass_defect_ref = phase_info['groundroll']['user_options']['mass_defect_ref']\n",
    "glue_variable('default_mass_defect_ref', mass_defect_ref, md_code=True)\n",
    "\n",
    "glue_keys(phase_info)"
   ]
  },
  {
   "cell_type": "markdown",
   "id": "73ee7276",
   "metadata": {},
   "source": [
    "The file {glue:md}`two_dof_default.py` contains the following phases:\n",
    "\n",
    "{glue:md}`groundroll`, {glue:md}`rotation`, {glue:md}`ascent`, {glue:md}`accel`, {glue:md}`climb1`, {glue:md}`climb2`, {glue:md}`cruise`, {glue:md}`desc1`, {glue:md}`desc2`.\n",
    "\n",
    "All of the above phases belong to mission. No pre-mission phase is provided. If `pre_mission` is missing, a default `pre_mission` is provided:\n",
    "```\n",
    "    'pre_mission': {\n",
    "        'include_takeoff': True,\n",
    "        'external_subsystems': [],\n",
    "    }\n",
    "```\n",
    "\n",
    "Similarly, if no post-mission phase is provided, then a default `post_mission` is provided:\n",
    "```\n",
    "    'post_mission': {\n",
    "        'include_landing': True,\n",
    "        'external_subsystems': [],\n",
    "    },\n",
    "```\n",
    "\n",
    "For `GASP' missions, taxi is considered part of pre-mission and landing is considered part of post-mission."
   ]
  },
  {
   "cell_type": "markdown",
   "id": "831d9967",
   "metadata": {},
   "source": [
    "#### Groundroll phase\n",
    "\n",
    "Let us discuss the groundroll phase in detail as an example.\n",
    "\n",
    "In {glue:md}`groundroll` phase, we are given {glue:md}`time_duration_bounds` of range {glue:md}`default_duration_bounds` and a reference value {glue:md}`time_duration_ref` of value {glue:md}`default_duration_ref`. Here, {glue:md}`time_duration_bounds` is a tuple of (lower, upper) bounds for the duration of the integration variable across the phase and {glue:md}`time_duration_ref` is the unit-reference value for the duration of the integration variable across the phase (see [Dymos Variables](https://openmdao.github.io/dymos/features/phases/variables.html)). This implies a time range of {glue:md}`time_duration_bounds_relative` in {glue:md}`groundroll` phase, or:\n",
    "\n",
    "{glue:md}`duration_lower_relative` ≤ traj.groundroll.t_duration ≤ {glue:md}`duration_upper_relative`.\n",
    "\n",
    "We see {glue:md}`velocity_bounds` with lower and upper bound values of {glue:md}`default_velocity_bounds`, and {glue:md}`velocity_ref` of value {glue:md}`default_velocity_ref`. They result in `velocity` as a design variable with a range: {glue:md}`velocity_bounds_relative`, or\n",
    "\n",
    "{glue:md}`velocity_lower_relative` ≤ traj.groundroll.states:velocity ≤ {glue:md}`velocity_upper_relative`.\n",
    "\n",
    "Similarly, we get:\n",
    "\n",
    "{glue:md}`distance_lower_relative` ≤ traj.groundroll.states:distance ≤ {glue:md}`distance_upper_relative`\n",
    "\n",
    "The mass parameter is a little bit different because we have {glue:md}`mass_bounds`: {glue:md}`default_mass_bounds`. In this situation, OpenMDAO replaces {glue:md}`mass_upper` with an actual upper bound that is very large. We get:\n",
    "\n",
    "{glue:md}`mass_lower_relative` ≤ traj.groundroll.states:mass ≤ 6.66667e+15.\n",
    "\n",
    "Comparing to `velocity` and `distance`, `mass` is not scaled to the same range. This is okay because aircraft mass is actually a constant in this phase. A huge upper bound will not have an impact.\n",
    "\n",
    "For the [`COLLOCATION`](https://openmdao.github.io/dymos/getting_started/collocation.html) setting, there is one [segment](https://openmdao.github.io/dymos/getting_started/intro_to_dymos/intro_segments.html) (`'num_segments'`: {glue:md}`default_num_segments`) and polynomial interpolation degree is {glue:md}`default_order` (`'order'`: {glue:md}`default_order`). Increasing the number of segments and/or increasing the degree of polynomial will improve accuracy but will also increase the complexity of computation. For groundroll, it is unnecessary.\n",
    "\n",
    "For parameter {glue:md}`mass_defect_ref`, we set values to {glue:md}`default_mass_defect_ref`. Defect is a residual that measures how accurately the proposed state and control history obeyed the ODE governing the system dynamics. For distance, the defect reference {glue:md}`distance_ref` is {glue:md}`default_distance_ref` {glue:md}`default_distance_unit`.\n",
    "\n",
    "#### Other phases\n",
    "\n",
    "We will not discuss the other phases in detail.\n",
    "\n",
    "Roughly speaking, phase {glue:md}`climb1` is for climb up to 10,000 ft and phase {glue:md}`climb2` is for climb to cruise phase. Phase {glue:md}`desc1` is for descent down to `10,000` ft and phase {glue:md}`desc2` is for descent from `10,000` ft down to `1,000` ft."
   ]
  },
  {
   "cell_type": "code",
   "execution_count": null,
   "id": "f4362df8",
   "metadata": {
    "tags": [
     "remove-cell"
    ]
   },
   "outputs": [],
   "source": [
    "# Testing Cell\n",
    "import aviary.api as av\n",
    "\n",
    "from aviary.variable_info.enums import EquationsOfMotion\n",
    "from aviary.utils.doctape import check_value, get_all_keys, get_variable_name\n",
    "\n",
    "\n",
    "TWO_DEGREES_OF_FREEDOM = EquationsOfMotion.TWO_DEGREES_OF_FREEDOM\n",
    "HEIGHT_ENERGY = EquationsOfMotion.HEIGHT_ENERGY\n",
    "\n",
    "phase_info_files = ['height_energy_default.py', 'two_dof_default.py']\n",
    "for str_phase_info in phase_info_files:\n",
    "    file_path = av.get_path('models/missions/' + str_phase_info)\n",
    "    glue_variable('models/missions/' + str_phase_info)\n",
    "    # Glue the filename and filepath\n",
    "    glue_variable((str_phase_info), md_code=True)\n",
    "    file_path = file_path.relative_to(av.top_dir.parent)\n",
    "    glue_variable(file_path, md_code=True)\n",
    "\n",
    "glue_variable(HEIGHT_ENERGY.name, md_code=True)\n",
    "\n",
    "# glue new phase name (skip 'cruise', 'pre_mission', 'post_mission' to avoid duplicate key)\n",
    "for key in ['climb', 'descent']:\n",
    "    glue_variable(key, md_code=True)"
   ]
  },
  {
   "cell_type": "markdown",
   "id": "086a4719",
   "metadata": {},
   "source": [
    "### Default HEIGHT_ENERGY phases\n",
    "\n",
    "The file {glue:md}`aviary/models/missions/height_energy_default.py` contains the following phases:\n",
    "\n",
    "{glue:md}`pre_mission`, {glue:md}`climb`, {glue:md}`cruise`, {glue:md}`descent`, {glue:md}`post_mission`\n",
    "\n",
    "The differences between {glue:md}`HEIGHT_ENERGY` and {glue:md}`TWO_DEGREES_OF_FREEDOM` phases are due to how `FLOPS` and `GASP` implement trajectory analysis.\n",
    "\n",
    "```{note}\n",
    "File {glue:md}`aviary/models/missions/height_energy_default.py` has a {glue:md}`pre_mission` phase and a {glue:md}`post_mission` phase. In {glue:md}`pre_mission`, `takeoff` is the simplified takeoff and in `post_mission`, `landing` is the simplified landing. For {glue:md}`HEIGHT_ENERGY` missions, there are [detailed takeoff and landing](../user_guide/FLOPS_based_detailed_takeoff_and_landing) available. But they are not used in `height_energy_default.py`. The other phases are mission phases.\n",
    "```"
   ]
  },
  {
   "cell_type": "markdown",
   "id": "0d519d21",
   "metadata": {},
   "source": [
    "## Outputted files and how to read them\n",
    "\n",
    "```{note}\n",
    "Please also see [this doc page](../user_guide/postprocessing_and_visualizing_results) for more info about the Aviary dashboard and the information is contains.\n",
    "We usually expect that users access these reports through the dashboard, though you can also access the html files directly.\n",
    "```\n",
    "\n",
    "Each standard run generates several output files. Which output files are generated depend on the run options. In this section, we assume that we've set `max_iter` = {glue:md}`num_max_iter` to ensure convergence. The following screenshots used in this article are all from a run using {glue:md}`aircraft_for_bench_GwGm.csv`.\n",
    "\n",
    "First, there is always a sub-folder `reports/case_name` where `case_name` is the csv file name. In our case, it is `reports/aircraft_for_bench_GwGm`. It contains a few HTML files:\n",
    "\n",
    "- `driver_scaling_report.html`\n",
    "- `inputs.html`\n",
    "- `n2.html`\n",
    "- `opt_report.html`\n",
    "- `total_coloring.html`\n",
    "- `traj_linkage_report.html`\n",
    "- `traj_results_report.html`"
   ]
  },
  {
   "cell_type": "markdown",
   "id": "3794fb45",
   "metadata": {},
   "source": [
    "### File `driver_scaling_report.html`\n",
    "\n",
    "This file is a summary of driver scaling information. After all design variables, objectives, and constraints are declared and the problem has been set up, this report presents all the design variables and constraints in all phases as well as the objectives. The file is divided to three blocks: `Design Variables`, `Constraints`, and `Objectives`. It contains the following columns: name, size, indices, driver value and units, model value and units, ref, ref0, scaler, adder, etc. It also shows `Jacobian Info` - responses with respect to design variables (`DV`). A screen shot of design variables is shown here:\n",
    "\n",
    "> ![Sample driver_scaling_report.html (top lines)](images/driver_scaling_report_top.PNG)\n",
    "\n",
    "This file is needed when you are debugging. New users can skip it."
   ]
  },
  {
   "cell_type": "markdown",
   "id": "7b66d5d3",
   "metadata": {},
   "source": [
    "### File `inputs.html`\n",
    "\n",
    "File `inputs.html`  is a sortable and filterable input report of input variables in different phases. It contains all the input variables (with possibly duplicate names for different phases) but only shows those in `Source is IVC` (abbreviation for [IndepVarComp](https://openmdao.org/newdocs/versions/latest/features/core_features/working_with_components/indepvarcomp.html)) on opening up. Users can choose to show other inputs by selecting and deselecting this checkbox. Users can filter their inputs by input name, source name, units, shape, tags,  values (`Val`), or design variables (`Source is DV`). Here is a screen shot (top part) when it is opened:\n",
    "\n",
    "> ![Sample inputs.html (top lines)](images/inputs_html_top.PNG)\n",
    "\n",
    "New users can choose to use `input_list.txt` instead (see below) if `settings:verbosity` is set to 2 or higher. Note that this file lives in the current folder."
   ]
  },
  {
   "cell_type": "code",
   "execution_count": null,
   "id": "d43c3358",
   "metadata": {
    "tags": [
     "remove-cell"
    ]
   },
   "outputs": [],
   "source": [
    "# Testing cell\n",
    "from aviary.interface.methods_for_level2 import AviaryProblem\n",
    "from aviary.utils.doctape import glue_class_functions\n",
    "\n",
    "# Get all functions of class AviaryProblem\n",
    "glue_class_functions(AviaryProblem, current_glued_vars)"
   ]
  },
  {
   "cell_type": "markdown",
   "id": "25a81fa7",
   "metadata": {},
   "source": [
    "### File `n2.html`\n",
    "\n",
    "[N2](https://openmdao.org/newdocs/versions/latest/features/model_visualization/n2_details/n2_details.html), sometimes referred to as an eXtended Design Structure Matrix (XDSM), is a powerful tool for understanding your model in OpenMDAO. It is an N-squared diagram in the shape of a matrix representing functional or physical interfaces between system elements. It can be used to systematically identify, define, tabulate, design, and analyze functional and physical interfaces.\n",
    "\n",
    "```{note}\n",
    "We *strongly* recommend that you understand N2 diagrams well, especially if you are debugging a model or adding external subsystems. Here is a [doc page](https://openmdao.github.io/PracticalMDO/Notebooks/ModelConstruction/using_n2.html) featuring an informative video on how to use N2 diagrams effectively. MDO lab has another resource for learning about N2 and [XDSM](https://mdolab-pyxdsm.readthedocs-hosted.com/).\n",
    "```\n",
    "\n",
    " Here is a screenshot of an N2 diagram after we run `aviary run_mission models/aircraft/test_aircraft/aircraft_for_bench_GwGm.csv`.\n",
    "\n",
    "> ![Sample n2.html (on start)](images/N2_start.PNG)\n",
    "\n",
    "At level 1, we are interested in the phases, so let us `Hide solvers`. So from `model`, zoom into `traj`, then into `phases`. We see the phases from `groundroll` to `desc2` as expected. To see how those phases are connected, we click on `Show all connections in view`. Here is what we see:\n",
    "\n",
    "> ![Sample n2.html (on phases)](images/N2_phases.PNG)\n",
    "\n",
    "The solid arrow connections show how outputs of one phase feed as inputs to the next. As you can see, the input of each phase is linked from the previous phase and its output is linked to the next phase. This is pretty much what we expect. The dashed arrows are links to and/or from other places not in the view. If you are curious where those links go, you must zoom out. This can be done by clicking the vertical bar on the left. Let us click it twice. Here is what we get:\n",
    "\n",
    "> ![Sample n2.html (on phases)](images/N2_phases_links.PNG)\n",
    "\n",
    "For {glue:md}`TWO_DEGREES_OF_FREEDOM` missions, there is a takeoff subsystem (including `taxi` phase) within `pre_mission`. For {glue:md}`HEIGHT_ENERGY` missions, there is a takeoff subsystem within `pre_mission` in which a `takeoff` phase is added. It is added after `static_analysis` in {glue:md}`add_pre_mission_systems()` method.\n",
    "\n",
    "Similarly, there is a `landing` phase within `post_mission`."
   ]
  },
  {
   "cell_type": "markdown",
   "id": "aacb7268",
   "metadata": {},
   "source": [
    "### File `opt_report.html`\n",
    "\n",
    "This file is OpenMDAO Optimization Report. All values are in unscaled, physical units. On the top is a summary of the optimization, followed by the objective, design variables, constraints, and optimizer settings. Here is a screenshot:\n",
    "\n",
    "> ![Sample opt_report.html (top lines)](images/opt_report_top.PNG)\n",
    "\n",
    "This file is important when dissecting optimal results produced by Aviary."
   ]
  },
  {
   "cell_type": "markdown",
   "id": "0b9ccf6b",
   "metadata": {},
   "source": [
    "### Coloring files\n",
    "\n",
    "There is a sub-folder `coloring_files`. Those are used internally by OpenMDAO for derivative computation. Users should generally skip those files."
   ]
  },
  {
   "cell_type": "markdown",
   "id": "4e04587c",
   "metadata": {},
   "source": [
    "### File `traj_linkage_report.html`\n",
    "\n",
    "This is a dymos linkage report in a customized N2 diagram. It provides a report detailing how phases are linked together via constraint or connection. It can be used to identify errant linkages between fixed quantities.\n",
    "\n",
    "> ![Sample traj_linkage_report.html (top of timeseries)](images/traj_linkage_report_top.PNG)\n",
    "\n",
    "We clearly see how those mission phases are linked."
   ]
  },
  {
   "cell_type": "markdown",
   "id": "7cf04bea",
   "metadata": {},
   "source": [
    "### File `traj_results_report.html`\n",
    "\n",
    "```{note}\n",
    "This is one of the most important files produced by Aviary. It will help you visualize and understand the optimal trajectory produced by Aviary.\n",
    "```\n",
    "\n",
    "This file contains timeseries and phase parameters in different tabs. For our {glue:md}`aircraft_for_bench_GwGm` run, they are: {glue:md}`groundroll`, {glue:md}`rotation`,  {glue:md}`ascent`, {glue:md}`accel`, {glue:md}`climb1`, {glue:md}`climb2`, {glue:md}`cruise`, {glue:md}`desc1`, and {glue:md}`desc2` parameters. On the timeseries tab, users can select which phases to view. The following are the top of timeseries tab and ascent parameters tab:\n",
    "\n",
    "> ![Sample traj_results_report.html (top part of timeseries)](images/traj_results_report_top.PNG)\n",
    "\n",
    "Let's find the altitude chart. Move the cursor to the top of climb2. We see that the aircraft climbs to 37500 feet at 1200 second. Then it enters to cruise phase. At 28090 second, it starts descent from 40000 feet.\n",
    "\n",
    "> ![Sample traj_results_report.html (altitude)](images/traj_results_report_altitude.PNG)\n",
    "\n",
    "Let's switch to `ascent` tab. We see the following:\n",
    "\n",
    "> ![Sample traj_results_report.html (top lines) of ascent](images/traj_results_report_top_ascent.PNG)\n",
    "\n",
    "This file is quite important. Users should play with it and try to grasp all possible features. For example, you can hover the mouse over the solution points to see solution value; you can save the interesting images; you can zoom into a particular region for details, etc."
   ]
  },
  {
   "cell_type": "markdown",
   "id": "0ef908f2",
   "metadata": {},
   "source": [
    "### Optimizer output\n",
    "\n",
    "If {glue:md}`IPOPT` is the optimizer, `IPOPT.out` is generated. If {glue:md}`SLSQP` is the optimizer and `pyOptSparseDriver` is the driver, `SLSQP.out` is generated. Generally speaking, {glue:md}`IPOPT` and {glue:md}`SNOPT` converge Aviary optimization problems better than {glue:md}`SLSQP`, but {glue:md}`SLSQP` is bundled with Scipy by default, making it more widely available."
   ]
  },
  {
   "cell_type": "code",
   "execution_count": null,
   "id": "2d62b620",
   "metadata": {
    "tags": [
     "remove-cell"
    ]
   },
   "outputs": [],
   "source": [
    "# Testing Cell\n",
    "from aviary.interface.methods_for_level2 import AviaryProblem\n",
    "from aviary.utils.doctape import glue_function_arguments\n",
    "\n",
    "# retrieve all argument of build_pre_mission(self, aviary_inputs, **kwargs)\n",
    "glue_function_arguments(\n",
    "    AviaryProblem.run_aviary_problem, current_glued_vars, glue_default=True, md_code=True\n",
    ")"
   ]
  },
  {
   "cell_type": "markdown",
   "id": "9da1571f",
   "metadata": {},
   "source": [
    "### SQLite database file\n",
    "\n",
    "There is a `.db` file created after run called {glue:md}'problem_history.db' in the report directory. This is an SQLite database file. Our run is recorded into this file. You generally shouldn't need to parse through this file on your own, but it is available if you're seeking additional problem information."
   ]
  },
  {
   "cell_type": "code",
   "execution_count": null,
   "id": "b671348f",
   "metadata": {
    "tags": [
     "remove-cell"
    ]
   },
   "outputs": [],
   "source": [
    "# Testing Cell\n",
    "import aviary.api as av\n",
    "from aviary.utils.doctape import get_attribute_name, glue_variable\n",
    "\n",
    "Verbosity = av.Verbosity\n",
    "verbosity = get_attribute_name(av.Settings, av.Settings.VERBOSITY)\n",
    "glue_variable('VERBOSITY', verbosity, md_code=True)\n",
    "glue_variable('BRIEF', av.Verbosity.BRIEF.name, md_code=True)\n",
    "glue_variable('VERBOSE', av.Verbosity.VERBOSE.name, md_code=True)\n",
    "# glue_variable(av.Settings.VERBOSITY)"
   ]
  },
  {
   "cell_type": "markdown",
   "id": "bc26df51",
   "metadata": {},
   "source": [
    "### Plain text inputs and outputs\n",
    "\n",
    "If {glue:md}`VERBOSITY` is set to `2` ({glue:md}`VERBOSE`) or higher, `input_list.txt` and `output_list.txt` are generated. We recommend this parameter be set to `1` ({glue:md}`BRIEF`) for beginners. See [Coding Standards](../developer_guide/coding_standards.ipynb) for more details.\n",
    "\n",
    "Let us look at `input_list.txt`:\n",
    "\n",
    "> ![Sample input_list.txt (top lines)](images/input_list_top.PNG)\n",
    "\n",
    "In this screenshot, we see a tree structure. There are three columns. The left column is a list of variable names. The middle column is the value and the right column is the [promoted](https://openmdao.org/newdocs/versions/latest/basic_user_guide/multidisciplinary_optimization/linking_vars.html) variable name. `pre_mission` is a phase, `static_analysis` is a subgroup which contains other subcomponents (e.g. `propulsion_group`). `engine` is a component under which is a list of input variables (e.g. `aircraft:engine:scaled_sls_thrust`).\n",
    "\n",
    "An input variable can appear under different phases and within different components. Note that its values can be different because its value has been updated during the computation. On the top-left corner is the total number of inputs. That number counts the duplicates because one variable can appear in different phases. Aviary variable structure are discussed in [Understanding the Variable Hierarchy](https://github.com/OpenMDAO/Aviary/blob/main/aviary/docs/user_guide/variable_hierarchy) and [Understanding the Variable Metadata](https://github.com/OpenMDAO/Aviary/blob/main/aviary/docs/user_guide/variable_metadata).\n",
    "\n",
    "If you zoom the N2 diagram into `propulsion_group` and `gasp_based_geom`, you see the exact same tree structure:\n",
    "\n",
    "> ![Sample N2 Diagram (top blocks)](images/N2_top.PNG)\n",
    "\n",
    "File `output_list.txt` follows the same pattern. But there is another tree for implicit outputs. That helps when debugging is needed."
   ]
  },
  {
   "cell_type": "markdown",
   "id": "4dbd3cd1",
   "metadata": {},
   "source": [
    "### Additional messages\n",
    "\n",
    "When Aviary is run, some messages are printed on the command line and they are important. For example, the following constraint report tells us whether our desired constraints are met:\n",
    "\n",
    "```\n",
    "--- Constraint Report [traj] ---\n",
    "    --- groundroll ---\n",
    "        None\n",
    "    --- rotation ---\n",
    "        [final]   0.0000e+00 == normal_force [lbf]\n",
    "    --- ascent ---\n",
    "        [final]   5.0000e+02 == altitude [ft]\n",
    "        [path]    0.0000e+00 <= load_factor <= 1.1000e+00  [unitless]\n",
    "        [path]    0.0000e+00 <= fuselage_pitch <= 1.5000e+01  [deg]\n",
    "    --- accel ---\n",
    "        [final]   2.5000e+02 == EAS [kn]\n",
    "    --- climb1 ---\n",
    "        [final]   1.0000e+04 == altitude [ft]\n",
    "    --- climb2 ---\n",
    "        [final]   3.7500e+04 == altitude [ft]\n",
    "        [final]   1.0000e-01 <= altitude_rate  [ft/min]\n",
    "        [final]   8.0000e-01 == mach [unitless]\n",
    "    --- cruise ---\n",
    "        None\n",
    "    --- desc1 ---\n",
    "        [final]   1.0000e+04 == altitude [ft]\n",
    "    --- desc2 ---\n",
    "        [final]   1.0000e+03 == altitude [ft]\n",
    "```"
   ]
  },
  {
   "cell_type": "code",
   "execution_count": null,
   "id": "18e1c3c6",
   "metadata": {
    "tags": [
     "remove-output"
    ]
   },
   "outputs": [],
   "source": [
    "# Testing Cell\n",
    "from aviary.api import Mission\n",
    "from aviary.examples.external_subsystems.battery.battery_builder import BatteryBuilder\n",
    "from aviary.utils.doctape import glue_variable\n",
    "\n",
    "glue_variable(get_variable_name(Mission.Objectives.FUEL), md_code=True)\n",
    "glue_variable(get_variable_name(Mission.Objectives.RANGE), md_code=True)\n",
    "glue_variable(BatteryBuilder.__name__, md_code=True)"
   ]
  },
  {
   "cell_type": "markdown",
   "id": "15e1f0b4",
   "metadata": {},
   "source": [
    "## Beyond level 1\n",
    "\n",
    "Aviary Level 1 is quite capable yet limited in how much is exposed to the user. If you need additional flexibility or want to add your own subsystems, you will need to move to Levels 2 or 3. Let us briefly discuss some of the possible reasons for you to move to Levels 2 or 3.\n",
    "\n",
    "If you examine the Aviary metadata, you find that Aviary has two choices of objectives: {glue:md}`Mission.Objectives.FUEL` and {glue:md}`Mission.Objectives.RANGE`. But in level 1, you are limited to minimizing fuel. Users will be able to make other choices in level 2 and level 3.\n",
    "\n",
    "Level 1 uses the default {glue:md}`phase_info` dictionaries, though there is an option to use a customized {glue:md}`phase_info`.\n",
    "For more details, please read [drawing and running simple missions](../user_guide/drawing_and_running_simple_missions).\n",
    "\n",
    "There may be more or fewer key-value pairs in each of the phases. For example, if you have an external subsystem, say, a battery with {glue:md}`BatteryBuilder`, you can add a key `external_subsystems` with value {glue:md}`BatteryBuilder`. We will go into details later (see [here](onboarding_ext_subsystem)).\n",
    "\n",
    "No matter what mission method users choose, they can create their own phase sequences and run Aviary using either level 2 or 3 interface.\n",
    "\n",
    "\n",
    "We are ready to move on to [Level 2](onboarding_level2)."
   ]
  }
 ],
 "metadata": {
  "kernelspec": {
   "display_name": "aviary",
   "language": "python",
   "name": "python3"
  },
  "language_info": {
   "codemirror_mode": {
    "name": "ipython",
    "version": 3
   },
   "file_extension": ".py",
   "mimetype": "text/x-python",
   "name": "python",
   "nbconvert_exporter": "python",
   "pygments_lexer": "ipython3",
   "version": "3.12.9"
  }
 },
 "nbformat": 4,
 "nbformat_minor": 5
}
