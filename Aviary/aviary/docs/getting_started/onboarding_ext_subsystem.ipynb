{
 "cells": [
  {
   "cell_type": "code",
   "execution_count": null,
   "id": "16100856",
   "metadata": {
    "tags": [
     "remove-cell"
    ]
   },
   "outputs": [],
   "source": [
    "# Testing Cell\n",
    "from aviary.interface.methods_for_level2 import AviaryGroup\n",
    "from aviary.utils.doctape import glue_class_options\n",
    "\n",
    "current_glued_vars = []\n",
    "\n",
    "glue_class_options(AviaryGroup, current_glued_vars, md_code=True)"
   ]
  },
  {
   "cell_type": "markdown",
   "id": "ac9434a4",
   "metadata": {},
   "source": [
    "# Models with External Subsystems\n",
    "\n",
    "In level 2, we have given simple examples of defining external subsystems in {glue:md}`phase_info`. The subsystems that we gave were all dummy subsystems and are not really used in simulation. Assume you have an external subsystem and you want to use it. Let us show you how to achieve this goal."
   ]
  },
  {
   "cell_type": "markdown",
   "id": "c60ff00e",
   "metadata": {},
   "source": [
    "## Installation of Aviary examples\n",
    "\n",
    "The Aviary team has provided a few external subsystems for you to use.\n",
    "These are included in the {glue:md}`aviary/examples/external_subsystems` directory.\n",
    "We'll now discuss them here and show you how to use them."
   ]
  },
  {
   "cell_type": "code",
   "execution_count": null,
   "id": "4e161ef2",
   "metadata": {
    "tags": [
     "remove-cell"
    ]
   },
   "outputs": [],
   "source": [
    "# Testing Cell\n",
    "import aviary.api as av\n",
    "from aviary.api import Aircraft\n",
    "from aviary.utils.doctape import get_variable_name, glue_variable\n",
    "from aviary.utils.functions import get_model, get_path\n",
    "\n",
    "path = get_path('examples/external_subsystems').relative_to(av.top_dir.parent)\n",
    "glue_variable(path, md_code=True)\n",
    "path = get_path('examples/external_subsystems/battery')\n",
    "glue_variable(path.stem, md_code=True)\n",
    "path = get_path('examples/external_subsystems/custom_mass')\n",
    "glue_variable(path.stem, md_code=True)\n",
    "\n",
    "glue_variable(get_variable_name(Aircraft.Wing.MASS), md_code=True)\n",
    "glue_variable(get_variable_name(Aircraft.HorizontalTail.MASS), md_code=True)\n",
    "\n",
    "aircraft_csv_file = 'aircraft_for_bench_FwFm.csv'\n",
    "get_model(aircraft_csv_file)\n",
    "glue_variable(aircraft_csv_file, md_code=True)"
   ]
  },
  {
   "cell_type": "markdown",
   "id": "2f17ec04",
   "metadata": {},
   "source": [
    "## Adding Subsystems\n",
    "\n",
    "Currently, there are a couple of examples: {glue:md}`battery` and {glue:md}`custom_mass`. Let us take a look at {glue:md}`custom_mass` first. As shown in this example, this is a simplified example of a component that computes a weight for the wing and horizontal tail. It does not provide realistic computations but rough estimates to {glue:md}`Aircraft.Wing.MASS` and {glue:md}`Aircraft.HorizontalTail.MASS`. When this external subsystem is added to your pre-mission phase, Aviary will compute these weights in its core subsystem as usual, but then the wing mass and tail mass values will be overridden by this external subsytem.\n",
    "\n",
    "In [level 2](onboarding_level2), we have briefly covered how to add external subsystems in {glue:md}`phase_info`. Alternatively, external subsystems (and any other new keys) can be added after a {glue:md}`phase_info` is loaded. Let us see how it works using the {glue:md}`aircraft_for_bench_FwFm.csv` model. First, we import this particular external subsystem.\n",
    "\n",
    "Then add this external subsystem to `pre_mission`.\n",
    "That is all you need to do in addition to our traditional level 2 examples. Here is the complete run script,"
   ]
  },
  {
   "cell_type": "code",
   "execution_count": null,
   "id": "a32983eb",
   "metadata": {
    "tags": [
     "remove-cell"
    ]
   },
   "outputs": [],
   "source": [
    "# Testing Cell\n",
    "import aviary.api as av\n",
    "from aviary.api import Aircraft\n",
    "from aviary.utils.doctape import check_value, glue_variable\n",
    "\n",
    "Aircraft.Wing.MASS\n",
    "Aircraft.HorizontalTail.MASS\n",
    "check_value(av.EquationsOfMotion.HEIGHT_ENERGY.value, 'height_energy')\n",
    "glue_variable(av.EquationsOfMotion.HEIGHT_ENERGY.value, md_code=False)"
   ]
  },
  {
   "cell_type": "code",
   "execution_count": null,
   "id": "527dc20b",
   "metadata": {},
   "outputs": [],
   "source": [
    "from copy import deepcopy\n",
    "\n",
    "import aviary.api as av\n",
    "from aviary.api import Aircraft\n",
    "from aviary.examples.external_subsystems.custom_mass.custom_mass_builder import (\n",
    "    WingMassBuilder,\n",
    ")\n",
    "\n",
    "# Max iterations set to 1 to reduce runtime of example\n",
    "max_iter = 1\n",
    "phase_info = deepcopy(av.default_height_energy_phase_info)\n",
    "# Here we just add the simple weight system to only the pre-mission\n",
    "phase_info['pre_mission']['external_subsystems'] = [WingMassBuilder(name='wing_external')]\n",
    "\n",
    "prob = av.AviaryProblem()\n",
    "\n",
    "# Load aircraft and options data from user\n",
    "# Allow for user overrides here\n",
    "prob.load_inputs(\n",
    "    'models/aircraft/test_aircraft/aircraft_for_bench_FwFm.csv',\n",
    "    phase_info,\n",
    ")\n",
    "\n",
    "prob.check_and_preprocess_inputs()\n",
    "\n",
    "prob.build_model()\n",
    "\n",
    "prob.add_driver('SLSQP', max_iter)\n",
    "\n",
    "prob.add_design_variables()\n",
    "\n",
    "prob.add_objective()\n",
    "\n",
    "prob.setup()\n",
    "\n",
    "prob.run_aviary_problem(suppress_solver_print=True)\n",
    "\n",
    "print('Engine Mass', prob.get_val(av.Aircraft.Engine.MASS))\n",
    "print('Wing Mass', prob.get_val(av.Aircraft.Wing.MASS))\n",
    "print('Horizontal Tail Mass', prob.get_val(av.Aircraft.HorizontalTail.MASS))"
   ]
  },
  {
   "cell_type": "markdown",
   "id": "3b1d3838",
   "metadata": {},
   "source": [
    "Ignore the intermediate warning messages and you see the outputs at the end.\n",
    "Since this is a {glue:md}`height_energy` mission and no objective is provided, we know that the objective is `fuel_burned`.\n",
    "\n",
    "To see the outputs without external subsystem add-on, let us comment out the lines that add the wing weight builder and run the modified script:"
   ]
  },
  {
   "cell_type": "code",
   "execution_count": null,
   "id": "294128d6",
   "metadata": {},
   "outputs": [],
   "source": [
    "# # Here we just add the simple weight system to only the pre-mission\n",
    "# phase_info['pre_mission']['external_subsystems'] = [WingWeightBuilder(name='wing_external')]\n",
    "\n",
    "# Max iterations set to 1 to reduce runtime of example\n",
    "max_iter = 1\n",
    "prob = av.AviaryProblem()\n",
    "\n",
    "# Load aircraft and options data from user\n",
    "# Allow for user overrides here\n",
    "prob.load_inputs(\n",
    "    'models/aircraft/test_aircraft/aircraft_for_bench_FwFm.csv',\n",
    "    av.default_height_energy_phase_info,\n",
    ")\n",
    "\n",
    "prob.check_and_preprocess_inputs()\n",
    "\n",
    "prob.build_model()\n",
    "\n",
    "prob.add_driver('SLSQP', max_iter)\n",
    "\n",
    "prob.add_design_variables()\n",
    "\n",
    "prob.add_objective()\n",
    "\n",
    "prob.setup()\n",
    "\n",
    "prob.run_aviary_problem(suppress_solver_print=True)\n",
    "\n",
    "print('Engine Mass', prob.get_val(Aircraft.Engine.MASS))\n",
    "print('Wing Mass', prob.get_val(Aircraft.Wing.MASS))\n",
    "print('Horizontal Tail Mass', prob.get_val(Aircraft.HorizontalTail.MASS))"
   ]
  },
  {
   "cell_type": "markdown",
   "id": "7df25fe0",
   "metadata": {},
   "source": [
    "As we see, the engine mass is not altered but wing mass and tail mass are changed dramatically. This is not surprising because our {glue:md}`custom_mass` subsystem is quite simple. Later on, we will show you a more realistic wing weight external subsystem."
   ]
  },
  {
   "cell_type": "code",
   "execution_count": null,
   "id": "d8ec009f",
   "metadata": {
    "tags": [
     "remove-cell"
    ]
   },
   "outputs": [],
   "source": [
    "# Testing Cell\n",
    "import inspect\n",
    "\n",
    "from aviary.interface.methods_for_level2 import AviaryProblem\n",
    "from aviary.utils.doctape import check_contains, glue_function_arguments\n",
    "\n",
    "imported_functions = {k for k, v in inspect.getmembers(AviaryProblem, inspect.isfunction)}\n",
    "check_contains(\n",
    "    [\n",
    "        '__init__',\n",
    "        'load_inputs',\n",
    "        'build_model',\n",
    "        'add_driver',\n",
    "        'add_design_variables',\n",
    "        'add_objective',\n",
    "        'setup',\n",
    "        'set_initial_guesses',\n",
    "        'run_aviary_problem',\n",
    "    ],\n",
    "    imported_functions,\n",
    ")\n",
    "\n",
    "# Retrieve all arguments from add_driver()\n",
    "glue_function_arguments(AviaryProblem.add_driver, current_glued_vars, md_code=True)"
   ]
  },
  {
   "cell_type": "code",
   "execution_count": null,
   "id": "f5dcecf3",
   "metadata": {
    "tags": [
     "remove-output"
    ]
   },
   "outputs": [],
   "source": [
    "# Testing Cell\n",
    "from aviary.models.missions.height_energy_default import phase_info\n",
    "from aviary.interface.methods_for_level2 import AviaryProblem\n",
    "from aviary.utils.doctape import glue_class_functions, glue_variable\n",
    "\n",
    "# Get all functions of class AviaryProblem\n",
    "glue_class_functions(AviaryProblem, [], md_code=False)\n",
    "\n",
    "# Retrieve all top-level keys of phase_info\n",
    "top_level_keys_list = [k for k in phase_info.keys() if k not in ('pre_mission', 'post_mission')]\n",
    "for key in top_level_keys_list:\n",
    "    glue_variable(key, md_code=False)"
   ]
  },
  {
   "cell_type": "markdown",
   "id": "8b725a39",
   "metadata": {},
   "source": [
    "## Adding battery subsystem\n",
    "\n",
    "In the above example, there is no new Aviary variable added to Aviary and the external subsystem is added to pre-mission only. So, the subsystem is not very involved. We will see a more complicated example now. Before we move on, let us recall the steps in Aviary model building:\n",
    "\n",
    "- **{glue:md}`__init__()`**\n",
    "- **{glue:md}`load_inputs()`**\n",
    "- **{glue:md}`build_model()`**\n",
    "- **{glue:md}`check_and_preprocess_inputs()`**\n",
    "- {glue:md}`add_driver()`\n",
    "- **{glue:md}`add_design_variables()`**\n",
    "- **{glue:md}`add_objective()`**\n",
    "- {glue:md}`setup()`\n",
    "- {glue:md}`run_aviary_problem()`\n",
    "\n",
    "The steps in bold are related specifically to subsystems. So, almost all of the steps involve subsystems. As long as your external subsystem is built based on the guidelines, Aviary will take care of your subsystem.\n",
    "\n",
    "The next example is the [battery subsystem](https://github.com/OpenMDAO/Aviary/blob/main/aviary/docs/user_guide/battery_subsystem_example). The battery subsystem provides methods to define the battery subsystem's states, design variables, fixed values, initial guesses, and mass names. It also provides methods to build OpenMDAO systems for the pre-mission and mission computations of the subsystem, to get the constraints for the subsystem, and to preprocess the inputs for the subsystem. This subsystem has its own set of variables. We will build an Aviary model with full phases (namely, {glue:md}`climb`, {glue:md}`cruise` and {glue:md}`descent`) and maximize the final total mass: {glue:md}`Dynamic.Vehicle.MASS`."
   ]
  },
  {
   "cell_type": "code",
   "execution_count": null,
   "id": "d48a499b",
   "metadata": {
    "tags": [
     "remove-cell"
    ]
   },
   "outputs": [],
   "source": [
    "# Testing Cell\n",
    "from aviary.api import Dynamic\n",
    "from aviary.examples.external_subsystems.battery.battery_builder import BatteryBuilder\n",
    "from aviary.utils.doctape import glue_variable\n",
    "\n",
    "glue_variable(BatteryBuilder.__name__, md_code=True)"
   ]
  },
  {
   "cell_type": "markdown",
   "id": "689d7dcb",
   "metadata": {},
   "source": [
    "We also need {glue:md}`BatteryBuilder` along with battery related aircraft variables and build a new battery object.\n",
    "Now, add our new battery subsystem into each phase including pre-mission:"
   ]
  },
  {
   "cell_type": "code",
   "execution_count": null,
   "id": "62013c65",
   "metadata": {},
   "outputs": [],
   "source": [
    "from aviary.examples.external_subsystems.battery.battery_builder import BatteryBuilder\n",
    "from aviary.examples.external_subsystems.battery.battery_variable_meta_data import ExtendedMetaData\n",
    "from aviary.examples.external_subsystems.battery.battery_variables import Aircraft\n",
    "\n",
    "battery_builder = BatteryBuilder(include_constraints=False)\n",
    "\n",
    "phase_info['pre_mission']['external_subsystems'] = [battery_builder]\n",
    "phase_info['climb']['external_subsystems'] = [battery_builder]\n",
    "phase_info['cruise']['external_subsystems'] = [battery_builder]\n",
    "phase_info['descent']['external_subsystems'] = [battery_builder]"
   ]
  },
  {
   "cell_type": "markdown",
   "id": "4ad934a5",
   "metadata": {},
   "source": [
    "Start an Aviary problem and load in an aircraft input deck:"
   ]
  },
  {
   "cell_type": "code",
   "execution_count": null,
   "id": "25d2ceb6",
   "metadata": {},
   "outputs": [],
   "source": [
    "prob = av.AviaryProblem()\n",
    "\n",
    "prob.load_inputs(\n",
    "    'models/aircraft/test_aircraft/aircraft_for_bench_FwFm.csv',\n",
    "    phase_info,\n",
    "    meta_data=ExtendedMetaData,\n",
    ")\n",
    "\n",
    "prob.check_and_preprocess_inputs()"
   ]
  },
  {
   "cell_type": "markdown",
   "id": "96ebdf23",
   "metadata": {},
   "source": [
    "Since this example contains new variables in the aircraft hierarchy, the metadata for those variables was added to an extended metadata dictionary. We need to pass that into load_inputs so that it can load susbsystem-specific inputs from the csv file.\n",
    "\n",
    "The inputs are then checked by calling check_and_preprocess_inputs."
   ]
  },
  {
   "cell_type": "markdown",
   "id": "e8e14515",
   "metadata": {},
   "source": [
    "In the battery subsystem, the type of battery cell we use is `18650`. This type of battery information is set in `preprocess_inputs()` within `examples/external_subsystems/batterybattery_builder.py`.\n",
    "\n",
    "### Checking in the setup function call\n",
    "\n",
    "The OpenMDAO Function {glue:md}`setup()` can have an argument `check` with default value `None` (see [here](https://openmdao.org/newdocs/versions/latest/features/core_features/running_your_models/setup.html)). If we set it to `True`, it will cause a default set of checks to be run. So, instead of a simple {glue:md}`setup()` call, let us call it with `check=True`.\n",
    "\n",
    "The following are a few check points printed on the command line:\n",
    "\n",
    "```\n",
    "INFO: checking out_of_order\n",
    "INFO: checking system\n",
    "INFO: checking solvers\n",
    "INFO: checking dup_inputs\n",
    "INFO: checking missing_recorders\n",
    "```\n"
   ]
  },
  {
   "cell_type": "code",
   "execution_count": null,
   "id": "00ca5a1f",
   "metadata": {},
   "outputs": [],
   "source": [
    "prob.build_model()\n",
    "\n",
    "max_iter = 1\n",
    "prob.add_driver('SLSQP', max_iter)\n",
    "\n",
    "prob.add_design_variables()\n",
    "\n",
    "prob.add_objective('mass')\n",
    "\n",
    "prob.setup(check=True)\n",
    "\n",
    "prob.set_initial_guesses()\n",
    "\n",
    "prob.run_aviary_problem()\n",
    "\n",
    "# user defined outputs\n",
    "print('Battery MASS', prob.get_val(Aircraft.Battery.MASS))\n",
    "print('Cell Max', prob.get_val(Aircraft.Battery.Cell.MASS))\n",
    "masses_descent = prob.get_val('traj.descent.timeseries.mass', units='kg')\n",
    "print(f'Final Descent Mass: {masses_descent[-1]}')\n",
    "\n",
    "print('done')"
   ]
  },
  {
   "cell_type": "markdown",
   "id": "2fff1bd5",
   "metadata": {},
   "source": [
    "## More on outputs\n",
    "\n",
    "We are done with our model. For our current example, let us add a few more lines after the aviary run:"
   ]
  },
  {
   "cell_type": "code",
   "execution_count": null,
   "id": "8d376033",
   "metadata": {},
   "outputs": [],
   "source": [
    "print('Battery MASS', prob.get_val(Aircraft.Battery.MASS, units='lbm'))\n",
    "print('Cell Max', prob.get_val(Aircraft.Battery.Cell.MASS))"
   ]
  },
  {
   "cell_type": "code",
   "execution_count": null,
   "id": "45764df7",
   "metadata": {
    "tags": [
     "remove-cell"
    ]
   },
   "outputs": [],
   "source": [
    "# Testing Cell\n",
    "from aviary.utils.doctape import get_variable_name, glue_variable\n",
    "\n",
    "glue_variable(get_variable_name(Dynamic.Vehicle.MASS), md_code=True)"
   ]
  },
  {
   "cell_type": "markdown",
   "id": "ed8c764a",
   "metadata": {},
   "source": [
    "Since our objective is `mass`, we want to print the value of {glue:md}`Dynamic.Vehicle.MASS`. Remember, we have imported Dynamic from aviary.variable_info.variables for this purpose.\n",
    "\n",
    "So, we have to print the final mass in a different way. Keep in mind that we have three phases in the mission and that final mass is our objective. So, we can get the final mass of the descent phase instead. Let us try this approach. Let us comment out the print statement of final mass (and the import of Dynamic), then add the following lines:"
   ]
  },
  {
   "cell_type": "code",
   "execution_count": null,
   "id": "eed4e9cf",
   "metadata": {},
   "outputs": [],
   "source": [
    "masses_descent = prob.get_val('traj.descent.timeseries.mass', units='kg')\n",
    "print(f'Final Descent Mass: {masses_descent[-1]}')"
   ]
  },
  {
   "cell_type": "code",
   "execution_count": null,
   "id": "046ffc08",
   "metadata": {
    "tags": [
     "remove-cell"
    ]
   },
   "outputs": [],
   "source": [
    "# Testing Cell\n",
    "from openmdao.utils.assert_utils import assert_near_equal\n",
    "\n",
    "from aviary.examples.external_subsystems.battery.battery_builder import BatteryBuilder\n",
    "from aviary.examples.external_subsystems.battery.battery_variable_meta_data import ExtendedMetaData\n",
    "from aviary.examples.external_subsystems.battery.battery_variables import Dynamic\n",
    "\n",
    "battery_builder = BatteryBuilder(include_constraints=False)\n",
    "\n",
    "phase_info['pre_mission']['external_subsystems'] = [battery_builder]\n",
    "phase_info['climb']['external_subsystems'] = [battery_builder]\n",
    "phase_info['cruise']['external_subsystems'] = [battery_builder]\n",
    "phase_info['descent']['external_subsystems'] = [battery_builder]\n",
    "\n",
    "prob = av.AviaryProblem()\n",
    "\n",
    "prob.load_inputs(\n",
    "    'models/aircraft/test_aircraft/aircraft_for_bench_FwFm.csv',\n",
    "    phase_info,\n",
    "    meta_data=ExtendedMetaData,\n",
    ")\n",
    "\n",
    "prob.check_and_preprocess_inputs()\n",
    "\n",
    "prob.build_model()\n",
    "\n",
    "max_iter = 1\n",
    "prob.add_driver('SLSQP', max_iter)\n",
    "\n",
    "prob.add_design_variables()\n",
    "\n",
    "# prob.add_objective('mass')\n",
    "prob.model.add_objective(f'traj.climb.states:{Dynamic.Battery.STATE_OF_CHARGE}', index=-1, ref=-1)\n",
    "\n",
    "prob.setup(check=True)\n",
    "\n",
    "prob.set_initial_guesses()\n",
    "\n",
    "prob.run_aviary_problem()\n",
    "\n",
    "\n",
    "soc_cruise = prob.get_val('traj.climb.timeseries.dynamic:battery:state_of_charge')\n",
    "state_of_charge = soc_cruise[-1]\n",
    "expected_soc = 0.91333333\n",
    "assert_near_equal(state_of_charge[0], expected_soc, 1e-5)\n",
    "glue_variable('expected_soc', '[' + str(expected_soc) + ']', md_code=False)"
   ]
  },
  {
   "cell_type": "markdown",
   "id": "69ffb9a2",
   "metadata": {},
   "source": [
    "# Level 3\n",
    "\n",
    "Level 3 represents the highest level of user control and customization in Aviary's user interface.\n",
    "At this level, users have full access to Python and OpenMDAO methods that Aviary calls.\n",
    "They can use the complete set of Aviary's methods, functionalities, and classes to construct and fine-tune their aircraft models.\n",
    "Level 3 enables users to have supreme control over every aspect of the model, including subsystems, connections, and advanced optimization techniques.\n",
    "\n",
    "Level 3 is the most complex but specific methods defined at this level are used in levels 1 and 2, hopefully reducing user activation energy when learning more about Aviary.\n",
    "This progressive approach helps users gradually enhance their analysis capabilities and adapt to more complex modeling requirements as they gain proficiency and experience."
   ]
  },
  {
   "cell_type": "markdown",
   "id": "a60948bc",
   "metadata": {},
   "source": [
    "## More on objectives\n",
    "\n",
    "Now, let us change our objective to battery state of charge after the climb phase. So, comment out `prob.add_objective('mass')` and add the following line right after:\n",
    "\n",
    "```\n",
    "prob.model.add_objective(\n",
    "    f'traj.climb.states:{Dynamic.Battery.STATE_OF_CHARGE}', index=-1, ref=-1)\n",
    "```\n",
    "\n",
    "In the above, `index=-1` means the end of climb phase and `ref=-1` means that we want to maximize the state of charge at the end of climb phase. Once again, we are unable to print battery state of charge as we did with battery mass and battery cell mass. We will use the same approach to get mass. In fact, we have prepared for this purpose by setting up time series of climb and cruise phases as well. All we need to do is to add the following lines:\n",
    "\n",
    "```\n",
    "soc_cruise = prob.get_val(\n",
    "    'traj.climb.timeseries.dynamic:battery:state_of_charge')\n",
    "print(f'State of Charge: {soc_cruise[-1]}')\n",
    "```\n",
    "\n",
    "Now you get a new output:\n",
    "\n",
    "State of Charge: {glue:md}`expected_soc`\n"
   ]
  },
  {
   "cell_type": "markdown",
   "id": "06252511",
   "metadata": {},
   "source": [
    "## The check_partials function\n",
    "\n",
    "In order to make sure that your model computes all the derivatives correctly, OpenMDAO provides a [method called `check_partials`](https://openmdao.org/newdocs/versions/latest/features/core_features/working_with_derivatives/basic_check_partials.html) which checks partial derivatives comprehensively for all Components in your model.\n",
    "You should check your partial derivatives before integrating your external subsystem.\n",
    "This is a good practice to ensure that your model is working correctly and can be used in an optimization context."
   ]
  },
  {
   "cell_type": "markdown",
   "id": "11a63365",
   "metadata": {},
   "source": [
    "## Adding an OpenAeroStruct wingbox external subsystem\n",
    "\n",
    "[OpenAeroStruct](https://github.com/mdolab/OpenAerostruct/) (OAS) is a lightweight tool that performs aerostructural optimization using OpenMDAO. This is an example that shows you how to use an existing external package with Aviary."
   ]
  },
  {
   "cell_type": "markdown",
   "id": "2962e2f1",
   "metadata": {},
   "source": [
    "### Installation of OpenAeroStruct\n",
    "\n",
    "We would like to have easy access to the examples and source code. So we install OpenAeroStruct by cloning the OpenAeroStruct repository. We show you how to do the installation on Linux. Assume you want to install it at `~/$USER/workspace`. Do the following:\n",
    "\n",
    "```\n",
    "cd ~/$USER/workspace\n",
    "git clone https://github.com/mdolab/OpenAeroStruct.git\n",
    "~/$USER/workspace/OpenAeroStruct\n",
    "pip install -e .\n",
    "```\n",
    "\n",
    "If everything runs smoothly, you should see something like:\n",
    "\n",
    "```\n",
    "Successfully installed openaerostruct\n",
    "```\n",
    "\n",
    "Most of the packages that OpenAeroStruct depends on are installed already (see [here](https://mdolab-openaerostruct.readthedocs-hosted.com/en/latest/installation.html)). For our example, we need [ambiance](https://pypi.org/project/ambiance/) and an optional package: [OpenVSP](http://openvsp.org/).\n",
    "\n",
    "To install `ambiance`, do the following:\n",
    "\n",
    "```\n",
    "pip install ambiance\n",
    "```\n",
    "\n",
    "You should see something like:\n",
    "\n",
    "```\n",
    "Installing collected packages: ambiance\n",
    "Successfully installed ambiance-1.3.1\n",
    "```\n",
    "\n",
    "```{note}\n",
    "You must ensure that the Python version in your environment matches the Python used to compile OpenVSP. You must [install OpenVSP](https://openvsp.org/wiki/doku.php?id=install) on your Linux box yourself.\n",
    "```\n",
    "\n",
    "To check your installation of OpenVSP is successful, please run\n",
    "\n",
    "```\n",
    "(av1)$ python openaerostruct/tests/test_vsp_aero_analysis.py\n",
    "```\n",
    "\n",
    "Windows users should visit [OpenVSP](http://openvsp.org/download.php) and follow the instruction there."
   ]
  },
  {
   "cell_type": "markdown",
   "id": "3eb10495",
   "metadata": {},
   "source": [
    "### Understanding the OpenAeroStruct Example\n",
    "\n",
    "The OpenAeroStruct example is explained in detail in [Using Aviary and OpenAeroStruct Together](../examples/OAS_subsystem)."
   ]
  },
  {
   "cell_type": "code",
   "execution_count": null,
   "id": "b9ce7c16",
   "metadata": {
    "tags": [
     "remove-output"
    ]
   },
   "outputs": [],
   "source": [
    "# Testing Cell\n",
    "from aviary.examples.external_subsystems.OAS_mass.OAS_wing_mass_builder import (\n",
    "    OASWingMassBuilder,\n",
    ")\n",
    "from aviary.utils.doctape import glue_variable\n",
    "\n",
    "glue_variable(OASWingMassBuilder.__name__, md_code=True)"
   ]
  },
  {
   "cell_type": "markdown",
   "id": "a9d285b7",
   "metadata": {},
   "source": [
    "### Running the OpenAeroStruct Example\n",
    "\n",
    "We are ready to run this example. First, we create an {glue:md}`OASWingMassBuilder` instance."
   ]
  },
  {
   "cell_type": "code",
   "execution_count": null,
   "id": "1e4482ac",
   "metadata": {},
   "outputs": [],
   "source": [
    "import numpy as np\n",
    "import openmdao.api as om\n",
    "\n",
    "import aviary.api as av\n",
    "from aviary.examples.external_subsystems.OAS_mass.OAS_wing_mass_builder import (\n",
    "    OASWingMassBuilder,\n",
    ")\n",
    "\n",
    "wing_weight_builder = OASWingMassBuilder()"
   ]
  },
  {
   "cell_type": "markdown",
   "id": "3f657b61",
   "metadata": {},
   "source": [
    "Let's add a few phases in the mission. In particular, let's add the object we just created as an external subsystem to `pre_mission`.\n",
    "We are only adding to `pre_mission` here as the OpenAeroStruct design is only done in the sizing portion of pre-mission and doesn't need to be called during the mission."
   ]
  },
  {
   "cell_type": "code",
   "execution_count": null,
   "id": "d779a398",
   "metadata": {},
   "outputs": [],
   "source": [
    "# Load the phase_info and other common setup tasks\n",
    "phase_info = {\n",
    "    'climb_1': {\n",
    "        'subsystem_options': {'core_aerodynamics': {'method': 'computed'}},\n",
    "        'user_options': {\n",
    "            'num_segments': 5,\n",
    "            'order': 3,\n",
    "            'distance_solve_segments': False,\n",
    "            'mach_optimize': False,\n",
    "            'mach_polynomial_order': 1,\n",
    "            'mach_initial': (0.2, 'unitless'),\n",
    "            'mach_final': (0.72, 'unitless'),\n",
    "            'mach_bounds': ((0.18, 0.74), 'unitless'),\n",
    "            'altitude_optimize': False,\n",
    "            'altitude_polynomial_order': 1,\n",
    "            'altitude_initial': (0.0, 'ft'),\n",
    "            'altitude_final': (32000.0, 'ft'),\n",
    "            'altitude_bounds': ((0.0, 34000.0), 'ft'),\n",
    "            'throttle_enforcement': 'path_constraint',\n",
    "            'time_initial_bounds': ((0.0, 0.0), 'min'),\n",
    "            'time_duration_bounds': ((64.0, 192.0), 'min'),\n",
    "        },\n",
    "        'initial_guesses': {'time': ([0, 128], 'min')},\n",
    "    },\n",
    "    'climb_2': {\n",
    "        'subsystem_options': {'core_aerodynamics': {'method': 'computed'}},\n",
    "        'user_options': {\n",
    "            'num_segments': 5,\n",
    "            'order': 3,\n",
    "            'mach_optimize': False,\n",
    "            'mach_polynomial_order': 1,\n",
    "            'mach_initial': (0.72, 'unitless'),\n",
    "            'mach_final': (0.72, 'unitless'),\n",
    "            'mach_bounds': ((0.7, 0.74), 'unitless'),\n",
    "            'altitude_optimize': False,\n",
    "            'altitude_polynomial_order': 1,\n",
    "            'altitude_initial': (32000.0, 'ft'),\n",
    "            'altitude_final': (34000.0, 'ft'),\n",
    "            'altitude_bounds': ((23000.0, 38000.0), 'ft'),\n",
    "            'throttle_enforcement': 'boundary_constraint',\n",
    "            'time_initial_bounds': ((64.0, 192.0), 'min'),\n",
    "            'time_duration_bounds': ((56.5, 169.5), 'min'),\n",
    "        },\n",
    "        'initial_guesses': {'time': ([128, 113], 'min')},\n",
    "    },\n",
    "    'descent_1': {\n",
    "        'subsystem_options': {'core_aerodynamics': {'method': 'computed'}},\n",
    "        'user_options': {\n",
    "            'num_segments': 5,\n",
    "            'order': 3,\n",
    "            'mach_optimize': False,\n",
    "            'mach_polynomial_order': 1,\n",
    "            'mach_initial': (0.72, 'unitless'),\n",
    "            'mach_final': (0.36, 'unitless'),\n",
    "            'mach_bounds': ((0.34, 0.74), 'unitless'),\n",
    "            'altitude_optimize': False,\n",
    "            'altitude_polynomial_order': 1,\n",
    "            'altitude_initial': (34000.0, 'ft'),\n",
    "            'altitude_final': (500.0, 'ft'),\n",
    "            'altitude_bounds': ((0.0, 38000.0), 'ft'),\n",
    "            'throttle_enforcement': 'path_constraint',\n",
    "            'time_initial_bounds': ((120.5, 361.5), 'min'),\n",
    "            'time_duration_bounds': ((29.0, 87.0), 'min'),\n",
    "        },\n",
    "        'initial_guesses': {'time': ([241, 58], 'min')},\n",
    "    },\n",
    "    'post_mission': {\n",
    "        'include_landing': False,\n",
    "        'constrain_range': True,\n",
    "        'target_range': (1800.0, 'nmi'),\n",
    "    },\n",
    "}\n",
    "\n",
    "phase_info['pre_mission'] = {'include_takeoff': False, 'optimize_mass': True}\n",
    "phase_info['pre_mission']['external_subsystems'] = [wing_weight_builder]"
   ]
  },
  {
   "cell_type": "markdown",
   "id": "0f1ce46e",
   "metadata": {},
   "source": [
    "We can now create an Aviary problem, load in an aircraft input deck, and do routine input checks:"
   ]
  },
  {
   "cell_type": "code",
   "execution_count": null,
   "id": "4bef599e",
   "metadata": {},
   "outputs": [],
   "source": [
    "aircraft_definition_file = 'models/aircraft/test_aircraft/aircraft_for_bench_FwFm.csv'\n",
    "make_plots = False\n",
    "max_iter = 0\n",
    "optimizer = 'SNOPT'\n",
    "\n",
    "prob = av.AviaryProblem()\n",
    "\n",
    "prob.load_inputs(aircraft_definition_file, phase_info)\n",
    "prob.check_and_preprocess_inputs()\n",
    "prob.build_model()"
   ]
  },
  {
   "cell_type": "markdown",
   "id": "0802ff94",
   "metadata": {},
   "source": [
    "Next we select the driver and call setup on the problem:"
   ]
  },
  {
   "cell_type": "code",
   "execution_count": null,
   "id": "b4491a9d",
   "metadata": {},
   "outputs": [],
   "source": [
    "driver = prob.driver = om.pyOptSparseDriver()\n",
    "driver.options['optimizer'] = optimizer\n",
    "driver.declare_coloring()\n",
    "driver.opt_settings['Major iterations limit'] = max_iter\n",
    "driver.opt_settings['Major optimality tolerance'] = 1e-4\n",
    "driver.opt_settings['Major feasibility tolerance'] = 1e-5\n",
    "driver.opt_settings['iSumm'] = 6\n",
    "\n",
    "prob.add_design_variables()\n",
    "prob.add_objective()\n",
    "prob.setup()"
   ]
  },
  {
   "cell_type": "markdown",
   "id": "354d81f3",
   "metadata": {},
   "source": [
    "Now we need to set some OpenAeroStruct-specific parameters before running Aviary:"
   ]
  },
  {
   "cell_type": "code",
   "execution_count": null,
   "id": "3d83c778",
   "metadata": {},
   "outputs": [],
   "source": [
    "OAS_sys = 'pre_mission.wing_mass.aerostructures.'\n",
    "# fmt: off\n",
    "prob.set_val(\n",
    "    OAS_sys + 'box_upper_x',\n",
    "    np.array(\n",
    "        [\n",
    "            0.1, 0.11, 0.12, 0.13, 0.14, 0.15, 0.16, 0.17, 0.18, 0.19, 0.2, 0.21, 0.22, 0.23, 0.24,\n",
    "            0.25, 0.26, 0.27, 0.28, 0.29, 0.3, 0.31, 0.32, 0.33, 0.34, 0.35, 0.36, 0.37, 0.38, 0.39,\n",
    "            0.4, 0.41, 0.42, 0.43, 0.44, 0.45, 0.46, 0.47, 0.48, 0.49, 0.5, 0.51, 0.52, 0.53, 0.54,\n",
    "            0.55, 0.56, 0.57, 0.58, 0.59, 0.6,\n",
    "        ]\n",
    "    ),\n",
    "    units='unitless',\n",
    ")\n",
    "\n",
    "prob.set_val(\n",
    "    OAS_sys + 'box_lower_x',\n",
    "    np.array(\n",
    "        [\n",
    "            0.1, 0.11, 0.12, 0.13, 0.14, 0.15, 0.16, 0.17, 0.18, 0.19, 0.2, 0.21, 0.22, 0.23, 0.24,\n",
    "            0.25, 0.26, 0.27, 0.28, 0.29, 0.3, 0.31, 0.32, 0.33, 0.34, 0.35, 0.36, 0.37, 0.38, 0.39,\n",
    "            0.4, 0.41, 0.42, 0.43, 0.44, 0.45, 0.46, 0.47, 0.48, 0.49, 0.5, 0.51, 0.52, 0.53, 0.54,\n",
    "            0.55, 0.56, 0.57, 0.58, 0.59, 0.6,\n",
    "        ]\n",
    "    ),\n",
    "    units='unitless',\n",
    ")\n",
    "\n",
    "prob.set_val(\n",
    "    OAS_sys + 'box_upper_y',\n",
    "    np.array(\n",
    "        [\n",
    "            0.0447, 0.046, 0.0472, 0.0484, 0.0495, 0.0505, 0.0514, 0.0523, 0.0531, 0.0538, 0.0545,\n",
    "            0.0551, 0.0557, 0.0563, 0.0568, 0.0573, 0.0577, 0.0581, 0.0585, 0.0588, 0.0591, 0.0593,\n",
    "            0.0595, 0.0597, 0.0599, 0.06, 0.0601, 0.0602, 0.0602, 0.0602, 0.0602, 0.0602, 0.0601,\n",
    "            0.06, 0.0599, 0.0598, 0.0596, 0.0594, 0.0592, 0.0589, 0.0586, 0.0583, 0.058, 0.0576,\n",
    "            0.0572, 0.0568, 0.0563, 0.0558, 0.0553, 0.0547, 0.0541,\n",
    "        ]\n",
    "    ),\n",
    "    units='unitless',\n",
    ")\n",
    "\n",
    "prob.set_val(\n",
    "    OAS_sys + 'box_lower_y',\n",
    "    np.array(\n",
    "        [\n",
    "            -0.0447, -0.046, -0.0473, -0.0485, -0.0496, -0.0506, -0.0515, -0.0524, -0.0532, -0.054,\n",
    "            -0.0547, -0.0554, -0.056, -0.0565, -0.057, -0.0575, -0.0579, -0.0583, -0.0586, -0.0589,\n",
    "            -0.0592, -0.0594, -0.0595, -0.0596, -0.0597, -0.0598, -0.0598, -0.0598, -0.0598,\n",
    "            -0.0597, -0.0596, -0.0594, -0.0592, -0.0589, -0.0586, -0.0582, -0.0578, -0.0573,\n",
    "            -0.0567, -0.0561, -0.0554, -0.0546, -0.0538, -0.0529, -0.0519, -0.0509, -0.0497, \n",
    "            -0.0485, -0.0472, -0.0458, -0.0444,\n",
    "        ]\n",
    "    ),\n",
    "    units='unitless',\n",
    ")\n",
    "# fmt: on\n",
    "\n",
    "prob.set_val(OAS_sys + 'twist_cp', np.array([-6.0, -6.0, -4.0, 0.0]), units='deg')\n",
    "prob.set_val(OAS_sys + 'spar_thickness_cp', np.array([0.004, 0.005, 0.008, 0.01]), units='m')\n",
    "prob.set_val(OAS_sys + 'skin_thickness_cp', np.array([0.005, 0.01, 0.015, 0.025]), units='m')\n",
    "prob.set_val(OAS_sys + 't_over_c_cp', np.array([0.08, 0.08, 0.10, 0.08]), units='unitless')\n",
    "prob.set_val(OAS_sys + 'airfoil_t_over_c', 0.12, units='unitless')\n",
    "prob.set_val(OAS_sys + 'fuel', 40044.0, units='lbm')\n",
    "prob.set_val(OAS_sys + 'fuel_reserve', 3000.0, units='lbm')\n",
    "prob.set_val(OAS_sys + 'CD0', 0.0078, units='unitless')\n",
    "prob.set_val(OAS_sys + 'cruise_Mach', 0.785, units='unitless')\n",
    "prob.set_val(OAS_sys + 'cruise_altitude', 11303.682962301647, units='m')\n",
    "prob.set_val(OAS_sys + 'cruise_range', 3500, units='nmi')\n",
    "prob.set_val(OAS_sys + 'cruise_SFC', 0.53 / 3600, units='1/s')\n",
    "prob.set_val(OAS_sys + 'engine_mass', 7400, units='lbm')\n",
    "prob.set_val(OAS_sys + 'engine_location', np.array([25, -10.0, 0.0]), units='m')"
   ]
  },
  {
   "cell_type": "markdown",
   "id": "e61579fc",
   "metadata": {},
   "source": [
    "We are now ready to run Aviary on this model."
   ]
  },
  {
   "cell_type": "code",
   "execution_count": null,
   "id": "9eca5661",
   "metadata": {},
   "outputs": [],
   "source": [
    "prob.run_aviary_problem('oas_solution.db', run_driver=False, make_plots=False)"
   ]
  },
  {
   "cell_type": "markdown",
   "id": "d345e83d",
   "metadata": {},
   "source": [
    "Note that there are multiple numbers of optimization loops that are output from this run even though we have set {glue:md}`max_iter` to 0.\n",
    "This is because OpenAeroStruct has an optimization process internally. In order to shorten the runtime, we have set `run_driver = False`. This means that we will not run optimization but [run model](https://openmdao.org/newdocs/versions/latest/features/core_features/running_your_models/run_model.html). "
   ]
  },
  {
   "cell_type": "markdown",
   "id": "b72253c8",
   "metadata": {},
   "source": [
    "Finally, we print the newly computed wing mass:"
   ]
  },
  {
   "cell_type": "code",
   "execution_count": null,
   "id": "dbb2078f",
   "metadata": {},
   "outputs": [],
   "source": [
    "print('wing mass = ', prob.model.get_val(av.Aircraft.Wing.MASS, units='lbm'))"
   ]
  },
  {
   "cell_type": "markdown",
   "id": "c04ddce7",
   "metadata": {},
   "source": [
    "The result is comparable to the output without OpenAeroStruct external subsystem."
   ]
  }
 ],
 "metadata": {
  "kernelspec": {
   "display_name": "Python 3 (ipykernel)",
   "language": "python",
   "name": "python3"
  },
  "language_info": {
   "codemirror_mode": {
    "name": "ipython",
    "version": 3
   },
   "file_extension": ".py",
   "mimetype": "text/x-python",
   "name": "python",
   "nbconvert_exporter": "python",
   "pygments_lexer": "ipython3",
   "version": "3.12.3"
  }
 },
 "nbformat": 4,
 "nbformat_minor": 5
}
