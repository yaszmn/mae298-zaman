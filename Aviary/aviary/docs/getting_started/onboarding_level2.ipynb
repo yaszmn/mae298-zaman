{
 "cells": [
  {
   "cell_type": "markdown",
   "id": "cd250ed3",
   "metadata": {},
   "source": [
    "# Level 2\n",
    "\n",
    "We have discussed [Level 1](onboarding_level1) in great detail. As we have seen, Level 1 is relatively simple.\n",
    "\n",
    "In Level 2, we see more flexibility and additional choices. You will be exposed to some simple Python code and see how Aviary establishes a problem from beginning to end. Each step is built upon the capabilities of [Level 3](onboarding_level3). Users will be led to Level 3 in a natural way."
   ]
  },
  {
   "cell_type": "code",
   "execution_count": null,
   "id": "1e1804c6",
   "metadata": {
    "tags": [
     "remove-cell"
    ]
   },
   "outputs": [],
   "source": [
    "# Testing Cell\n",
    "import aviary.api as av\n",
    "from aviary.api import Dynamic, Mission\n",
    "from aviary.interface.methods_for_level1 import run_aviary\n",
    "from aviary.interface.methods_for_level2 import AviaryProblem\n",
    "from aviary.core.aviary_group import AviaryGroup\n",
    "from aviary.utils.doctape import (\n",
    "    get_variable_name,\n",
    "    glue_function_arguments,\n",
    "    glue_keys,\n",
    "    glue_variable,\n",
    "    glue_class_functions,\n",
    ")\n",
    "\n",
    "current_glued_vars = []\n",
    "\n",
    "file_path = av.get_path('interface/methods_for_level1.py').relative_to(av.top_dir)\n",
    "glue_variable(file_path, md_code=True)\n",
    "glue_variable(file_path.name, md_code=True)\n",
    "\n",
    "glue_variable(run_aviary.__name__ + '()', md_code=True)\n",
    "AviaryValues = av.AviaryValues\n",
    "glue_variable(AviaryValues.__name__, md_code=True)\n",
    "\n",
    "# glue all argument of function run_aviary()\n",
    "glue_function_arguments(run_aviary, current_glued_vars, glue_default=True, md_code=True)\n",
    "\n",
    "# Get all methods of class AviaryProblem\n",
    "glue_class_functions(AviaryProblem, current_glued_vars, prefix='prob', md_code=True)\n",
    "\n",
    "glue_keys(dict(av.ProblemType.__members__))\n",
    "ProblemType = av.ProblemType\n",
    "glue_variable(ProblemType.__name__, md_code=True)\n",
    "\n",
    "glue_variable(get_variable_name(Mission.Objectives.FUEL), md_code=True)\n",
    "glue_variable(get_variable_name(Mission.Objectives.RANGE), md_code=True)\n",
    "glue_variable(get_variable_name(Dynamic.Vehicle.MASS), md_code=True)\n",
    "\n",
    "glue_variable('HEIGHT_ENERGY', av.EquationsOfMotion.HEIGHT_ENERGY.name, md_code=True)\n",
    "glue_variable(\n",
    "    'TWO_DEGREES_OF_FREEDOM', av.EquationsOfMotion.TWO_DEGREES_OF_FREEDOM.name, md_code=False\n",
    ")\n",
    "glue_variable('SOLVED_2DOF', av.EquationsOfMotion.SOLVED_2DOF.name, md_code=True)\n",
    "\n",
    "glue_variable('height_energy', av.EquationsOfMotion.HEIGHT_ENERGY.value, md_code=True)\n",
    "glue_variable('2DOF', av.EquationsOfMotion.TWO_DEGREES_OF_FREEDOM.value, md_code=True)\n",
    "glue_variable('solved_2DOF', av.EquationsOfMotion.SOLVED_2DOF.value, md_code=True)\n",
    "\n",
    "glue_variable('problem_type', av.Settings.PROBLEM_TYPE.split(':')[1], md_code=True)"
   ]
  },
  {
   "cell_type": "code",
   "execution_count": null,
   "id": "5614146d",
   "metadata": {
    "tags": [
     "remove-cell"
    ]
   },
   "outputs": [],
   "source": [
    "# Testing Cell\n",
    "import aviary.api as av\n",
    "from aviary.utils.doctape import glue_variable, run_command_no_file_error\n",
    "from aviary.utils.functions import get_path\n",
    "\n",
    "file_path = 'models/aircraft/test_aircraft/aircraft_for_bench_GwGm.csv'\n",
    "\n",
    "command = 'aviary run_mission ' + file_path\n",
    "glue_variable(command, md_code=True)\n",
    "command += ' --max_iter 0 --optimizer IPOPT'\n",
    "run_command_no_file_error(command)\n",
    "\n",
    "file_path = get_path(file_path)\n",
    "glue_variable(file_path.name, md_code=True)\n",
    "glue_variable(file_path.stem, md_code=True)\n",
    "\n",
    "phase_info_path = av.get_path('models/missions/two_dof_default.py').relative_to(av.top_dir.parent)\n",
    "glue_variable('phase_info_path', phase_info_path, md_code=True)"
   ]
  },
  {
   "cell_type": "markdown",
   "id": "04133934",
   "metadata": {},
   "source": [
    "Level 2 is defined in the [aviary/interface/methods_for_level1.py file](https://github.com/OpenMDAO/Aviary/blob/main/aviary/interface/methods_for_level1.py) and it has a method {glue:md}`run_aviary()` with a few arguments. If you examine {glue:md}`interface/methods_for_level1.py` you see that Level 1 prepares those arguments and then call {glue:md}`run_aviary()`. For {glue:md}`aviary run_mission models/aircraft/test_aircraft/aircraft_for_bench_GwGm.csv` examples, those arguments and their values are:\n",
    "\n",
    "- {glue:md}`aircraft_data`: {glue:md}`aircraft_for_bench_GwGm.csv`\n",
    "- {glue:md}`phase_info`: not provided (and will be loaded from {glue:md}`phase_info_path`)\n",
    "- {glue:md}`optimizer`: {glue:md}`optimizer_default`\n",
    "- {glue:md}`objective_type`: {glue:md}`objective_type_default`\n",
    "- {glue:md}`restart_filename`: {glue:md}`restart_filename_default`\n",
    "- {glue:md}`max_iter`: {glue:md}`max_iter_default`\n",
    "- {glue:md}`run_driver`: {glue:md}`run_driver_default`\n",
    "- {glue:md}`make_plots`: {glue:md}`make_plots_default`\n",
    "- {glue:md}`phase_info_parameterization`: {glue:md}`phase_info_parameterization_default`\n",
    "- {glue:md}`verbosity`: {glue:md}`verbosity_default`\n",
    "\n",
    "All the above arguments are straightforward except {glue:md}`objective_type`. Even though {glue:md}`objective_type` is `None`, it is not treated as `None`. In this scenario, the objective is set based on {glue:md}`problem_type` when using the {glue:md}`2DOF` mission method. There are three options for {glue:md}`problem_type` which is set to {glue:md}`SIZING` as default when aircraft is created. Aviary has the following mapping when user does not set {glue:md}`objective_type` but set `mission_method` to {glue:md}`2DOF` (in .csv file):\n",
    "\n",
    "| {glue:md}`problem_type` | `objective` |\n",
    "| ------------ | --------- |\n",
    "| {glue:md}`SIZING` | {glue:md}`Mission.Objectives.FUEL` |\n",
    "| {glue:md}`ALTERNATE` | {glue:md}`Mission.Objectives.FUEL`|\n",
    "| {glue:md}`FALLOUT` | {glue:md}`Mission.Objectives.RANGE` |\n",
    "| {glue:md}`MULTI_MISSION` | No Default, user specified |"
   ]
  },
  {
   "cell_type": "code",
   "execution_count": null,
   "id": "825c2bf2",
   "metadata": {
    "tags": [
     "remove-cell"
    ]
   },
   "outputs": [],
   "source": [
    "# Testing Cell\n",
    "import openmdao.api as om\n",
    "\n",
    "from aviary.api import Mission\n",
    "from aviary.interface.methods_for_level2 import AviaryProblem\n",
    "from aviary.mission.two_dof_problem_configurator import TwoDOFProblemConfigurator\n",
    "from aviary.utils.doctape import check_contains, glue_class_functions, glue_variable\n",
    "from aviary.variable_info.enums import EquationsOfMotion as EOM\n",
    "from aviary.variable_info.enums import ProblemType as PT\n",
    "\n",
    "file_path = av.get_path('interface/methods_for_level2.py')\n",
    "glue_variable(file_path.name, md_code=True)\n",
    "\n",
    "# Get all functions of class AviaryProblem\n",
    "glue_class_functions(AviaryProblem, current_glued_vars, prefix='prob', md_code=True)\n",
    "\n",
    "# Get all functions of class TwoDOFProblemConfigurator\n",
    "glue_class_functions(TwoDOFProblemConfigurator, current_glued_vars, prefix='prob', md_code=True)"
   ]
  },
  {
   "cell_type": "markdown",
   "id": "9ffcd43c",
   "metadata": {},
   "source": [
    "In Aviary, {glue:md}`problem_type` is set to {glue:md}`SIZING` when it creates a vehicle (see [create_vehicle](https://github.com/OpenMDAO/Aviary/blob/main/aviary/utils/UI.py)). As you can see, since {glue:md}`problem_type` is {glue:md}`SIZING` by default in our case and we don't manually alter this setting, Aviary set objective to {glue:md}`Mission.Objectives.FUEL`. We will discuss more options of {glue:md}`objective_type` later on.\n",
    "\n",
    "```{note}\n",
    "If you want to use a custom objective function, you can set any arbitrary variable to be the objective by directly calling the OpenMDAO [`add_objective` method](https://openmdao.org/newdocs/versions/latest/features/core_features/adding_desvars_cons_objs/adding_objective.html#adding-an-objective) instead of using Aviary's built-in {glue:md}`add_objective()` method.\n",
    "```\n",
    "\n",
    "In our onboarding runs, we want to limit the number of iterations to 1 so that they all run faster. As a result, we will not consider whether the optimization converges. So, we will have\n",
    "\n",
    "{glue:md}`max_iter`: 1\n",
    "\n",
    "Level 2 cannot be run via `aviary` command on the command line. Users must develop level 2 Python code. The good news is that the Python code is pretty small. You can follow the following steps in order (we do not include function arguments for simplicity):\n",
    "\n",
    "- `prob = AviaryProblem()`\n",
    "- {glue:md}`load_inputs()` \n",
    "- modify the aviary values dictionary if needed\n",
    "- {glue:md}`check_and_preprocess_inputs()`\n",
    "- {glue:md}`build_model()`\n",
    "- {glue:md}`add_pre_mission_systems()`\n",
    "- {glue:md}`add_phases()`\n",
    "- {glue:md}`add_post_mission_systems()`\n",
    "- {glue:md}`link_phases()`\n",
    "- Add custom promotions, connections if needed\n",
    "- {glue:md}`add_driver()`\n",
    "- {glue:md}`add_design_variables()`\n",
    "- {glue:md}`add_objective()`\n",
    "- {glue:md}`setup()`\n",
    "- Set custom starting values using set_val if needed\n",
    "- {glue:md}`run_aviary_problem()`\n",
    "\n",
    "In the rest of this page, we will show a few examples to demonstrate how level 2 runs these steps. We start from rebuilding {glue:md}`aircraft_for_bench_GwGm` model in great details."
   ]
  },
  {
   "cell_type": "markdown",
   "id": "a1b573a9",
   "metadata": {},
   "source": [
    "## Build level 2 for the same {glue:md}`aircraft_for_bench_GwGm` Model\n",
    "\n",
    "We create a level 2 Python script to reproduce the {glue:md}`aircraft_for_bench_GwGm` model run that was used as an example in the level 1 document (this time we won’t use the level 1 functionality). The methods listed above are defined in level 3 (namely, [interface/methods_for_level2.py](https://github.com/OpenMDAO/Aviary/blob/main/aviary/interface/methods_for_level2.py)). You can run the code as follows:"
   ]
  },
  {
   "cell_type": "code",
   "execution_count": null,
   "id": "fe134855",
   "metadata": {},
   "outputs": [],
   "source": [
    "from copy import deepcopy\n",
    "\n",
    "import aviary.api as av\n",
    "\n",
    "# inputs that run_aviary() requires\n",
    "aircraft_data = 'models/aircraft/test_aircraft/aircraft_for_bench_GwGm.csv'\n",
    "optimizer = 'IPOPT'\n",
    "objective_type = None\n",
    "restart_filename = None\n",
    "max_iter = 0\n",
    "phase_info = deepcopy(av.default_2DOF_phase_info)\n",
    "\n",
    "# Build problem\n",
    "prob = av.AviaryProblem()\n",
    "\n",
    "# Load aircraft and options data from user\n",
    "# Allow for user overrides here\n",
    "prob.load_inputs(aircraft_data, phase_info)\n",
    "\n",
    "prob.check_and_preprocess_inputs()\n",
    "# check the aircraft_data and phase_info for errors\n",
    "\n",
    "# adds a pre-mission group (propulsion, geometry, aerodynamics, and mass)\n",
    "# adds a sequence of core mission phases.\n",
    "# adds a landing phase\n",
    "# Link phases and variables\n",
    "prob.build_model()\n",
    "\n",
    "# adds an optimizer to the driver\n",
    "prob.add_driver(optimizer, max_iter=max_iter)\n",
    "\n",
    "# adds relevant design variables\n",
    "prob.add_design_variables()\n",
    "\n",
    "# Load optimization problem formulation\n",
    "# Detail which variables the optimizer can control\n",
    "prob.add_objective(objective_type=objective_type)\n",
    "\n",
    "# setup the problem and set initial guesses of states and controls variables\n",
    "prob.setup()\n",
    "\n",
    "# run the problem we just set up\n",
    "prob.run_aviary_problem(restart_filename=restart_filename)"
   ]
  },
  {
   "cell_type": "code",
   "execution_count": null,
   "id": "cbe17794",
   "metadata": {
    "tags": [
     "remove-cell"
    ]
   },
   "outputs": [],
   "source": [
    "# Testing Cell\n",
    "from openmdao.utils.assert_utils import assert_near_equal\n",
    "\n",
    "from aviary.utils.doctape import glue_variable\n",
    "from aviary.variable_info.variable_meta_data import Mission\n",
    "\n",
    "obj_fuel = prob.get_val(Mission.Objectives.FUEL)\n",
    "exp_fuel = 5.27313333\n",
    "assert_near_equal(obj_fuel[0], exp_fuel, 1e-5)\n",
    "glue_variable('str_obj_fuel', str(obj_fuel), md_code=True)"
   ]
  },
  {
   "cell_type": "markdown",
   "id": "96066213",
   "metadata": {},
   "source": [
    "In this code, you do the same import as {glue:md}`methods_for_level1.py` does and set the values of all the arguments in {glue:md}`run_aviary()`. Now we will go through each line in detail to explain each step:\n",
    "\n",
    "## Dissection of level 2 for the same `aircraft_for_bench_GwGm` model\n",
    "\n",
    "All the methods of `prob` object (including its creation) are defined in level 3 ({glue:md}`methods_for_level2.py`). We now look at each of them.\n",
    "\n",
    "We add other inputs that {glue:md}`run_aviary()` requires:"
   ]
  },
  {
   "cell_type": "code",
   "execution_count": null,
   "id": "b0baac27",
   "metadata": {},
   "outputs": [],
   "source": [
    "aircraft_data = 'models/aircraft/test_aircraft/aircraft_for_bench_GwGm.csv'\n",
    "optimizer = 'IPOPT'\n",
    "objective_type = None\n",
    "restart_filename = None\n",
    "max_iter = 1\n",
    "\n",
    "prob = av.AviaryProblem()"
   ]
  },
  {
   "cell_type": "code",
   "execution_count": null,
   "id": "93651343",
   "metadata": {
    "tags": [
     "remove-cell"
    ]
   },
   "outputs": [],
   "source": [
    "# Testing Cell\n",
    "import inspect\n",
    "\n",
    "import aviary.api as av\n",
    "from aviary.interface.methods_for_level2 import AviaryProblem\n",
    "from aviary.utils.doctape import get_attribute_name, glue_variable\n",
    "\n",
    "# read source code of __init__() starting from line 'self.model = AviaryGroup()'\n",
    "source_code = inspect.getsource(AviaryProblem.__init__)\n",
    "src_init = '```\\n'\n",
    "new_line = ''\n",
    "start_reading = False\n",
    "for ch in source_code:\n",
    "    if ch == '\\n':\n",
    "        new_line = new_line.strip()\n",
    "        if 'AviaryGroup()' in new_line:\n",
    "            start_reading = True\n",
    "        if start_reading:\n",
    "            src_init += new_line + '\\n'\n",
    "        new_line = ''\n",
    "    else:\n",
    "        new_line += ch\n",
    "\n",
    "glue_variable('src_init', src_init, md_code=False)"
   ]
  },
  {
   "cell_type": "markdown",
   "id": "7e1d5726",
   "metadata": {},
   "source": [
    "Several objects are initialized in this step:\n",
    "\n",
    "```{glue:md} src_init\n",
    ":format: myst\n",
    "```\n",
    "\n",
    "{glue:md}`phase_info` is a user defined dictionary (in a Python file) that controls the profile of the mission to be simulated (e.g. climb, cruise, descent segments etc). The line"
   ]
  },
  {
   "cell_type": "code",
   "execution_count": null,
   "id": "ae7810ac",
   "metadata": {
    "tags": [
     "remove-cell"
    ]
   },
   "outputs": [],
   "source": [
    "# Testing Cell\n",
    "from aviary.utils.doctape import check_value, glue_variable\n",
    "\n",
    "from aviary.utils.functions import get_model\n",
    "\n",
    "filename = 'aircraft_for_bench_GwGm.csv'\n",
    "turbofan_file = 'models/engines/turbofan_23k_1.csv'\n",
    "data_var_name = 'aircraft:engine:data_file'  # read its value from .csv file\n",
    "# glue_variable(data_var_name, md_code=True)\n",
    "with open(get_model(filename)) as f_in:\n",
    "    lines = f_in.readlines()\n",
    "    for sLine in lines:\n",
    "        if data_var_name in sLine:\n",
    "            check_value(sLine.strip(), 'aircraft:engine:data_file,' + turbofan_file + ',unitless')\n",
    "            s = '```\\n'\n",
    "            s += sLine.strip()\n",
    "            glue_variable(turbofan_file, md_code=True)\n",
    "            glue_variable('engine_data_file_line', s, md_code=False)\n",
    "            val_and_units = s.split(',', 1)[-1]\n",
    "            glue_variable('models/engines/turbofan_28k.csv,unitless', val_and_units, md_code=False)\n",
    "            break"
   ]
  },
  {
   "cell_type": "code",
   "execution_count": null,
   "id": "8cac423c",
   "metadata": {},
   "outputs": [],
   "source": [
    "phase_info = deepcopy(av.default_2DOF_phase_info)\n",
    "prob.load_inputs(aircraft_data, phase_info)\n",
    "prob.check_and_preprocess_inputs()"
   ]
  },
  {
   "cell_type": "markdown",
   "id": "42a2ee97",
   "metadata": {},
   "source": [
    "is a function that has a few tasks:\n",
    "\n",
    "- Read aircraft deck file `aircraft_data`\n",
    "- Read phase info file {glue:md}`phase_info`\n",
    "- Build core subsystems\n",
    "- Check and preprocess all inputs\n",
    "\n",
    "We have seen {glue:md}`aircraft_data` file (a `.csv` file) in our level 1 examples. In [level 1](onboarding_level1), we simply called it input file. An aircraft model can also be directly defined in Python, by setting up an {glue:md}`AviaryValues` object with the desired inputs and options normally found in an input file. That object can be provided in the place of {glue:md}`aircraft_data`.\n",
    "\n",
    "\n",
    "Engines are built by using the input data {glue:md}`engine_data_file` in the .csv file. For example in {glue:md}`aircraft_for_bench_GwGm.csv` file, we see:\n",
    "\n",
    "```{glue:md} engine_data_file_line\n",
    ":format: myst\n",
    "```"
   ]
  },
  {
   "cell_type": "code",
   "execution_count": null,
   "id": "bc6e9a5b",
   "metadata": {
    "tags": [
     "remove-cell"
    ]
   },
   "outputs": [],
   "source": [
    "# Testing Cell\n",
    "import pandas as pd\n",
    "from myst_nb import glue\n",
    "\n",
    "from aviary.api import Aircraft\n",
    "from aviary.subsystems.propulsion.engine_model import EngineModel\n",
    "from aviary.utils.functions import get_path\n",
    "\n",
    "glue_variable('engine_data_file', Aircraft.Engine.DATA_FILE)\n",
    "glue_variable(EngineModel.__name__, md_code=True)\n",
    "\n",
    "# build the top rows of turbofan_28k.csv from that file\n",
    "file_path = get_path('models/engines/turbofan_28k.csv')\n",
    "df = pd.read_csv(file_path, nrows=5, skiprows=2, header=0)\n",
    "glue('top_rows_of_engine_deck', df)"
   ]
  },
  {
   "cell_type": "markdown",
   "id": "5f349611",
   "metadata": {},
   "source": [
    "So, {glue:md}`engine_data_file` has value {glue:md}`models/engines/turbofan_28k.csv,unitless`. We follow this path and open that file. The top rows of engine deck file are:\n",
    "\n",
    "```{glue:figure} top_rows_of_engine_deck\n",
    ":name: 'tbl:df'\n",
    "```\n",
    "\n",
    "Users can provide an {glue:md}`EngineModel` instance of their own to use in Aviary's propulsion systems.\n",
    "\n",
    "Other subsystems, including mass, geometry, and aerodynamics, are set up according to which legacy code options the user has specified in their input file, using `settings:equations_of_motion` and `settings:mass_method`. Aerodynamics is set up to match the selected equations of motion, while geometry will use either GASP, FLOPS, or both methods as required to calculate all values needed by other subsystems.\n",
    "\n",
    "Next we check the user-provided inputs. The {glue:md}`prob.check_and_preprocess_inputs` method checks the user-supplied input values for any potential problems. These problems include variable names that are not recognized in Aviary, conflicting options or values, or units mismatching. You only want to check and pre-process your inputs once so after loading your inputs, make sure to update anything you need to before you check the values. "
   ]
  },
  {
   "cell_type": "code",
   "execution_count": null,
   "id": "6b6eedb1",
   "metadata": {
    "tags": [
     "remove-cell"
    ]
   },
   "outputs": [],
   "source": [
    "# Testing Cell\n",
    "from aviary.api import Settings\n",
    "\n",
    "Settings.EQUATIONS_OF_MOTION\n",
    "Settings.MASS_METHOD"
   ]
  },
  {
   "cell_type": "markdown",
   "id": "7f312145",
   "metadata": {},
   "source": [
    "Next, we use {glue:md}`build_model` to build the model which includes: adding pre-mission systems including propulsion, geometry, aerodynamics, and mass subsystems. Then a sequence of core mission phases is added. In addition, if `mission_method` is {glue:md}`2DOF` and `ascent` is a phase, it adds an equality constraint to the problem to ensure that the velocity at the end of the groundroll phase is equal to the rotation velocity at the start of the rotation phase ({glue:md}`_add_groundroll_eq_constraint()`). If `mission_method` is {glue:md}`height_energy`, it sets up trajectory parameters by calling `setup_trajectory_params()`. If `mission_method` is {glue:md}`solved_2DOF`, it has a block of code to make sure that the trajectory is smooth by applying boundary constraints between phases (e.g. fuselage pitch angle or true airspeed).\n",
    "\n",
    "For {glue:md}`height_energy` missions, aviary currently models FLOPS' \"simplified\" takeoff as defined in [mission/flops_based/phases/simplified_takeoff.py](https://github.com/OpenMDAO/Aviary/blob/main/aviary/mission/flops_based/phases/simplified_takeoff.py).\n",
    "\n",
    "It follows by adding post-mission subsystems which includes landing phase if `include_landing` key of `post_mission` has value of `True`. If the user chooses to define a `post_mission`, it will override the default. For {glue:md}`2DOF` missions, landing is defined in [mission/gasp_based/ode/landing_ode.py](https://github.com/OpenMDAO/Aviary/blob/main/aviary/mission/gasp_based/ode/landing_ode.py).\n",
    "\n",
    "Following this, the phases are linked together. This is important for allowing each phase of flight to pass to the next without discontinuities in the parameters. Consider Dymos' [Aircraft Balanced Field Length Calculation](https://openmdao.github.io/dymos/examples/balanced_field/balanced_field.html) example. In that example, we see separate nonlinear boundary constraints, nonlinear path constraints, and phase continuity constraints between phases. We don't want to go deeper in this function call, but just point out that each individual link can be set via dymos function {glue:md}`link_phases()`. See [dymos API](https://openmdao.github.io/dymos/api/trajectory_api.html) for more details. The links are set up based on physical principals (e.g. you can’t have instantaneous changes in mass, velocity, position etc.). Special care is required if the user selects a different or unusual set of phases. \n",
    "\n",
    "```{note}\n",
    "{glue:md}`prob.build_model` can be broken out into four separate commands if finer control to each step is desired. These commands should be executed in order and are:\n",
    "{glue:md}`prob.add_pre_mission_systems`\n",
    "{glue:md}`prob.add_phases`\n",
    "{glue:md}`prob.add_post_mission_systems`\n",
    "{glue:md}`prob.link_phases`\n",
    "```"
   ]
  },
  {
   "cell_type": "code",
   "execution_count": null,
   "id": "00de09c8",
   "metadata": {
    "tags": [
     "hide-output"
    ]
   },
   "outputs": [],
   "source": [
    "prob.build_model()"
   ]
  },
  {
   "cell_type": "markdown",
   "id": "0f5006a5",
   "metadata": {},
   "source": [
    "Now, our aircraft and the mission are fully defined. We are ready to define an optimization problem. This is achieved by adding an optimization driver, adding design variables, and an objective. \n",
    "\n",
    "For {glue:md}`add_driver()` function, we accept its argument `use_coloring=None`. Coloring is a technique that OpenMDAO uses to compute partial derivatives efficiently. This will become important later."
   ]
  },
  {
   "cell_type": "code",
   "execution_count": null,
   "id": "87e863bc",
   "metadata": {
    "tags": [
     "hide-output"
    ]
   },
   "outputs": [],
   "source": [
    "prob.add_driver(optimizer, max_iter=max_iter)"
   ]
  },
  {
   "cell_type": "code",
   "execution_count": null,
   "id": "b16a1c86",
   "metadata": {
    "tags": [
     "remove-cell"
    ]
   },
   "outputs": [],
   "source": [
    "# Testing Cell\n",
    "from aviary.utils.doctape import glue_actions\n",
    "\n",
    "glue_actions('run_mission', current_glued_vars, glue_default=True, glue_choices=True)"
   ]
  },
  {
   "cell_type": "markdown",
   "id": "1cd6d86a",
   "metadata": {},
   "source": [
    "Available drivers for use in Aviary are {glue:md}`SLSQP`, {glue:md}`SNOPT`, and {glue:md}`IPOPT`. The table below summarizes the basic setting along with sample values (the settings are options required by each optimizer):\n",
    "\n",
    "| **Optimizers** | **Drivers** | **Settings** |\n",
    "| ---------- | ------- | -------- |\n",
    "| {glue:md}`SNOPT` | om.pyOptSparseDriver() | `Major iterations limit`: 50<BR/>`Major optimality tolerance`: 1e-4<BR/>`Major feasibility tolerance`: 1e-6<BR/>`iSumm`: 6 |\n",
    "| {glue:md}`IPOPT` | om.pyOptSparseDriver() | `tol`: 1e-9<BR/>`mu_init`: 1e-5<BR/>`max_iter`: 50<BR/>`print_level`: 5 |\n",
    "| {glue:md}`SLSQP` | om.ScipyOptimizeDriver() | `tol`: 1.0E-9<BR/>`maxiter`: 50<BR/>`disp`: True |\n",
    "\n",
    "Note that {glue:md}`SLSQP` is freely available, but its performance is not as good as {glue:md}`SNOPT` and {glue:md}`IPOPT` sometimes. {glue:md}`SNOPT` is a commercial optimizer, and it is free for academic use. {glue:md}`IPOPT` is an open-source optimizer and it is free for all users.\n",
    "\n",
    "Design variables (and constraints) are set in the line {glue:md}`prob.add_design_variables()`:"
   ]
  },
  {
   "cell_type": "code",
   "execution_count": null,
   "id": "0a408e2e",
   "metadata": {
    "tags": [
     "hide-output"
    ]
   },
   "outputs": [],
   "source": [
    "prob.add_design_variables()"
   ]
  },
  {
   "cell_type": "code",
   "execution_count": null,
   "id": "f663ec24",
   "metadata": {
    "tags": [
     "remove-cell"
    ]
   },
   "outputs": [],
   "source": [
    "# Testing Cell\n",
    "from aviary.variable_info.enums import EquationsOfMotion as EOM\n",
    "from aviary.variable_info.enums import ProblemType as PT\n",
    "\n",
    "EOM.HEIGHT_ENERGY\n",
    "EOM.TWO_DEGREES_OF_FREEDOM\n",
    "PT.SIZING\n",
    "PT.ALTERNATE\n",
    "PT.FALLOUT"
   ]
  },
  {
   "cell_type": "markdown",
   "id": "5dfe75ac",
   "metadata": {},
   "source": [
    "The details of the design variables and constraints are in the source code of {glue:md}`add_design_variables()`. Let us summarize the data below:\n",
    "\n",
    "For default {glue:md}`height_energy` mission model, it is relatively simple:\n",
    "\n",
    "| **Design Variables** | **Lower Bound** | **Upper Bound** | **Reference Value** | **Units** |\n",
    "| ----------- | ----------- | ----------- | --------------- | ----- |\n",
    "| Mission.Design.GROSS_MASS | 10 | 900.e3| 175.e3 | lbm |\n",
    "\n",
    "For default {glue:md}`2DOF` mission model, the design variables and constraints depend on the type of problems ({glue:md}`SIZING`, {glue:md}`ALTERNATE`, or {glue:md}`FALLOUT`, see {glue:md}`ProblemType` class in `aviary/variable_info/enums.py` for details). First, there are four common design variables and two common constraints. There are two more design variables and two constraints for sizing problems.\n",
    "\n",
    "| **Problem Type** | **Design Variables** | **Lower Bound** | **Upper Bound** | **Reference Value** | **Units** |\n",
    "| ----------- | ----------- | ----------- | ----------- | --------------- | ----- |\n",
    "| Any | Mission.Takeoff.ASCENT_T_INITIAL | 0 | 100  | 30.0 | s |\n",
    "| Any | Mission.Takeoff.ASCENT_DURATION  | 1 | 1000 | 10.0 | s |\n",
    "| Any | tau_gear  | 0.01 | 1.0 | 1 | s |\n",
    "| Any | tau_flaps | 0.01 | 1.0 | 1 | s |\n",
    "| SIZING | Mission.Design.GROSS_MASS | 10. | None | 175_000 | lbm |\n",
    "| SIZING | Mission.Summary.GROSS_MASS | 10. | None | 175_000 | lbm |\n",
    "| ALTERNATE | Mission.Summary.GROSS_MASS | 0 | infinite | 175_000 | lbm |\n",
    "| **Problem Type** | **Constraint** | **Relation** | **Value** | **Reference Value** | **Units** |\n",
    "| Any | h_fit.h_init_gear | = | 50.0  | 50.0 | ft |\n",
    "| Any | h_fit.h_init_flaps | = | 400.0 | 400.0 | ft |\n",
    "| SIZING | Mission.Constraints.RANGE_RESIDUAL | = | 0 | 10 | unitless |\n",
    "| ALTERNATE | Mission.Constraints.RANGE_RESIDUAL | = | 0 | 10 | lbm |\n",
    "\n",
    "In the above table, there are two hard-coded design variables: `tau_gear` and `tau_flaps`. They represent fractions of ascent time to start gear retraction and flaps retraction. There are two hard-coded constraints: `h_fit.h_init_gear` and `h_fit.h_init_flaps`. They are the altitudes of initial gear retraction and initial flaps retraction. The underscore in number '175_000' is for readability only. \n",
    "\n",
    "There are other constraints using OpenMDAO's `EQConstraintComp` component. We will not go into the details as this part is complicated and needs special attention. Note that each subsystem (for example engine model) might have their own design variables (think, for example, sizing the engine). Aviary goes through all subsystems and adds appropriate design variables.\n",
    "\n",
    "You can override all the functions in level 3. So, you can set up your constraints in level 3 if the above ones do not meet your requirements.\n",
    "\n",
    "The optimization objective is added to the problem by this line:"
   ]
  },
  {
   "cell_type": "code",
   "execution_count": null,
   "id": "c8d5e8d9",
   "metadata": {
    "tags": [
     "remove-cell"
    ]
   },
   "outputs": [],
   "source": [
    "# Testing Cell\n",
    "from aviary.interface.methods_for_level2 import AviaryProblem\n",
    "from aviary.models.missions.two_dof_default import phase_info\n",
    "\n",
    "prob = AviaryProblem()\n",
    "from aviary.models.aircraft.large_single_aisle_1.V3_bug_fixed_IO import V3_bug_fixed_options\n",
    "from aviary.utils.doctape import check_contains\n",
    "from aviary.validation_cases.validation_tests import get_flops_inputs\n",
    "\n",
    "prob.load_inputs('models/test_aircraft/aircraft_for_bench_GwGm.csv', phase_info, verbosity=1)\n",
    "\n",
    "prob.check_and_preprocess_inputs()\n",
    "\n",
    "prob.build_model()\n",
    "\n",
    "prob.add_design_variables()"
   ]
  },
  {
   "cell_type": "code",
   "execution_count": null,
   "id": "46eee283",
   "metadata": {
    "tags": [
     "hide-output"
    ]
   },
   "outputs": [],
   "source": [
    "prob.add_objective(objective_type=objective_type)"
   ]
  },
  {
   "cell_type": "markdown",
   "id": "f842d072",
   "metadata": {},
   "source": [
    "The selection of objective is a little complicated. \n",
    "\n",
    "Earlier in this page, we have discussed the objective when `objective_type=None` and `mission_method` is {glue:md}`2DOF`. Let us discuss the other situations.\n",
    "\n",
    "There are several objective types that users can choose: `mass`, `hybrid_objective`, `fuel_burned`, and `fuel`. \n",
    "\n",
    "| objective_type | objective |\n",
    "| -------------- | --------- |\n",
    "| mass | {glue:md}`Dynamic.Vehicle.MASS` |\n",
    "| hybrid_objective | `-final_mass / {takeoff_mass} + final_time / 5.` |\n",
    "| fuel_burned | `initial_mass - mass_final` (for `height_energy` mission only)|\n",
    "| fuel | {glue:md}`Mission.Objectives.FUEL` |\n",
    "\n",
    "As listed in the above, if `objective_type=\"mass\"`, the objective is the final value of {glue:md}`Dynamic.Vehicle.MASS` at the end of the mission.\n",
    "If `objective_type=\"fuel\"`, the objective is the {glue:md}`Mission.Objectives.FUEL`.\n",
    "There is a special objective type: `hybrid_objective`. When `objective_type='hybrid_objective'`, the objective is a mix of minimizing fuel burn and minimizing the mission duration:"
   ]
  },
  {
   "cell_type": "markdown",
   "id": "f7a233ac",
   "metadata": {},
   "source": [
    "```\n",
    "      obj = -final_mass / {takeoff_mass} + final_time / 5.\n",
    "```\n",
    "This is because if we just minimized fuel burn then the optimizer would probably fly the plane slowly to save fuel, but we actually care about some mix of minimizing fuel burn while providing a reasonable travel time for the passengers. This leads to the `hybrid_objective` which seeks to minimize a combination of those two objectives. `final_time` is the duration of the full mission and is usually in the range of hours. So, the denominator `5.` means `5 hours`. That's just a value to scale the final_time variable. Since it's a composite objective we didn't want to have OpenMDAO do the scaling because the two variables in the objective are of a different order of magnitude.\n",
    "\n",
    "If `objective_type=None` for a {glue:md}`2DOF` mission, Aviary will choose the objective based on `mission_method` and {glue:md}`problem_type`. We have discussed this case earlier in this page.\n",
    "\n",
    "**Note:**  Aviary variable `Mission.Objectives.FUEL` when using the {glue:md}`2DOF` mission is actually a hybrid objective defined as\n",
    "\n",
    "```\n",
    "      reg_objective = overall_fuel/10000 + ascent_duration/30.\n",
    "```\n",
    "where `overall_fuel` has the unit of `lbm` and `ascent_duration` has the unit of seconds. In our case, `settings:equations_of_motion = 2DOF`, the final value of objective is {glue:md}`str_obj_fuel`, with `ref: 1.0` and `units: blank`. The units should be interpreted as `unitless`.\n",
    "\n",
    "Here, `ref` is the reference value. For different objectives, the range may vary significantly different. We want to normalize the value. Ideally, users should choose `ref` such that the objective is in the range of `(0,1)`. This is required by optimizer.\n",
    "\n",
    "**Note:**  Unfortunately, not all `objective_type` and `mission_method` combinations work.\n",
    "\n",
    "Next is a line to call"
   ]
  },
  {
   "cell_type": "code",
   "execution_count": null,
   "id": "dbfca715",
   "metadata": {
    "tags": [
     "hide-output"
    ]
   },
   "outputs": [],
   "source": [
    "prob.setup()"
   ]
  },
  {
   "cell_type": "markdown",
   "id": "40b9cfea",
   "metadata": {},
   "source": [
    "This is a lightly wrapped OpenMDAO {glue:md}`setup()` and  {glue:md}`prob.set_initial_guesses` method for the problem. It allows us to do `pre-` and `post-setup` changes, like adding calls to `set_input_defaults` and do some simple `set_vals` if needed as well as setting initial guesses. \n",
    "\n",
    "If we look at the signature of {glue:md}`setup()` in OpenMDAO's [Problem](https://openmdao.org/newdocs/versions/latest/_srcdocs/packages/core/problem.html) class, we find that the available kwargs are: `check`, `logger`, `mode`, `force_alloc_complex`, `distributed_vector_class`, `local_vector_class`, and `derivatives`. The ones that Aviary uses are `check` and `force_alloc_complex`. Argument `check` is a flag to determine default checks are performed. [Default checks](https://openmdao.org/newdocs/versions/latest/theory_manual/setup_stack.html) are: 'auto_ivc_warnings', comp_has_no_outputs', 'dup_inputs', 'missing_recorders', 'out_of_order', 'solvers', 'system', 'unserializable_options'.\n",
    "\n",
    "If [force_alloc_complex](https://openmdao.org/newdocs/versions/latest/advanced_user_guide/complex_step.html) is true, sufficient memory will be allocated to allow nonlinear vectors to store complex values while operating under complex step. For our example, we don't use any of them.\n",
    "\n",
    "For optimization problems, initial guesses are important. {glue:md}`prob.setup` does setup initial guesses as well."
   ]
  },
  {
   "cell_type": "markdown",
   "id": "57986647",
   "metadata": {},
   "source": [
    "For {glue:md}`solved_2DOF` and {glue:md}`2DOF` missions, the {glue:md}`prob.set_initial_guesses` method performs several calls to `set_val` on the trajectory for states and controls to seed the problem with reasonable initial guesses using `initial_guesses` within corresponding phases (e.g. `height_energy.py` and `two_dof.py`). For `solved_2DOF` missions, it performs similar tasks but for hard-coded state parameters. This is reasonable because a `solved_2DOF` mission is actually a level 3 Aviary approach. We will cover it in [level 3 onboarding doc](onboarding_level3) in the next page. Note that initial guesses for all phases are especially important for collocation methods.\n",
    "\n",
    "The last line is to run the problem we just set up:"
   ]
  },
  {
   "cell_type": "code",
   "execution_count": null,
   "id": "2f1a2b82",
   "metadata": {
    "tags": [
     "hide-output"
    ]
   },
   "outputs": [],
   "source": [
    "prob.run_aviary_problem()"
   ]
  },
  {
   "cell_type": "markdown",
   "id": "107f7407",
   "metadata": {},
   "source": [
    "This is a simple wrapper of Dymos' [run_problem()](https://openmdao.github.io/dymos/api/run_problem_function.html) function. It allows the users to provide, `restart_filename`, `suppress_solver_print`, and `run_driver`. In our case, `restart_filename` is set to `None`. The rest of the arguments take default values. If a restart file name is provided, aviary (or dymos) will load the states, controls, and parameters as given in the provided case as the initial guess for the next run. We have discussed the `.db` file in [level 1 onboarding doc](onboarding_level1) and will discuss how to use it to generate useful output in [level 3 onboarding doc](onboarding_level3).\n",
    "\n",
    "Finally, we can add a few print statements for the variables that we are interested:\n"
   ]
  },
  {
   "cell_type": "code",
   "execution_count": null,
   "id": "cb152e48",
   "metadata": {},
   "outputs": [],
   "source": [
    "print('Mission.Objectives.FUEL', prob.get_val(Mission.Objectives.FUEL, units='unitless'))\n",
    "print('Mission.Design.FUEL_MASS', prob.get_val(Mission.Design.FUEL_MASS, units='lbm'))\n",
    "print(\n",
    "    'Mission.Design.FUEL_MASS_REQUIRED',\n",
    "    prob.get_val(Mission.Design.FUEL_MASS_REQUIRED, units='lbm'),\n",
    ")\n",
    "print('Mission.Summary.TOTAL_FUEL_MASS', prob.get_val(Mission.Summary.TOTAL_FUEL_MASS, units='lbm'))\n",
    "print(\n",
    "    'Mission.Summary.GROSS_MASS (takeoff_mass)',\n",
    "    prob.get_val(Mission.Summary.GROSS_MASS, units='lbm'),\n",
    ")\n",
    "print(\n",
    "    'Mission.Landing.TOUCHDOWN_MASS (final_mass)',\n",
    "    prob.get_val(Mission.Landing.TOUCHDOWN_MASS, units='lbm'),\n",
    ")\n",
    "print()\n",
    "\n",
    "print(\n",
    "    'Groundroll Final Mass (lbm)',\n",
    "    prob.get_val('traj.groundroll.states:mass', units='lbm')[-1],\n",
    ")\n",
    "print('Rotation Final Mass (lbm)', prob.get_val('traj.rotation.states:mass', units='lbm')[-1])\n",
    "print('Ascent Final Mass (lbm)', prob.get_val('traj.ascent.states:mass', units='lbm')[-1])\n",
    "print('Accel Final Mass (lbm)', prob.get_val('traj.accel.states:mass', units='lbm')[-1])\n",
    "print('Climb1 Final Mass (lbm)', prob.get_val('traj.climb1.states:mass', units='lbm')[-1])\n",
    "print('Climb2 Final Mass (lbm)', prob.get_val('traj.climb2.states:mass', units='lbm')[-1])\n",
    "print(\n",
    "    'Cruise Final Mass (lbm)',\n",
    "    prob.get_val('traj.phases.cruise.rhs.calc_weight.mass', units='lbm')[-1],\n",
    ")\n",
    "print('Desc1 Final Mass (lbm)', prob.get_val('traj.desc1.states:mass', units='lbm')[-1])\n",
    "print('Desc2 Final Mass (lbm)', prob.get_val('traj.desc2.states:mass', units='lbm')[-1])\n",
    "print('done')"
   ]
  },
  {
   "cell_type": "markdown",
   "id": "3fece473",
   "metadata": {},
   "source": [
    "We will cover user customized outputs in [level 3](onboarding_level3)."
   ]
  },
  {
   "cell_type": "markdown",
   "id": "7bc55bf2",
   "metadata": {},
   "source": [
    "## Level 2: Another example\n",
    "\n",
    "We now use a similar aircraft, a large single aisle commercial transport aircraft, but with a different mass estimation and mission method. Let us run Aviary using this input deck in level 1 first."
   ]
  },
  {
   "cell_type": "code",
   "execution_count": null,
   "id": "0da2bfee",
   "metadata": {},
   "outputs": [],
   "source": [
    "!aviary run_mission models/aircraft/test_aircraft/aircraft_for_bench_FwFm.csv --max_iter 0 --optimizer IPOPT"
   ]
  },
  {
   "cell_type": "markdown",
   "id": "bf021f13",
   "metadata": {},
   "source": [
    "Once again, to convert it to a level 2 model, we need to set all the arguments in level 1 manually.\n",
    "\n",
    "By running a model in level 2 directly, we have the flexibility to modify the input parameters (e.g. {glue:md}`phase_info`). Let us continue to make modifications and obtain a different run script shown below:"
   ]
  },
  {
   "cell_type": "code",
   "execution_count": null,
   "id": "807902e2",
   "metadata": {},
   "outputs": [],
   "source": [
    "phase_info = {\n",
    "    'pre_mission': {\n",
    "        'include_takeoff': False,\n",
    "        'optimize_mass': False,\n",
    "    },\n",
    "    'cruise': {\n",
    "        'subsystem_options': {'core_aerodynamics': {'method': 'computed'}},\n",
    "        'user_options': {\n",
    "            'num_segments': 2,\n",
    "            'order': 3,\n",
    "            'mach_optimize': False,\n",
    "            'mach_polynomial_order': 1,\n",
    "            'mach_initial': (0.72, 'unitless'),\n",
    "            'mach_final': (0.72, 'unitless'),\n",
    "            'mach_bounds': ((0.7, 0.74), 'unitless'),\n",
    "            'altitude_optimize': False,\n",
    "            'altitude_polynomial_order': 1,\n",
    "            'altitude_initial': (35000.0, 'ft'),\n",
    "            'altitude_final': (35000.0, 'ft'),\n",
    "            'altitude_bounds': ((23000.0, 38000.0), 'ft'),\n",
    "            'throttle_enforcement': 'boundary_constraint',\n",
    "            'time_initial_bounds': ((0.0, 0.0), 'min'),\n",
    "            'time_duration_bounds': ((10.0, 30.0), 'min'),\n",
    "        },\n",
    "        'initial_guesses': {'time': ([0, 30], 'min')},\n",
    "    },\n",
    "    'post_mission': {\n",
    "        'include_landing': False,\n",
    "    },\n",
    "}\n",
    "\n",
    "# inputs that run_aviary() requires\n",
    "aircraft_data = 'models/aircraft/test_aircraft/aircraft_for_bench_FwFm.csv'\n",
    "mission_method = 'height_energy'\n",
    "mass_method = 'FLOPS'\n",
    "optimizer = 'SLSQP'\n",
    "objective_type = None\n",
    "restart_filename = None\n",
    "\n",
    "# Build problem\n",
    "prob = av.AviaryProblem()\n",
    "\n",
    "# Load aircraft and options data from user\n",
    "# Allow for user overrides here\n",
    "prob.load_inputs(aircraft_data, phase_info)\n",
    "\n",
    "prob.check_and_preprocess_inputs()\n",
    "\n",
    "prob.build_model()\n",
    "\n",
    "prob.add_driver(optimizer, max_iter=0)\n",
    "\n",
    "prob.add_design_variables()\n",
    "\n",
    "# Load optimization problem formulation\n",
    "# Detail which variables the optimizer can control\n",
    "prob.add_objective(objective_type=objective_type)\n",
    "\n",
    "prob.setup()\n",
    "\n",
    "prob.run_aviary_problem()\n",
    "\n",
    "print('done')"
   ]
  },
  {
   "cell_type": "markdown",
   "id": "105e300d",
   "metadata": {},
   "source": [
    "As you see, there is a single phase `cruise`, no takeoff, no landing. Note that we must set `include_takeoff` to `False` because Aviary internally tries to connect takeoff to climb phase which we don't provide. There should be a check to see if both takeoff and climb phase exist first. Aviary still has many things to be improved.\n",
    "\n",
    "We will see more details for what users can do in [level 3](onboarding_level3).\n",
    "\n",
    "Level 2 is where you can integrate user-defined [external subsystems](../user_guide/subsystems), which is one of the main features of the Aviary tool. [Examples](../user_guide/using_external_subsystems) of external subsystems are: acoustics, battery modeling, etc.\n",
    "Assume that you already have an external subsystem that you want to incorporate it into your model. We show how to add external subsystems via `external_subsystems` key in {glue:md}`phase_info`.\n",
    "\n",
    "We will cover external subsystems in details in [Models with External Subsystems](onboarding_ext_subsystem) page.\n"
   ]
  },
  {
   "cell_type": "markdown",
   "id": "638223f0",
   "metadata": {},
   "source": [
    "## Summary\n",
    "\n",
    "As you see, level 2 is more flexible than level 1. In level 2, you can:\n",
    "- add/remove pre-defined mission phases (via {glue:md}`phase_info`, see example above);\n",
    "- scale design variables (via reference value in {glue:md}`phase_info`)\n",
    "- import additional files (e.g. `aero_data`)\n",
    "- set pre-defined objective (e.g. `hybrid_objective`)\n",
    "- add external subsystems (via {glue:md}`phase_info`)\n",
    "- set `use_coloring` (see example above).\n",
    "\n",
    "Most Aviary users should be well-served by Level 2; we have purposefully constructed it to be capable of most all use cases, even those on the forefront of research in aircraft design.\n",
    "\n",
    "That being said, there are some cases where Level 2 is not sufficient and you may need additional flexibility. We are ready to move on to [Level 3](onboarding_level3)."
   ]
  }
 ],
 "metadata": {
  "kernelspec": {
   "display_name": "aviary",
   "language": "python",
   "name": "python3"
  },
  "language_info": {
   "codemirror_mode": {
    "name": "ipython",
    "version": 3
   },
   "file_extension": ".py",
   "mimetype": "text/x-python",
   "name": "python",
   "nbconvert_exporter": "python",
   "pygments_lexer": "ipython3",
   "version": "3.12.9"
  }
 },
 "nbformat": 4,
 "nbformat_minor": 5
}
