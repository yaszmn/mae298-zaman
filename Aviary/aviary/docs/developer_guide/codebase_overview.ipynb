{
 "cells": [
  {
   "cell_type": "code",
   "execution_count": null,
   "metadata": {
    "tags": [
     "remove-cell"
    ]
   },
   "outputs": [],
   "source": [
    "from aviary.utils.doctape import glue_variable\n",
    "\n",
    "structure = {\n",
    "    'docs': 'contains the doc files for Aviary',\n",
    "    'examples': 'contains example code for using Aviary, including external subsystem examples',\n",
    "    'interface': 'is where most code that users interact with is located',\n",
    "    'mission': 'contains OpenMDAO components and groups for modeling the aircraft mission',\n",
    "    'models': 'contains aircraft and propulsion models for use in Aviary examples and tests',\n",
    "    'subsystems': 'is where the aerodynamic, atmosphere, energy, propulsion, mass, and geometry core subsystems are located',\n",
    "    'utils': 'contains utility functions for use in Aviary code, examples, and tests',\n",
    "    'validation_cases': 'contains validation cases for testing and benchmarking Aviary',\n",
    "    'variable_info': 'contains the variable meta data as well as several variable classes that are used in Aviary',\n",
    "    'visualization': 'is where the Aviary dashboard is located',\n",
    "}\n",
    "\n",
    "bulleted_list = ''\n",
    "for key, val in structure.items():\n",
    "    bulleted_list += f'- `{key}` {val}\\n'\n",
    "\n",
    "# change display to False to prevent displaying the results when running cells directly\n",
    "# (Does not change the generated book)\n",
    "glue_variable('folder_structure', bulleted_list, display=True)"
   ]
  },
  {
   "cell_type": "markdown",
   "metadata": {},
   "source": [
    "# Codebase Overview\n",
    "\n",
    "## Repository structure\n",
    "\n",
    "Within the Aviary repository and package, the codebase is structured as follows:\n",
    "\n",
    "```{glue:md} folder_structure\n",
    ":format: myst\n",
    "```"
   ]
  },
  {
   "cell_type": "code",
   "execution_count": null,
   "metadata": {
    "tags": [
     "remove-cell"
    ]
   },
   "outputs": [],
   "source": [
    "# Testing Cell\n",
    "import os\n",
    "\n",
    "from aviary.utils.doctape import check_contains\n",
    "from aviary.utils.functions import get_path\n",
    "\n",
    "folder = get_path('docs').parent\n",
    "subfolders = [f.name for f in os.scandir(folder)]\n",
    "# if a key in structure dictionary is not an actual folder name, this run fails.\n",
    "check_contains(structure, subfolders)"
   ]
  }
 ],
 "metadata": {
  "kernelspec": {
   "display_name": "latest_env",
   "language": "python",
   "name": "python3"
  },
  "language_info": {
   "codemirror_mode": {
    "name": "ipython",
    "version": 3
   },
   "file_extension": ".py",
   "mimetype": "text/x-python",
   "name": "python",
   "nbconvert_exporter": "python",
   "pygments_lexer": "ipython3",
   "version": "3.10.13"
  }
 },
 "nbformat": 4,
 "nbformat_minor": 2
}
