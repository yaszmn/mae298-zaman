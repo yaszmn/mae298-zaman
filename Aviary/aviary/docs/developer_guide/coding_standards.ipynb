{
 "cells": [
  {
   "cell_type": "code",
   "execution_count": null,
   "metadata": {
    "tags": [
     "remove-cell"
    ]
   },
   "outputs": [],
   "source": [
    "# Testing Cell\n",
    "import aviary.api as av\n",
    "from aviary.utils.doctape import get_attribute_name, get_variable_name, glue_variable\n",
    "\n",
    "Verbosity = av.Verbosity\n",
    "verbosity = get_attribute_name(av.Settings, av.Settings.VERBOSITY)\n",
    "glue_variable('VERBOSITY', verbosity, md_code=True)\n",
    "glue_variable(get_variable_name(Verbosity), md_code=True)\n",
    "glue_variable('QUIET', av.Verbosity.QUIET.name, md_code=True)\n",
    "glue_variable('BRIEF', av.Verbosity.BRIEF.name, md_code=True)\n",
    "glue_variable(get_variable_name(Verbosity.BRIEF), md_code=True)\n",
    "glue_variable('VERBOSE', av.Verbosity.VERBOSE.name, md_code=True)\n",
    "glue_variable('DEBUG', av.Verbosity.DEBUG.name, md_code=True)"
   ]
  },
  {
   "cell_type": "markdown",
   "metadata": {},
   "source": [
    "# Coding Standards\n",
    "\n",
    "Aviary uses a combination of formal standards and general best practices. To contribute code to the Aviary codebase, we request you follow these guidelines.\n",
    "\n",
    "In general, always follow the excellent advice given in the [PEP 8 Python style guide](https://peps.python.org/pep-0008/). Consistency is also key - pick a convention and stick with it for an entire file.\n",
    "\n",
    "## Style and Formatting\n",
    "The Aviary development team uses the [ruff formatter](https://docs.astral.sh/ruff/formatter/) to handle formatting in a consistent way across the codebase. Ruff is a tool that formats Python code (through alteration of whitespace and line breaks) to follow a consistent style and attempt to keep lines within the character limit whenever possible. Aviary uses ruff as part of its [pre-commit](https://pre-commit.com/) scripts. Aviary includes a configuration script for ruff, so devs can directly run ruff within the repository and it will use the correct rules. Aviary uses a maximum line length of 100 as a compromise between short, readable lines, and preventing excessive line breaks. The linting capability of ruff is also recommended to be run on all code you plan to contribute to Aviary, but it is currently not required.\n",
    "\n",
    "Ruff is not a dependency for Aviary, and is optional to install - if you are using pre-commit, that package will download and install a special version of ruff that is used only for pre-commit hooks. Installing ruff directly in your python environment is only needed if you wish to manually run the formatter or linter on your code before committing.\n",
    "\n",
    "\n",
    "The Aviary repository contains a configuration file that defines what is run when commits are made and with what options enabled. Currently this is limited to formatting with ruff.\n",
    "\n",
    "### Controlling Display Levels\n",
    "To make debugging issues easier, it is strongly recommended to make use of the {glue:md}`Verbosity` enum (_located in aviary/variable_info/enums.py_). This allows control over how much information is displayed to a user; too much information makes finding relevant information difficult and not enough information can make tracking difficult. Aviary uses a sliding scale of possible verbosity settings, loosly based off of [Ubuntu's format](https://discourse.ubuntu.com/t/cli-verbosity-levels/26973):\n",
    "| Verbosity Level | Numerical Value | Description |\n",
    "| :--- | :--- | :--- |\n",
    "| `QUIET` | 0 | All output except errors are suppressed |\n",
    "| `BRIEF` | 1 | Only important information is output, in human-readable format |\n",
    "| `VERBOSE` | 2 | All user-relevant information is output, in human-readable format |\n",
    "| `DEBUG` | 3 | Any information can be outputted, including warnings, intermediate calculations, etc., with no formatting requirement |\n",
    "\n",
    "Verbosity levels are defined in Aviary using the {glue:md}`Verbosity` Enum. Each verbosity level is paired with an integer value. In source code, verbosity level can be checked either through comparison with the Enum, or through equality or inequality comparisons with the matching integer value. This allows for code to be triggered not just at a specific level, but for any level above or below the desired setting. Numerical comparisons are recommended for several reasons: they don't require importing the {glue:md}`Verbosity` Enum, and activation is more flexible through the use of inequality comparators, preventing issues like a message only being outputted during {glue:md}`BRIEF` but not {glue:md}`VERBOSE` or {glue:md}`DEBUG`, which a user would expect to also see in higher verbosity settings.\n",
    "{glue:md}`BRIEF` is the default setting and is used in most cases; however, {glue:md}`QUIET` should be used for tests.\n",
    "\n",
    "It is preferred that within source code, the full Enums are used for better readability (e.g. {glue:md}`Verbosity.BRIEF`). For tests, scripts, examples, and other places where Aviary is called (rather than defined), it is ok to use the integer representations of verbosity to shorten lines and remove the need to import the {glue:md}`Verbosity` Enum (e.g. passing `0` as the verbosity argument to a function when {glue:md}`QUIET` is desired). An example of this is: *options.set_val(Settings.VERBOSITY, 0)* instead of *options.set_val(Settings.VERBOSITY, Verbosity.QUIET)*. Of course, it is always acceptable to use the full Enum in these cases for the same readability reasons."
   ]
  },
  {
   "cell_type": "code",
   "execution_count": null,
   "metadata": {
    "tags": [
     "remove-cell"
    ]
   },
   "outputs": [],
   "source": [
    "# Testing Cell\n",
    "import aviary.api as av\n",
    "\n",
    "av.Verbosity.BRIEF\n",
    "av.Verbosity.QUIET"
   ]
  },
  {
   "cell_type": "markdown",
   "metadata": {},
   "source": [
    "\n",
    "## Naming Conventions\n",
    "### Variables\n",
    "When it comes to variable naming, always be verbose! The Aviary team considers long but clear and descriptive names superior to shortened or vague names. Typing out a long name is only difficult once, as most IDEs will help you auto-complete long variable names, but the readability they add lasts a lifetime!\n",
    "The Aviary variable hierarchy is an excellent example of variable naming in Aviary. When adding variables to the hierarchy, adhering to the following naming conventions is requested. Inside the codebase itself, such as inside openMDAO components, it is not required but still highly recommended to follow these guidelines.\n",
    "\n",
    "**A good variable name should:**\n",
    "1. Not be ambiguous (avoid names that cannot be understood without context, like *x* or *calc*)\n",
    "2. Avoid abbreviation (*thrust_to_weight_ratio* preferred to *TW_ratio*). Note that Aviary will sometimes still shorten extremely long words such as \"miscellaneous\" to \"misc\" - use your best judgement!\n",
    "3. Use physical descriptions rather than jargon or mathematical symbols (*density* preferred to *rho* - even better, include what flight condition this density is at, such as *current*, *sea_level*, etc.)\n",
    "4. Place adjectives or modifiers after the \"main\" variable name rather than before (such as *thrust_max*, *thrust_sea_level_static*). This makes it is easier to find in a alphabetical list or when using autocomplete in an IDE - simply typing \"thrust\" will provide you with a handy list of all of the different kinds of thrust you can use.\n",
    "5. Be formatted in \"[snake case](https://en.wikipedia.org/wiki/Snake_case)\", or all lowercase with underscore-delineated words (such as *example_variable*)\n",
    "\n",
    "### Classes\n",
    "Class names should be written in \"[camel case](https://en.wikipedia.org/wiki/Camel_case)\", or naming with no delimiters such as dashes or underscores between words and each word beginning with a capital letter (such as *def ExampleClass()*).\n",
    "\n",
    "### Functions and Methods\n",
    "Function and method names, similar to variables, should be formatted in \"snake case\". Class methods that are not intended to be accessed outside of the class definition can append an underscore at the beginning of the method name to mark it as \"private\", to help other developers avoid using those methods incorrectly. An example of this is:\n",
    "*def _private_method(self):*\n",
    "\n",
    "## Import statements\n",
    "\n",
    "Ruff's linting rules allow both absolute and relative paths in `import` statements. Aviary uses absolute paths only. Following PEP8, imports should be grouped in the following order:\n",
    "\n",
    "1. Standard library imports (e.g. warnings, numpy).\n",
    "2. Related third party imports (e.g. openmdao.api).\n",
    "3. Local application/library specific imports (e.g. aviary.api).\n",
    "\n",
    "The library names should be in alphabetic order in each group and there should be a blank line between each group of imports.\n",
    "\n",
    "## Code Re-Use and Utility Functions\n",
    "If an identical block of code appears multiple times inside a file, consider moving it to a function to make your code cleaner. Repeated code bloats files and makes them less readable. If that function ends up being useful outside that individual file, move it to a \"utils.py\" file in the lowest-level directory shared by all files that need that function. If the utility function is useful across all of Aviary and is integral to the tool's operation, the aviary/utils folder is the appropriate place for it.\n"
   ]
  }
 ],
 "metadata": {
  "kernelspec": {
   "display_name": "aviary",
   "language": "python",
   "name": "python3"
  },
  "language_info": {
   "codemirror_mode": {
    "name": "ipython",
    "version": 3
   },
   "file_extension": ".py",
   "mimetype": "text/x-python",
   "name": "python",
   "nbconvert_exporter": "python",
   "pygments_lexer": "ipython3",
   "version": "3.12.3"
  }
 },
 "nbformat": 4,
 "nbformat_minor": 2
}
