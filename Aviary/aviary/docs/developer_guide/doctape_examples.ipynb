{
 "cells": [
  {
   "cell_type": "markdown",
   "metadata": {},
   "source": [
    "# DocTAPE Examples\n",
    "\n",
    "DocTAPE (Documentation Testing and Automated Placement of Expressions) is a collection of utility functions (and wrappers for [Glue](https://myst-nb.readthedocs.io/en/latest/render/glue.html)) that are useful\n",
    "for automating the process of building and testing documentation to ensure that documentation doesn't get stale.\n"
   ]
  },
  {
   "cell_type": "code",
   "execution_count": null,
   "metadata": {
    "tags": [
     "remove-cell"
    ]
   },
   "outputs": [],
   "source": [
    "# Testing Cell\n",
    "import inspect\n",
    "\n",
    "from aviary.utils import doctape\n",
    "\n",
    "imported_functions = {\n",
    "    k\n",
    "    for k, v in inspect.getmembers(doctape, inspect.isfunction)\n",
    "    if v.__module__ == doctape.__name__\n",
    "}\n",
    "# We prepare all function names for using in the current page (before or later)\n",
    "for func in imported_functions:\n",
    "    doctape.glue_variable(func, md_code=True)\n",
    "doctape.glue_variable(doctape.expected_error.__name__, md_code=True)"
   ]
  },
  {
   "cell_type": "markdown",
   "metadata": {},
   "source": [
    "## Custom Classes\n",
    "\n",
    "### {glue:md}`expected_error` \n",
    "Functions that raise an error provide the option to specify an error type to use instead of the default. This allows users to change the error type that is raised which can be useful in try/except blocks, especially when combined with the {glue:md}`expected_error` class."
   ]
  },
  {
   "cell_type": "code",
   "execution_count": null,
   "metadata": {},
   "outputs": [],
   "source": [
    "from aviary.utils.doctape import check_value, expected_error\n",
    "\n",
    "try:\n",
    "    check_value(int('1'), 2, error_type=expected_error)\n",
    "except expected_error:\n",
    "    print('we expected that to fail (1 is not equal to 2),')\n",
    "print('but this will still run')"
   ]
  },
  {
   "cell_type": "markdown",
   "metadata": {},
   "source": [
    "If we just used `ValueError` in the `except` branch, we might miss errors that we actually do want to catch."
   ]
  },
  {
   "cell_type": "code",
   "execution_count": null,
   "metadata": {
    "tags": [
     "raises-exception"
    ]
   },
   "outputs": [],
   "source": [
    "from aviary.utils.doctape import check_value, expected_error\n",
    "\n",
    "try:\n",
    "    check_value(int('1)'), 2)\n",
    "except ValueError:\n",
    "    print('1 is not equal to 2')\n",
    "print(\"we mistyped '1', so we should have failed\")\n",
    "\n",
    "try:\n",
    "    check_value(int('1)'), 2, error_type=expected_error)\n",
    "except expected_error:\n",
    "    print('1 is not equal to 2')\n",
    "print(\"something unnexpected happened (we mistyped '1'), and we won't reach this\")"
   ]
  },
  {
   "cell_type": "markdown",
   "metadata": {},
   "source": [
    "## Testing Functions\n",
    "\n",
    "The testing functions provide code that will raise errors when the documentation is built if the results don't match what is expected.\n",
    "These can be used in places where it would be too difficult to glue portions of the documentation, or it is preferable to have a more uninterupted flow in the markdown cells.\n",
    "\n",
    "However, it is important to note that it is possible to notice an error when the documentation builds and fix the code in the testing cell without updating the text in the markdown cell. For this reason, it is recommended to use a combination of testing and glueing functions in documentation.\n",
    "\n",
    "### {glue:md}`check_value`\n",
    "is a simple function for comparing two values.\n",
    "\n",
    "\n"
   ]
  },
  {
   "cell_type": "code",
   "execution_count": null,
   "metadata": {},
   "outputs": [],
   "source": [
    "from aviary.models.missions.height_energy_default import phase_info\n",
    "from aviary.utils.doctape import check_value\n",
    "\n",
    "user_opts = phase_info['climb']['user_options']\n",
    "check_value(user_opts['altitude_final'], (32000.0, 'ft'))\n",
    "check_value(user_opts['mach_optimize'], False)"
   ]
  },
  {
   "cell_type": "markdown",
   "metadata": {},
   "source": [
    "### {glue:md}`check_contains`\n",
    "confirms that all the elements of one iterable are contained in the other"
   ]
  },
  {
   "cell_type": "code",
   "execution_count": null,
   "metadata": {
    "tags": [
     "raises-exception"
    ]
   },
   "outputs": [],
   "source": [
    "import os\n",
    "\n",
    "import aviary.api as av\n",
    "from aviary.utils.doctape import check_contains\n",
    "\n",
    "off_design_examples = av.get_path(os.path.join('examples'))\n",
    "check_contains(\n",
    "    ('run_off_design_example.py'),\n",
    "    os.listdir(off_design_examples),\n",
    "    error_string='{var} not in ' + str(off_design_examples),\n",
    "    error_type=FileNotFoundError,\n",
    ")\n",
    "print('This file exists and does not raise any errors')\n",
    "check_contains(\n",
    "    ('made_up_file.py'),\n",
    "    os.listdir(off_design_examples),\n",
    "    error_string='{var} not in ' + str(off_design_examples),\n",
    "    error_type=FileNotFoundError,\n",
    ")\n",
    "print('This file does not exist, so we will not reach this point')"
   ]
  },
  {
   "cell_type": "markdown",
   "metadata": {},
   "source": [
    "Here we are checking that a certain file exists in a folder and specify a more useful error type than the default {glue:md}`default_error`\n",
    "\n",
    "### {glue:md}`check_args`\n",
    "gets the signature of a function and compares it to the arguments you are expecting.\n"
   ]
  },
  {
   "cell_type": "code",
   "execution_count": null,
   "metadata": {
    "tags": [
     "remove-output"
    ]
   },
   "outputs": [],
   "source": [
    "# Testing Cell\n",
    "from aviary.utils.doctape import check_args, check_contains, glue_variable\n",
    "\n",
    "default_error = RuntimeError\n",
    "check_args(check_contains, {'error_type': default_error}, exact=False)\n",
    "glue_variable('default_error', default_error.__name__)\n",
    "\n",
    "exact_arg = 'exact'\n",
    "check_args(check_args, exact_arg)\n",
    "glue_variable(exact_arg, md_code=True)"
   ]
  },
  {
   "cell_type": "markdown",
   "metadata": {},
   "source": [
    "Setting the {glue:md}`exact` argument to `False` means that we don't need to exactly match the signature of the function and instead just want to make sure that all of the arguments are valid and possibly that their default values are correct.\n",
    "\n",
    "### {glue:md}`run_command_no_file_error`\n",
    "executes a CLI command but won't fail if a FileNotFoundError is raised."
   ]
  },
  {
   "cell_type": "code",
   "execution_count": null,
   "metadata": {
    "tags": [
     "remove-output"
    ]
   },
   "outputs": [],
   "source": [
    "# Testing Cell\n",
    "from aviary.utils.doctape import run_command_no_file_error\n",
    "\n",
    "command = \"\"\"\n",
    "    aviary run_mission --optimizer IPOPT --phase_info outputted_phase_info.py \n",
    "    validation_cases/benchmark_tests/test_aircraft/aircraft_for_bench_FwFm.csv\n",
    "    --max_iter 0\n",
    "\"\"\"\n",
    "run_command_no_file_error(command)"
   ]
  },
  {
   "cell_type": "markdown",
   "metadata": {},
   "source": [
    "This allows the command syntax and setup to be tested without requiring all of the files that command will use."
   ]
  },
  {
   "cell_type": "code",
   "execution_count": null,
   "metadata": {
    "tags": [
     "remove-cell"
    ]
   },
   "outputs": [],
   "source": [
    "# Testing Cell\n",
    "import myst_nb\n",
    "\n",
    "from aviary.utils.doctape import glue_variable\n",
    "\n",
    "glue_variable(myst_nb.__name__)\n",
    "glue_variable(myst_nb.glue.__name__, md_code=True)"
   ]
  },
  {
   "cell_type": "markdown",
   "metadata": {},
   "source": [
    "## Glue Functions\n",
    "\n",
    "The glue functions provide a wrapper for the {glue:md}`myst_nb` {glue:md}`glue` function that simplifies the interface.\n",
    "\n",
    "After a variable has been glued in a Python cell, it can be accessed from a markdown cell with the \\{glue:md\\}\\`variable name\\` notation. Note that glue won't access the value of the glued variable until the documentation is built."
   ]
  },
  {
   "cell_type": "markdown",
   "metadata": {},
   "source": [
    "### {glue:md}`glue_variable`\n",
    "allows users to specify a value that is {glue:}`something different than` what is displayed, but defaults to using the name of the variable if nothing is specified. This makes adapting old documentation easier, because users can just wrap {glue:}`the entire phrase they want to replace`.\n",
    "\n",
    "Glued text can either be {glue:md}`plain text` or can be formatted as {glue:md}`inline code`. Note that the variables in this context do not have the same naming restrictions as Python variables, they can contain spaces or start with a number.\n"
   ]
  },
  {
   "cell_type": "code",
   "execution_count": null,
   "metadata": {
    "tags": [
     "remove-output"
    ]
   },
   "outputs": [],
   "source": [
    "# Testing Cell\n",
    "from aviary.utils.doctape import glue_variable\n",
    "\n",
    "glue_variable('plain text')\n",
    "glue_variable('inline code', md_code=True)\n",
    "glue_variable('something different than', 'not the same as')\n",
    "glue_variable('the entire phrase they want to replace')"
   ]
  },
  {
   "cell_type": "markdown",
   "metadata": {},
   "source": [
    "### {glue:md}`glue_keys` \n",
    "combines {glue:md}`get_all_keys` and {glue:md}`glue_variable` to glue all of the unique keys from a dict of dicts for later use."
   ]
  },
  {
   "cell_type": "code",
   "execution_count": null,
   "metadata": {
    "tags": [
     "remove-output"
    ]
   },
   "outputs": [],
   "source": [
    "# Testing Cell\n",
    "from aviary.utils.doctape import glue_keys\n",
    "\n",
    "simplified_dict = {\n",
    "    'phase1': {'altitude': {'val': 30, 'units': 'kft'}, 'mach': 0.4},\n",
    "    'phase2': {'altitude': {'val': 10, 'units': 'km'}, 'mach': 0.5},\n",
    "}\n",
    "glue_keys(simplified_dict)"
   ]
  },
  {
   "cell_type": "markdown",
   "metadata": {},
   "source": [
    "This allows us to ensure that {glue:md}`altitude` and {glue:md}`mach` do exist in the dictionary."
   ]
  },
  {
   "cell_type": "markdown",
   "metadata": {},
   "source": [
    "## Utility Functions\n",
    "\n",
    "Utility functions are provided that the user may find useful for generating or testing their documentation.\n",
    "\n",
    "### {glue:md}`gramatical_list`\n",
    "is a simple function that forms a string that can be used in a sentence using a list of items."
   ]
  },
  {
   "cell_type": "code",
   "execution_count": null,
   "metadata": {},
   "outputs": [],
   "source": [
    "from aviary.utils.doctape import gramatical_list\n",
    "\n",
    "single_element = gramatical_list([1])\n",
    "two_elements = gramatical_list(['apples', 'bananas'])\n",
    "three_elements_with_or = gramatical_list(['apples', 'bananas', 'strawberries'], 'or')\n",
    "\n",
    "print(f'I would like to order {single_element} smoothie.')\n",
    "print(f'Do you want {three_elements_with_or} in your smoothie?')\n",
    "print(f'I only want {two_elements}.')"
   ]
  },
  {
   "cell_type": "markdown",
   "metadata": {},
   "source": [
    "### {glue:md}`get_variable_name`\n",
    "is a function that just returns the name of the variable passed to it as a string.\n",
    "\n",
    "The contents of the variable can be of any type, as the variable isn't used in the function, but rather the [inspect](https://docs.python.org/3/library/inspect.html) functionality is used to retrieve the line of code itself.\n",
    "\n",
    "{glue:md}`get_variable_name` can even accept multiple arguments, in which case a list of the names will be returned."
   ]
  },
  {
   "cell_type": "code",
   "execution_count": null,
   "metadata": {
    "tags": [
     "hide-output"
    ]
   },
   "outputs": [],
   "source": [
    "from aviary.api import AviaryProblem\n",
    "from aviary.utils.doctape import get_variable_name, glue_variable\n",
    "\n",
    "glue_variable('function_name', get_variable_name(get_variable_name))\n",
    "glue_variable(get_variable_name(print))\n",
    "\n",
    "some_string = 'that contains important information'\n",
    "simple_variable_name = get_variable_name(some_string)\n",
    "phrase = simple_variable_name + ' is a variable ' + some_string\n",
    "print(phrase)\n",
    "\n",
    "complex_object_name = get_variable_name(AviaryProblem)\n",
    "print(complex_object_name)\n",
    "\n",
    "multiple = 2\n",
    "arguments = str\n",
    "print(get_variable_name(multiple, arguments))"
   ]
  },
  {
   "cell_type": "markdown",
   "metadata": {},
   "source": [
    "{glue:md}`function_name` can be called directly in functions like {glue:md}`print` or {glue:md}`glue_variable` or the results can be saved.\n",
    "\n",
    "### {glue:md}`get_previous_line`\n",
    "returns the previous line of code as a string, which allows users to grab individual lines of code from Python cells to use as inline code in markdown cells."
   ]
  },
  {
   "cell_type": "code",
   "execution_count": null,
   "metadata": {
    "tags": [
     "remove-output"
    ]
   },
   "outputs": [],
   "source": [
    "# Testing Cell\n",
    "from aviary.api import Aircraft\n",
    "from aviary.utils.doctape import get_previous_line, get_variable_name, glue_variable\n",
    "\n",
    "glue_variable('value', Aircraft.Design.EMPTY_MASS, md_code=True)\n",
    "glue_variable('var_value_code', get_previous_line(), md_code=True)\n",
    "glue_variable(get_variable_name(Aircraft.Design.EMPTY_MASS), md_code=True)\n",
    "glue_variable('var_name_code', get_previous_line(), md_code=True)"
   ]
  },
  {
   "cell_type": "markdown",
   "metadata": {},
   "source": [
    "If you want to glue the name of a variable, instead of the value that variable holds, you can use the {glue:md}`get_variable_name` function to extract it.\n",
    "\n",
    "For example:\n",
    "Using {glue:md}`var_value_code` will result in {glue:md}`value`, whereas using {glue:md}`var_name_code` will result in {glue:md}`Aircraft.Design.EMPTY_MASS`\n",
    "\n",
    "### {glue:md}`get_attribute_name`\n",
    "allows users to get the name of object attributes in order to glue them into documentation. This works well for Enums or Class variables that have unique values."
   ]
  },
  {
   "cell_type": "code",
   "execution_count": null,
   "metadata": {
    "tags": [
     "hide-output"
    ]
   },
   "outputs": [],
   "source": [
    "import aviary.api as av\n",
    "from aviary.api import LegacyCode\n",
    "from aviary.utils.doctape import get_attribute_name, glue_variable\n",
    "\n",
    "some_custom_alias = av.LegacyCode\n",
    "\n",
    "gasp_name = get_attribute_name(some_custom_alias, LegacyCode.GASP)\n",
    "glue_variable(gasp_name)\n",
    "brief_name = get_attribute_name(av.Verbosity, 1)\n",
    "glue_variable(brief_name)\n",
    "verbosity = get_attribute_name(av.Settings, av.Settings.VERBOSITY)\n",
    "glue_variable(verbosity)\n",
    "glue_variable(av.Settings.VERBOSITY)"
   ]
  },
  {
   "cell_type": "markdown",
   "metadata": {},
   "source": [
    "###  {glue:md}`get_all_keys` and {glue:md}`get_value`\n",
    "are intended to be used together for getting keys from nested dictionaries and then getting values back from those nested dictionaries, respectively. They were originally added for complex dictionaries, like the phase_info."
   ]
  },
  {
   "cell_type": "code",
   "execution_count": null,
   "metadata": {},
   "outputs": [],
   "source": [
    "from aviary.utils.doctape import get_all_keys, get_value\n",
    "\n",
    "simplified_dict = {\n",
    "    'phase1': {'altitude': {'val': 30, 'units': 'kft'}, 'mach': 0.4},\n",
    "    'phase2': {'altitude': {'val': 10, 'units': 'km'}, 'mach': 0.5},\n",
    "}\n",
    "unique_keys_only = get_all_keys(simplified_dict)\n",
    "all_keys = get_all_keys(simplified_dict, track_layers=True)\n",
    "print(unique_keys_only)\n",
    "print(all_keys)\n",
    "\n",
    "p1_alt = get_value(simplified_dict, 'phase1.altitude.val')\n",
    "print(p1_alt)"
   ]
  },
  {
   "cell_type": "code",
   "execution_count": null,
   "metadata": {
    "tags": [
     "remove-cell"
    ]
   },
   "outputs": [],
   "source": [
    "# Testing Cell\n",
    "from aviary.api import Aircraft, Mission\n",
    "from aviary.utils.doctape import check_args, get_all_keys, get_previous_line, glue_variable\n",
    "\n",
    "glue_variable(Aircraft.__name__)\n",
    "glue_variable(Mission.__name__)\n",
    "\n",
    "track_layers = 'track_layers'\n",
    "check_args(get_all_keys, track_layers)\n",
    "glue_variable(track_layers)\n",
    "\n",
    "get_all_keys(Mission, track_layers='Mission')\n",
    "track_layers_with_name = get_previous_line().split(', ')[1].split(')')[0]\n",
    "glue_variable('track_layers_with_Mission', track_layers_with_name, display=False)"
   ]
  },
  {
   "cell_type": "markdown",
   "metadata": {},
   "source": [
    "These can also be used to recursively get all of the attributes from a complex object, like the {glue:md}`Aircraft` or {glue:md}`Mission` hierarchies.\n"
   ]
  },
  {
   "cell_type": "code",
   "execution_count": null,
   "metadata": {},
   "outputs": [],
   "source": [
    "from aviary.api import Mission\n",
    "from aviary.utils.doctape import get_all_keys, get_value, glue_keys\n",
    "\n",
    "k1 = get_all_keys(Mission)\n",
    "print(k1[:5])  # Display the first 5 keys in Mission\n",
    "k2 = get_all_keys(Mission, track_layers=True)\n",
    "print(k2[:5])  # Display the first 5 keys in Mission\n",
    "k3 = get_all_keys(Mission, track_layers='Mission')\n",
    "print(k3[:5])  # Display the first 5 keys in Mission\n",
    "\n",
    "glue_keys(Mission, False)\n",
    "\n",
    "print(get_value(Mission, 'Constraints.GEARBOX_SHAFT_POWER_RESIDUAL'))"
   ]
  },
  {
   "cell_type": "markdown",
   "metadata": {},
   "source": [
    "If {glue:md}`get_all_keys` is used on an object like {glue:md}`Mission` without specifying a value for {glue:md}`track_layers` will return all of the uniquely named attributes of the object (such as {glue:md}GEARBOX_SHAFT_POWER_RESIDUAL). Setting {glue:md}`track_layers` to `True` will get all of the attributes in dot notation, but will not include the name of the original object ({glue:md}Constraints.GEARBOX_SHAFT_POWER_RESIDUAL). If you want the full name of the attribute, including the name of the original object, you can use that name as the value of {glue:md}`track_layers` (using {glue:md}track_layers_with_Mission gives us access to {glue:md}Mission.Constraints.GEARBOX_SHAFT_POWER_RESIDUAL)\n",
    "\n",
    "Using {glue:md}`glue_keys` handles this for us automatically by using the `__name__` attribute of the object passed to it as the value of {glue:md}`track_layers`.\n",
    "\n",
    "As with the dict_of_dicts, we can recusively get the value of an attribute using the full path along with {glue:md}`get_value`."
   ]
  }
 ],
 "metadata": {
  "kernelspec": {
   "display_name": "aviary",
   "language": "python",
   "name": "python3"
  },
  "language_info": {
   "codemirror_mode": {
    "name": "ipython",
    "version": 3
   },
   "file_extension": ".py",
   "mimetype": "text/x-python",
   "name": "python",
   "nbconvert_exporter": "python",
   "pygments_lexer": "ipython3",
   "version": "3.12.9"
  }
 },
 "nbformat": 4,
 "nbformat_minor": 2
}
