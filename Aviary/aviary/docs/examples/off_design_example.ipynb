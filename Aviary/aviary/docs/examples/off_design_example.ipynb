{
 "cells": [
  {
   "cell_type": "markdown",
   "metadata": {},
   "source": [
    "# Off-Design Mission Example\n",
    "\n",
    "The off-design mission example here demonstrates the capability in the height energy formulation, using the level 2 interface.\n",
    "By default Aviary uses a height-energy formulation unless you have specified otherwise.\n",
    "Running a sizing mission followed by running fallout and alternate missions on the sized aircraft will be presented.\n",
    "An overview of off-design missions is presented in [Off-Design Mission User Guide](../user_guide/off_design_missions).\n",
    "\n",
    "The example is available in `aviary/examples/run_off_design_example.py`\n",
    "The examples start with `run_level2_example.py` and adds off-design missions.\n",
    "\n",
    "The results of the sizing problem are saved using `prob.save_sizing_to_json()`.\n",
    "By default, this method saves the results to `sizing_problem.json` but the name of the file may be changed using the `json_filename` argument.\n",
    "The saved problem may then be used to run off-design missions using `prob.fallout_mission()` and `prob.alternate_mission()`.\n",
    "\n",
    "This example can be modified to use the 2DOF formulation by using `aircraft_for_bench_GwGm` instead of `aircraft_for_bench_FwFm` and import the default 2DOF phase_info (aviary/models/missions/two_dof_default.py) instead of the `phase_info` declared in the problem.\n"
   ]
  },
  {
   "cell_type": "markdown",
   "metadata": {},
   "source": [
    "The methods used to run the off-design missions accept the mission parameters `payload_mass`, `mission_range`, `mission_mass`, and `phase_info` as inputs depending on the type of mission being run.\n",
    "If these values are not specified, the same values as the design mission are used by default.\n",
    "For this example, we simply run a fallout and alternate mission with those default values.\n",
    "The expected result is that the range for the fallout mission and the mission mass for the alternate will be the same as the values computed by the sizing mission.\n",
    "\n",
    "The results of this study are output after interrogating the problem objects."
   ]
  },
  {
   "cell_type": "markdown",
   "metadata": {},
   "source": [
    "\n",
    "## Sizing Results\n",
    "Design Range = 3375.\n",
    "Design Gross mass = 175871.01115631\n",
    "Summary Gross mass = 175871.01115631\n",
    "\n",
    "## Fallout Results\n",
    "Summary Range = 3375.00699084\n",
    "Design Gross mass = 175871.01115631\n",
    "Summary Gross mass = 175871.01115631\n",
    "\n",
    "## Alternate Results\n",
    "Summary Range = 3375.\n",
    "Design Gross mass = 175871.01115631\n",
    "Summary Gross mass = 175869.64047452\n",
    "\n",
    "\n",
    "In these results, `design` values represent the values used to size the aircraft, while the `summary` values represent the values used in the specific mission that is run.\n",
    "We can see that the results are almost identical as expected."
   ]
  }
 ],
 "metadata": {
  "kernelspec": {
   "display_name": "Python 3 (ipykernel)",
   "language": "python",
   "name": "python3"
  },
  "language_info": {
   "codemirror_mode": {
    "name": "ipython",
    "version": 3
   },
   "file_extension": ".py",
   "mimetype": "text/x-python",
   "name": "python",
   "nbconvert_exporter": "python",
   "pygments_lexer": "ipython3",
   "version": "3.11.0"
  }
 },
 "nbformat": 4,
 "nbformat_minor": 2
}
