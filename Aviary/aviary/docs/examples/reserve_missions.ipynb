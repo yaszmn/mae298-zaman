{
 "cells": [
  {
   "cell_type": "code",
   "execution_count": null,
   "metadata": {
    "tags": [
     "remove-cell"
    ]
   },
   "outputs": [],
   "source": [
    "# Testing Cell\n",
    "import aviary.api as av\n",
    "from aviary.utils.doctape import glue_variable\n",
    "from aviary.utils.functions import get_model, get_path\n",
    "\n",
    "folder = get_path('examples/reserve_missions')\n",
    "reserve_missions_dir = folder.relative_to(av.top_dir.parent)\n",
    "glue_variable(reserve_missions_dir, md_code=True)\n",
    "\n",
    "level1_example = 'run_level1_example.py'\n",
    "get_path(folder.parent.joinpath(level1_example))\n",
    "glue_variable(level1_example, md_code=True)\n",
    "\n",
    "run_reserve_mission_multiphase = 'run_reserve_mission_multiphase.py'\n",
    "get_path(folder.joinpath(run_reserve_mission_multiphase))\n",
    "glue_variable(run_reserve_mission_multiphase, md_code=True)\n",
    "\n",
    "expected_values = {\n",
    "    'reserve': True,\n",
    "    'target_distance': (300, 'km'),\n",
    "    'time_duration': (30, 'min'),\n",
    "}\n",
    "for key, val in expected_values.items():\n",
    "    glue_variable(key, md_code=True)\n",
    "    var_with_val = f'\"{key}\": {val},'\n",
    "    glue_variable(key + '_with_val', var_with_val, md_code=True)"
   ]
  },
  {
   "cell_type": "markdown",
   "metadata": {},
   "source": [
    "# Reserve Mission Example\n",
    "The following is an example implementation of a reserve mission as outlined in the [Reserve Mission User Guide](../user_guide/reserve_missions). The full script that runs this example is avaliable in {glue:md}`aviary/examples/reserve_missions`\n",
    "\n",
    "The example is based off of the {glue:md}`run_level1_example.py` and adds a reserve mission with multiple phases. The reserve mission consists of a climb phase, a fixed-range cruise phase, a fixed-duration cruise phase, and then finally a descent phase.\n",
    "\n",
    "This multiphase reserve mission example demonstrates how to create an arbitrarily ordered set of phases for a reserve mission, including climb and descent phases. The same phase info used in the Level 1 example is imported, then reserve mission segments are manually defined and added to it. These new phases are specifically treated as reserve mission segments by Aviary because they contain the option `\"reserve\": True`.\n",
    "\n",
    "For the first cruise phase, the range is fixed to 300 km. This is done by adding `\"target_distance\": (300, 'km')` to that phase's options.\n",
    "\n",
    "The second cruise phase is set to a 30 min duration, essentially a loiter segment. This is done by setting the option `\"time_duration\": (30, 'min')`.\n",
    "\n",
    "These two options are mutually exclusive - you can't fix both distance and duration in your mission, or the problem becomes infeasible and can't be solved.\n",
    "\n",
    "Results from this mission can be seen in the figure below.\n",
    "\n",
    "![MultiphaseTrajectory](images/multiphase_reserve_altitude.png)\n",
    "\n",
    "The reserve mission can be clearly seen following the regular mission.\n",
    "There are two distinct cruise segments visible within the reserve mission, which are our fixed-distance and fixed-duration cruises.\n",
    "\n",
    "We can also take a look at the plots of distance and mass vs. time to verify that the reserve mission directly connects to the main mission without any discontinuities.\n",
    "\n",
    "![MultiphaseDistance](images/multiphase_reserve_distance.png)\n",
    "![MultiphaseMass](images/multiphase_reserve_mass.png)\n",
    "\n",
    "## Discontinuous Reserve Missions\n",
    "It is possible to define a reserve mission that does not directly connect to the main mission. This may be desired for a variety of reasons, and is easily accomplished. For example, if you removed the climb, fixed-duration cruise, and descent segments from the multiphase reserve mission (leaving only the fixed-range cruise), you can generate a discontinuous mission trajectory that looks like the following:\n",
    "\n",
    "![SinglePhaseTrajectory](images/fixed_range_reserve_altitude.png)"
   ]
  }
 ],
 "metadata": {
  "kernelspec": {
   "display_name": "aviary",
   "language": "python",
   "name": "python3"
  },
  "language_info": {
   "codemirror_mode": {
    "name": "ipython",
    "version": 3
   },
   "file_extension": ".py",
   "mimetype": "text/x-python",
   "name": "python",
   "nbconvert_exporter": "python",
   "pygments_lexer": "ipython3",
   "version": "3.12.9"
  }
 },
 "nbformat": 4,
 "nbformat_minor": 4
}
