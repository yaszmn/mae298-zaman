{
 "cells": [
  {
   "cell_type": "code",
   "execution_count": null,
   "metadata": {
    "tags": [
     "remove-cell"
    ]
   },
   "outputs": [],
   "source": [
    "# Testing Cell\n",
    "import aviary.api as av\n",
    "from aviary.utils.doctape import glue_variable\n",
    "\n",
    "glue_variable('fuel_burned', av.Mission.Summary.FUEL_BURNED, True)"
   ]
  },
  {
   "cell_type": "markdown",
   "metadata": {},
   "source": [
    "# Optimizing the Mission Profile of a Conventional Aircraft\n",
    "\n",
    "Building upon our previous example, this notebook introduces more complexity into the Aviary optimization process.\n",
    "Please see the [simple mission example](simple_mission_example) if you haven't already.\n",
    "\n",
    "## Increasing Complexity in Phase Information\n",
    "\n",
    "We will now modify the `phase_info` object from our prior example by increasing {glue:md}`num_segments` to 3 and setting {glue:md}`mach_optimize` to `True` in each of the three phases.\n",
    "This means that we'll query the aircraft performance at more points along the mission and also give the optimizer the freedom to choose an optimal Mach profile.\n",
    "\n",
    "```{note}\n",
    "We are still using a {glue:md}`mach_polynomial_order` and {glue:md}`altitude_polynomial_order` of 1, which means that the optimal Mach profiles for each phase will be linear (straight lines).\n",
    "Later in this example, we increase this order which will allow the optimizer to choose a more complex Mach profile.\n",
    "```"
   ]
  },
  {
   "cell_type": "code",
   "execution_count": null,
   "metadata": {},
   "outputs": [],
   "source": [
    "phase_info = {\n",
    "    'pre_mission': {'include_takeoff': False, 'optimize_mass': True},\n",
    "    'climb_1': {\n",
    "        'subsystem_options': {'core_aerodynamics': {'method': 'computed'}},\n",
    "        'user_options': {\n",
    "            'num_segments': 3,\n",
    "            'order': 3,\n",
    "            'distance_solve_segments': False,\n",
    "            'mach_optimize': True,\n",
    "            'mach_polynomial_order': 1,\n",
    "            'mach_initial': (0.2, 'unitless'),\n",
    "            'mach_final': (0.72, 'unitless'),\n",
    "            'mach_bounds': ((0.18, 0.74), 'unitless'),\n",
    "            'altitude_optimize': False,\n",
    "            'altitude_polynomial_order': 1,\n",
    "            'altitude_initial': (0.0, 'ft'),\n",
    "            'altitude_final': (30500.0, 'ft'),\n",
    "            'altitude_bounds': ((0.0, 31000.0), 'ft'),\n",
    "            'throttle_enforcement': 'path_constraint',\n",
    "            'time_initial_bounds': ((0.0, 0.0), 'min'),\n",
    "            'time_duration_bounds': ((27.0, 81.0), 'min'),\n",
    "        },\n",
    "        'initial_guesses': {'time': ([0, 54], 'min')},\n",
    "    },\n",
    "    'cruise': {\n",
    "        'subsystem_options': {'core_aerodynamics': {'method': 'computed'}},\n",
    "        'user_options': {\n",
    "            'num_segments': 3,\n",
    "            'order': 3,\n",
    "            'mach_optimize': True,\n",
    "            'mach_polynomial_order': 1,\n",
    "            'mach_initial': (0.72, 'unitless'),\n",
    "            'mach_final': (0.72, 'unitless'),\n",
    "            'mach_bounds': ((0.7, 0.74), 'unitless'),\n",
    "            'altitude_optimize': False,\n",
    "            'altitude_initial': (30500.0, 'ft'),\n",
    "            'altitude_final': (31000.0, 'ft'),\n",
    "            'altitude_bounds': ((30000.0, 31500.0), 'ft'),\n",
    "            'throttle_enforcement': 'boundary_constraint',\n",
    "            'time_initial_bounds': ((27.0, 81.0), 'min'),\n",
    "            'time_duration_bounds': ((85.5, 256.5), 'min'),\n",
    "        },\n",
    "        'initial_guesses': {'time': ([54, 171], 'min')},\n",
    "    },\n",
    "    'descent_1': {\n",
    "        'subsystem_options': {'core_aerodynamics': {'method': 'computed'}},\n",
    "        'user_options': {\n",
    "            'num_segments': 3,\n",
    "            'order': 3,\n",
    "            'mach_optimize': True,\n",
    "            'mach_polynomial_order': 1,\n",
    "            'mach_initial': (0.72, 'unitless'),\n",
    "            'mach_final': (0.2, 'unitless'),\n",
    "            'mach_bounds': ((0.18, 0.74), 'unitless'),\n",
    "            'altitude_optimize': False,\n",
    "            'altitude_initial': (31000.0, 'ft'),\n",
    "            'altitude_final': (500.0, 'ft'),\n",
    "            'altitude_bounds': ((0.0, 31500.0), 'ft'),\n",
    "            'throttle_enforcement': 'path_constraint',\n",
    "            'time_initial_bounds': ((112.5, 337.5), 'min'),\n",
    "            'time_duration_bounds': ((26.5, 79.5), 'min'),\n",
    "        },\n",
    "        'initial_guesses': {'time': ([225, 53], 'min')},\n",
    "    },\n",
    "    'post_mission': {\n",
    "        'include_landing': False,\n",
    "        'constrain_range': True,\n",
    "        'target_range': (1915, 'nmi'),\n",
    "    },\n",
    "}"
   ]
  },
  {
   "cell_type": "code",
   "execution_count": null,
   "metadata": {
    "tags": [
     "remove-cell"
    ]
   },
   "outputs": [],
   "source": [
    "# Testing Cell\n",
    "from aviary.models.missions.height_energy_default import phase_info as HE_phase_info\n",
    "from aviary.utils.doctape import glue_keys\n",
    "\n",
    "HE_phase_info.update(phase_info)\n",
    "glue_keys(HE_phase_info)"
   ]
  },
  {
   "cell_type": "markdown",
   "metadata": {},
   "source": [
    "## Running Aviary with Updated Parameters\n",
    "\n",
    "Let's run the Aviary optimization with our updated `phase_info` object in the same way as before.\n"
   ]
  },
  {
   "cell_type": "code",
   "execution_count": null,
   "metadata": {
    "tags": [
     "remove-cell"
    ]
   },
   "outputs": [],
   "source": [
    "from openmdao.core.problem import _clear_problem_names\n",
    "\n",
    "_clear_problem_names()  # need to reset these to simulate separate runs\n",
    "from openmdao.utils.reports_system import clear_reports\n",
    "\n",
    "clear_reports()"
   ]
  },
  {
   "cell_type": "code",
   "execution_count": null,
   "metadata": {},
   "outputs": [],
   "source": [
    "import aviary.api as av\n",
    "\n",
    "prob = av.run_aviary(\n",
    "    'models/aircraft/test_aircraft/aircraft_for_bench_FwFm.csv',\n",
    "    phase_info,\n",
    "    optimizer='SLSQP',\n",
    "    make_plots=True,\n",
    ")"
   ]
  },
  {
   "cell_type": "markdown",
   "metadata": {},
   "source": [
    "Now that we've run Aviary, we can look at the results.\n",
    "Open up the automatically generated `traj_results_report.html` and scroll through it to visualize the results.\n",
    "\n",
    "Here are the altitude and Mach profiles:\n",
    "\n",
    "![Altitude and Mach Profiles](images/advanced_results.png)\n",
    "\n",
    "We note two major changes compared to our first example.\n",
    "\n",
    "The first is that we have many more points where the flight dynamics were evaluated because we increased {glue:md}`num_segments` to 3.\n",
    "This means that we have more points shown on the resulting plots.\n",
    "\n",
    "The second is that the optimizer chose the optimal Mach profile.\n",
    "Again, each phase's Mach profile is constrained to be linear because we set {glue:md}`mach_polynomial_order` and {glue:md}`altitude_polynomial_order` to 1.\n",
    "However, we see that the optimizer chose to decrease the Mach number during the cruise-climb segment to minimize fuel burn.\n",
    "\n",
    "```{note}\n",
    "Remember, we did not allow the optimizer to control the altitude profile, so that remains fixed.\n",
    "```\n",
    "\n",
    "Let's take a look at the optimization objective, {glue:md}`fuel_burned`:"
   ]
  },
  {
   "cell_type": "code",
   "execution_count": null,
   "metadata": {},
   "outputs": [],
   "source": [
    "print(prob.get_val(av.Mission.Summary.FUEL_BURNED, units='kg')[0])"
   ]
  },
  {
   "cell_type": "markdown",
   "metadata": {},
   "source": [
    "We can print `fuel_burned` in pounds easily, thanks to OpenMDAO's automatic unit conversion feature:"
   ]
  },
  {
   "cell_type": "code",
   "execution_count": null,
   "metadata": {},
   "outputs": [],
   "source": [
    "print(prob.get_val(av.Mission.Summary.FUEL_BURNED, units='lb')[0])"
   ]
  },
  {
   "cell_type": "code",
   "execution_count": null,
   "metadata": {
    "tags": [
     "remove-cell"
    ]
   },
   "outputs": [],
   "source": [
    "# Testing Cell\n",
    "from aviary.utils.doctape import glue_variable\n",
    "\n",
    "new_filename = 'modified_aircraft.csv'\n",
    "glue_variable(new_filename, md_code=True)"
   ]
  },
  {
   "cell_type": "markdown",
   "metadata": {},
   "source": [
    "## Modifying the Aircraft Configuration\n",
    "\n",
    "Next, we'll modify the aircraft configuration by decreasing the wing aspect ratio by 0.2.\n",
    "This results in a less slender wing, which will increase the induced drag.\n",
    "We've made this change and have a modified aircraft data file called {glue:md}`modified_aircraft.csv`."
   ]
  },
  {
   "cell_type": "code",
   "execution_count": null,
   "metadata": {
    "tags": [
     "hide-input"
    ]
   },
   "outputs": [],
   "source": [
    "import csv\n",
    "\n",
    "filename = 'models/aircraft/test_aircraft/aircraft_for_bench_FwFm.csv'\n",
    "filename = av.get_path(filename)\n",
    "\n",
    "# Read the file\n",
    "with open(filename, 'r') as file:\n",
    "    reader = csv.reader(file)\n",
    "    lines = list(reader)\n",
    "\n",
    "# Find the index of the line containing 'aircraft:wing:span'\n",
    "index = None\n",
    "for i, line in enumerate(lines):\n",
    "    if 'aircraft:wing:aspect_ratio' in line:\n",
    "        index = i\n",
    "        break\n",
    "\n",
    "# Modify the value in the line\n",
    "if index is not None:\n",
    "    aspect_ratio = float(lines[index][1]) - 0.2\n",
    "    lines[index][1] = str(aspect_ratio)\n",
    "\n",
    "# Write the modified content to a new CSV file\n",
    "with open(new_filename, 'w', newline='') as file:\n",
    "    writer = csv.writer(file)\n",
    "    writer.writerows(lines)"
   ]
  },
  {
   "cell_type": "markdown",
   "metadata": {},
   "source": [
    "## Re-running the Optimization with Modified Aircraft\n",
    "\n",
    "Now, let's re-run the optimization with the modified aircraft configuration.\n",
    "We'll use the same `phase_info` object as before, but we'll change the input deck to point to our new aircraft file."
   ]
  },
  {
   "cell_type": "code",
   "execution_count": null,
   "metadata": {
    "tags": [
     "remove-cell"
    ]
   },
   "outputs": [],
   "source": [
    "from openmdao.core.problem import _clear_problem_names\n",
    "\n",
    "_clear_problem_names()  # need to reset these to simulate separate runs\n",
    "from openmdao.utils.reports_system import clear_reports\n",
    "\n",
    "clear_reports()"
   ]
  },
  {
   "cell_type": "code",
   "execution_count": null,
   "metadata": {},
   "outputs": [],
   "source": [
    "prob = av.run_aviary('modified_aircraft.csv', phase_info, optimizer='SLSQP', make_plots=True)"
   ]
  },
  {
   "cell_type": "markdown",
   "metadata": {},
   "source": [
    "The case again converged in relatively few iterations.\n",
    "Let's take a look at the fuel burn value:"
   ]
  },
  {
   "cell_type": "code",
   "execution_count": null,
   "metadata": {},
   "outputs": [],
   "source": [
    "print(prob.get_val(av.Mission.Summary.FUEL_BURNED, units='kg')[0])"
   ]
  },
  {
   "cell_type": "markdown",
   "metadata": {},
   "source": [
    "As expected, it's a bit higher than our prior run that had a larger aspect ratio.\n",
    "\n",
    "## Increasing the Polynomial Control Order\n",
    "\n",
    "Next, we'll increase the {glue:md}`mach_polynomial_order` and {glue:md}`altitude_polynomial_order` to 3 for the climb and descent phases.\n",
    "This means that the optimizer will be able to choose a cubic Mach and altitude profile per phase instead of a straight line.\n",
    "We'll use the original aircraft configuration for this run.\n",
    "\n",
    "```{note}\n",
    "We'll use the IPOPT optimizer for this problem as it will handle the increased complexity better than SLSQP.\n",
    "```"
   ]
  },
  {
   "cell_type": "code",
   "execution_count": null,
   "metadata": {
    "tags": [
     "remove-cell"
    ]
   },
   "outputs": [],
   "source": [
    "from openmdao.core.problem import _clear_problem_names\n",
    "\n",
    "_clear_problem_names()  # need to reset these to simulate separate runs\n",
    "from openmdao.utils.reports_system import clear_reports\n",
    "\n",
    "clear_reports()"
   ]
  },
  {
   "cell_type": "code",
   "execution_count": null,
   "metadata": {},
   "outputs": [],
   "source": [
    "phase_info['climb_1']['user_options']['mach_polynomial_order'] = 3\n",
    "phase_info['climb_1']['user_options']['altitude_polynomial_order'] = 3\n",
    "phase_info['cruise']['user_options']['mach_polynomial_order'] = 1\n",
    "phase_info['cruise']['user_options']['altitude_polynomial_order'] = 1\n",
    "phase_info['descent_1']['user_options']['mach_polynomial_order'] = 3\n",
    "phase_info['descent_1']['user_options']['altitude_polynomial_order'] = 3\n",
    "\n",
    "prob = av.run_aviary(\n",
    "    'models/aircraft/test_aircraft/aircraft_for_bench_FwFm.csv',\n",
    "    phase_info,\n",
    "    optimizer='IPOPT',\n",
    "    make_plots=True,\n",
    ")"
   ]
  },
  {
   "cell_type": "markdown",
   "metadata": {},
   "source": [
    "And let's print out the objective value, fuel burned:"
   ]
  },
  {
   "cell_type": "code",
   "execution_count": null,
   "metadata": {},
   "outputs": [],
   "source": [
    "print(prob.get_val(av.Mission.Summary.FUEL_BURNED, units='kg')[0])"
   ]
  },
  {
   "cell_type": "markdown",
   "metadata": {},
   "source": [
    "The added flexibility in the mission allowed the optimizer to reduce the fuel burn compared to the linear Mach profile case.\n",
    "\n",
    "Looking at the altitude and Mach profiles, we see that the optimizer chose a more subtly complex Mach profile:\n",
    "\n",
    "![Altitude and Mach Profiles](images/cubic_advanced_results.png)"
   ]
  },
  {
   "cell_type": "markdown",
   "metadata": {},
   "source": [
    "## Conclusion\n",
    "\n",
    "This example demonstrated how to use Aviary to optimize a more complex mission.\n",
    "We increased the number of segments in the mission, allowed the optimizer to choose the optimal Mach profile, and increased the polynomial control order to allow for more complex Mach profiles.\n",
    "We also modified the aircraft configuration to demonstrate how Aviary can be used to quickly evaluate the impact of design changes on the mission performance.\n"
   ]
  }
 ],
 "metadata": {
  "kernelspec": {
   "display_name": "Python 3 (ipykernel)",
   "language": "python",
   "name": "python3"
  },
  "language_info": {
   "codemirror_mode": {
    "name": "ipython",
    "version": 3
   },
   "file_extension": ".py",
   "mimetype": "text/x-python",
   "name": "python",
   "nbconvert_exporter": "python",
   "pygments_lexer": "ipython3",
   "version": "3.12.3"
  }
 },
 "nbformat": 4,
 "nbformat_minor": 4
}
