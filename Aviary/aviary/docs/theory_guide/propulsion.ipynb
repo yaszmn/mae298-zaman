{
 "cells": [
  {
   "cell_type": "code",
   "execution_count": null,
   "metadata": {
    "tags": [
     "remove-cell"
    ]
   },
   "outputs": [],
   "source": [
    "# Testing Cell\n",
    "from aviary.subsystems.propulsion.engine_deck import EngineDeck, EngineScaling\n",
    "from aviary.subsystems.propulsion.engine_model import EngineModel\n",
    "from aviary.utils.doctape import glue_variable\n",
    "\n",
    "glue_variable(EngineModel.__name__ + 's', md_code=True, display=True)\n",
    "glue_variable(EngineDeck.__name__ + 's', md_code=True, display=True)\n",
    "\n",
    "glue_variable(EngineModel.__name__, md_code=True)\n",
    "glue_variable(EngineDeck.__name__, md_code=True)\n",
    "glue_variable(EngineScaling.__name__, md_code=True)"
   ]
  },
  {
   "cell_type": "markdown",
   "metadata": {},
   "source": [
    "# Core Propulsion Subsystem\n",
    "\n",
    "Propulsion is unique among the core Aviary subsystems for its level of flexibility and compatibility with custom and external code. Aviary supports an arbitrary number of engines on a vehicle which can be modeled using the built-in method (engine decks) alongside any user-provided models.\n",
    "\n",
    "Aviary propulsion can be thought of as having two levels: system-level propulsion and individual engines. The top-level propulsion subsystem is model-agnostic and exists to organize engines so that the appropriate analyses are called during pre-, during, and post-mission analysis, and to sum relevant outputs into system-level totals that other subsystems can use. Modeling of each type of engine on the aircraft is handled with a class called `EngineModels`. This class inherits from the `SubsystemBuilderBase`, with a few minor additions to make defining engines easier.\n",
    "\n",
    "This page details how the core propulsion subsystem works, focusing on using `EngineDecks`. External propulsion subsystems (when wrapped into an `EngineModel`) are treated the same way by Aviary, but the details of what is computed and where will differ by model."
   ]
  },
  {
   "cell_type": "markdown",
   "metadata": {},
   "source": [
    "## Preprocessing\n",
    "\n",
    "Before analysis is performed, Aviary's propulsion preprocessor function is used to ensure input consistency. These consistency checks serve two functions.\n",
    "First, the inputs and options used to initialize individual {glue:md}`EngineModels` and the vehicle-level variable hierarchy need to match. The vehicle-level hierarchy's engine-related inputs must be vectorized to include information for all individual engines being modeled.\n",
    "Second, a select number of inputs are checked for physical consistency with each other. For example, the sum of wing- and fuselage-mounted engines must match the total number of engines on the vehicle.\n",
    "\n",
    "Because engine-related variables are expected to be vectorized with a value for each unique {glue:md}`EngineModel`, if a variable is defined for one engine, it must also be defined for all others so a vector of consistent size can be created. The propulsion preprocessor handles this automatically. Values of variables defined in an {glue:md}`EngineModel` are given highest priority and always used if available. Otherwise, if a value for that variable is present in the vehicle-level variable hierarchy, it is treated as a 'user-provided default' value to assign to any engine that doesn't explicitly define it. Finally, if neither of these values can be found, the default value pulled from Aviary variable metadata is used.\n",
    "\n",
    "{glue:md}`EngineModels` objects have input preprocessing steps performed during initialization to handle internal consistency of inputs and options within that individual engine.\n",
    "\n",
    "## Pre-Mission Analysis\n",
    "\n",
    "Aviary propulsion organizes all pre-mission analysis into a propulsion group that is added to the 'pre_mission_analysis' group. Pre-mission propulsion calls the pre-mission builders for each provided {glue:md}`EngineModel`, adding each created subsystem to the propulsion group. Aviary also includes a component which calculates system-level SLS (sea-level static) thrust and another component which calculates distributed propulsion factors based on total thrust and total number of engines. These distributed factors are used by some Aviary core mass estimation components.\n",
    "\n",
    "The {glue:md}`EngineDeck` pre-mission builder includes a {glue:md}`EngineScaling` component that calculates a performance scaling factor based on the percent difference in desired target thrust versus the unscaled SLS thrust present in the data file."
   ]
  },
  {
   "cell_type": "code",
   "execution_count": null,
   "metadata": {
    "tags": [
     "remove-cell"
    ]
   },
   "outputs": [],
   "source": [
    "# Testing Cell\n",
    "import aviary.api as av\n",
    "from aviary.subsystems.propulsion.engine_deck import EngineDeck, EngineScaling\n",
    "from aviary.utils.aviary_values import AviaryValues\n",
    "\n",
    "filename = 'models/engines/turbofan_28k.csv'\n",
    "\n",
    "options = AviaryValues()\n",
    "options.set_val(av.Aircraft.Engine.DATA_FILE, av.get_path(filename))\n",
    "options.set_val(av.Aircraft.Engine.INTERPOLATION_METHOD, 'slinear')\n",
    "\n",
    "engine_group = EngineDeck(options=options).build_mission(1, options)\n",
    "scaling_subsys = engine_group._get_subsystem('engine_scaling')\n",
    "if not isinstance(scaling_subsys, EngineScaling):\n",
    "    raise TypeError(f'scaling_subsys is {type(scaling_subsys)}, but should be {EngineScaling}')"
   ]
  },
  {
   "cell_type": "markdown",
   "metadata": {},
   "source": [
    "## Mission Analysis\n",
    "\n",
    "Similar to pre-mission, during mission analysis Aviary propulsion creates a group that calls the mission builder for each {glue:md}`EngineModel`. Engine performance data is [muxed](https://openmdao.org/newdocs/versions/latest/features/building_blocks/components/mux_comp.html) together and then summed into vehicle-level totals using an additional component. Both single engine and vehicle-level propulsion performance is promoted within the propulsion group although only vehicle-level totals are used by other Aviary core subsystems.\n",
    "\n",
    "{glue:md}`EngineDeck` mission builders produce a more complicated group that interpolates and scales performance values based on flight condition. To provide maximum thrust conditions (as needed by the [energy-state approximation](energy-method)), a duplicate set of interpolation components are created and run at max throttle setting to always produce max thrust for a given flight condition. This performance data is then scaled with an additional component. Only the scaled data is exposed to the greater propulsion group. Unscaled engine data is not promoted outside that {glue:md}`EngineDeck`'s mission group, and is therefore generally unavailable to other Aviary components.\n",
    "\n",
    "## Post-Mission Analysis\n",
    "\n",
    "Post-mission is handled in the same way as pre-mission - the top-level propulsion group iteratively calls `EngineModel` post-mission builders and adds them to the `AviaryProblem's` 'post_mission_analysis' group\n",
    "\n",
    "## External Subsystems\n",
    "Because the actual computation of propulsion-related variables is done within {glue:md}`EngineModels`, in most cases the propulsion subsystem builder does not need to be replaced when adding new propulsion analysis to Aviary."
   ]
  }
 ],
 "metadata": {
  "kernelspec": {
   "display_name": "av1",
   "language": "python",
   "name": "python3"
  },
  "language_info": {
   "codemirror_mode": {
    "name": "ipython",
    "version": 3
   },
   "file_extension": ".py",
   "mimetype": "text/x-python",
   "name": "python",
   "nbconvert_exporter": "python",
   "pygments_lexer": "ipython3",
   "version": "3.9.18"
  }
 },
 "nbformat": 4,
 "nbformat_minor": 2
}
