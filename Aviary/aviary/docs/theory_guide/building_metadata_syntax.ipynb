{
 "cells": [
  {
   "cell_type": "code",
   "execution_count": null,
   "metadata": {
    "tags": [
     "remove-input",
     "active-ipynb",
     "remove-output"
    ]
   },
   "outputs": [],
   "source": [
    "%matplotlib inline\n",
    "\n",
    "try:\n",
    "    from openmdao.utils.notebook_utils import notebook_mode\n",
    "except ImportError:\n",
    "    !python -m pip install openmdao[notebooks]"
   ]
  },
  {
   "cell_type": "code",
   "execution_count": null,
   "metadata": {
    "tags": [
     "remove-cell"
    ]
   },
   "outputs": [],
   "source": [
    "# Testing Cell\n",
    "from aviary.utils.develop_metadata import add_meta_data, update_meta_data\n",
    "from aviary.utils.doctape import glue_variable\n",
    "\n",
    "glue_variable(add_meta_data.__name__, md_code=True)\n",
    "glue_variable(update_meta_data.__name__, md_code=True)"
   ]
  },
  {
   "attachments": {},
   "cell_type": "markdown",
   "metadata": {},
   "source": [
    "# Building Metadata\n",
    "\n",
    "When working with Aviary models, sometimes it is necessary to extend the Aviary-core variable hierarchy or update existing metadata. The syntax for {glue:md}`add_meta_data` and {glue:md}`update_meta_data` can be found below. For a more detailed explanation of metadata please visit [this link](../user_guide/variable_metadata).\n",
    "\n",
    "```{eval-rst}\n",
    ".. autofunction:: aviary.utils.develop_metadata.add_meta_data\n",
    "    :noindex:\n",
    "\n",
    ".. autofunction:: aviary.utils.develop_metadata.update_meta_data\n",
    "    :noindex:\n",
    "```"
   ]
  },
  {
   "cell_type": "code",
   "execution_count": null,
   "metadata": {
    "tags": [
     "remove-cell"
    ]
   },
   "outputs": [],
   "source": [
    "# Testing Cell\n",
    "from aviary.utils.develop_metadata import add_meta_data, update_meta_data"
   ]
  }
 ],
 "metadata": {
  "celltoolbar": "Tags",
  "kernelspec": {
   "display_name": "av1",
   "language": "python",
   "name": "python3"
  },
  "language_info": {
   "codemirror_mode": {
    "name": "ipython",
    "version": 3
   },
   "file_extension": ".py",
   "mimetype": "text/x-python",
   "name": "python",
   "nbconvert_exporter": "python",
   "pygments_lexer": "ipython3",
   "version": "3.9.18"
  },
  "orphan": true
 },
 "nbformat": 4,
 "nbformat_minor": 4
}
