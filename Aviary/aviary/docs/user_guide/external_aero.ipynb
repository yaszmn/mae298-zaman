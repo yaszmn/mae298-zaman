{
 "cells": [
  {
   "cell_type": "markdown",
   "id": "indian-capability",
   "metadata": {},
   "source": [
    "# Externally Computed Polars\n",
    "\n",
    "This example shows how to build, using the level-2 interface, an aviary model that includes an external susbsystem that computes a lift and drag polar and passes them into the mission aerodynamics for a 3-phase mission (climb, cruise, descent). During the mission, Aviary will interpolate on the computed polars to compute actual lift and drag for a given flight condition.\n",
    "\n",
    "We start with the assumption that we have an external component called {glue:md}`ExternalAero` that can compute the lift and drag at any given altitude, Mach number, and angle of attack. The details of such a component may be highly complicated and not important for the purposes of this example. We will be using a structured grid, which assumes the data table is regularly spaced in all dimensions. We want to compute lift and drag over a grid of altitudes (in 'ft'), Mach numbers, and angles of attack given by:"
   ]
  },
  {
   "cell_type": "code",
   "execution_count": null,
   "id": "photographic-excerpt",
   "metadata": {
    "tags": [
     "remove-input"
    ]
   },
   "outputs": [],
   "source": [
    "# This hidden cell just creates a component that produces the lift and drag polar.\n",
    "# The implementation details are unimportant to the example.\n",
    "import numpy as np\n",
    "import openmdao.api as om\n",
    "\n",
    "import aviary.api as av\n",
    "from aviary.api import Aircraft\n",
    "\n",
    "# The drag-polar-generating component reads this in, instead of computing the polars.\n",
    "polar_file = 'models/large_single_aisle_1/large_single_aisle_1_aero_free_reduced_alpha.csv'\n",
    "\n",
    "aero_data, _, _ = av.read_data_file(\n",
    "    polar_file,\n",
    "    aliases={\n",
    "        'altitude': 'altitude',\n",
    "        'mach': 'mach',\n",
    "        'angle_of_attack': 'angle_of_attack',\n",
    "        'lift_coefficient': 'cl',\n",
    "        'drag_coefficient': 'cd',\n",
    "    },\n",
    ")\n",
    "\n",
    "altitude = np.unique(aero_data.get_val('altitude', 'ft'))\n",
    "mach = np.unique(aero_data.get_val('mach', 'unitless'))\n",
    "angle_of_attack = np.unique(aero_data.get_val('angle_of_attack', 'deg'))\n",
    "\n",
    "shape = (altitude.size, mach.size, angle_of_attack.size)\n",
    "CL = aero_data.get_val('lift_coefficient').reshape(shape)\n",
    "CD = aero_data.get_val('drag_coefficient').reshape(shape)\n",
    "\n",
    "\n",
    "class ExternalAero(om.ExplicitComponent):\n",
    "    \"\"\"\n",
    "    This component is a stand-in for an externally computed lift/drag table\n",
    "    calculation. It does nothing but read in the pre-computed table. A real\n",
    "    component would actually computed the values at all requested points.\n",
    "    \"\"\"\n",
    "\n",
    "    def initialize(self):\n",
    "        \"\"\"Declare options.\"\"\"\n",
    "        self.options.declare(\n",
    "            'altitude', default=None, allow_none=True, desc='List of altitudes in ascending order.'\n",
    "        )\n",
    "        self.options.declare(\n",
    "            'mach', default=None, allow_none=True, desc='List of Mach numbers in ascending order.'\n",
    "        )\n",
    "        self.options.declare(\n",
    "            'angle_of_attack',\n",
    "            default=None,\n",
    "            allow_none=True,\n",
    "            desc='List of angles of attack in ascending order.',\n",
    "        )\n",
    "\n",
    "    def setup(self):\n",
    "        altitude = self.options['altitude']\n",
    "        mach = self.options['mach']\n",
    "        angle_of_attack = self.options['angle_of_attack']\n",
    "\n",
    "        self.add_input(Aircraft.Wing.AREA, 1.0, units='ft**2')\n",
    "        self.add_input(Aircraft.Wing.SPAN, 1.0, units='ft')\n",
    "\n",
    "        shape = (len(altitude), len(mach), len(angle_of_attack))\n",
    "\n",
    "        self.add_output('drag_table', shape=shape, units='unitless')\n",
    "        self.add_output('lift_table', shape=shape, units='unitless')\n",
    "\n",
    "    def compute(self, inputs, outputs):\n",
    "        \"\"\"\n",
    "        This component doesn't do anything, except set the drag and lift\n",
    "        polars from the file we read in.\n",
    "        \"\"\"\n",
    "        # Your component will compute CD and CL for a grid of altitudes, machs, and\n",
    "        # angles of attack, and return them in a multidimensional array as described\n",
    "        # in the example text.\n",
    "\n",
    "        # Because it would be prohibitive to embed something like a vortex lattice\n",
    "        # code in this example, we are \"cheating\" here by sending a pre-computed\n",
    "        # drag polar.\n",
    "\n",
    "        outputs['drag_table'] = CD\n",
    "        outputs['lift_table'] = CL\n",
    "\n",
    "\n",
    "print('Altitude (ft)', altitude)\n",
    "print('Mach', mach)\n",
    "print('Angle of Attack (deg)', angle_of_attack)"
   ]
  },
  {
   "cell_type": "code",
   "execution_count": null,
   "id": "c21e45ca",
   "metadata": {
    "tags": [
     "remove-cell"
    ]
   },
   "outputs": [],
   "source": [
    "# Testing Cell\n",
    "from aviary.utils.doctape import glue_variable\n",
    "\n",
    "# class ExternalAero is defined within this file\n",
    "glue_variable(ExternalAero.__name__, md_code=True)"
   ]
  },
  {
   "cell_type": "markdown",
   "id": "elder-kinase",
   "metadata": {},
   "source": [
    "In a structured grid, interpolation data must be present for every combination of inputs. In other words, our {glue:md}`ExternalAero` component must run a full factorial of points spanning those 3 variables. The Aviary variable hierarchy includes two variables for the polars: {glue:md}`Aircraft.Design.LIFT_POLAR`, and {glue:md}`Aircraft.Design.DRAG_POLAR`. The data in each of these polars should be a `n` x `m` x `k` numpy array, where `n` is the number of altitudes, `m` is the number of mach numbers, and `k` is the number of angles of attack. The `ExternalAero` will need to compute these values and place them into an array of this shape.\n",
    "\n",
    "If use of a structured grid is not desirable, then the data does not need to meet these formatting requirements. In that case, the data table does not have to be regularly spaced, and each variable (`Altitude`, `Mach`, `angle_of_attack`, `LIFT_POLAR`, and `DRAG_POLAR`) must be 1-dimensional numpy arrays of equal length.\n",
    "\n",
    "Using the level-2 interface, we create a builder for our external `ExternalAero` subsystem. In this example, the component produces outputs `drag_table` and `lift_table`, but we can specify an alias to {glue:md}`Aircraft.Design.DRAG_POLAR` and {glue:md}`Aircraft.Design.LIFT_POLAR` respectively. It is important that we inherit from the {glue:md}`AerodynamicsBuilderBase` to let Aviary know this is builder produces aerodynamics components. Some mission analysis methods require special handling of aerodynamics components that will not occur if we skip this step."
   ]
  },
  {
   "cell_type": "code",
   "execution_count": null,
   "id": "1cd78537",
   "metadata": {
    "tags": [
     "remove-cell"
    ]
   },
   "outputs": [],
   "source": [
    "# Testing Cell\n",
    "from aviary.interface.methods_for_level2 import AviaryProblem\n",
    "from aviary.subsystems.aerodynamics.aerodynamics_builder import AerodynamicsBuilderBase\n",
    "from aviary.utils.doctape import get_variable_name, glue_variable\n",
    "\n",
    "glue_variable(AerodynamicsBuilderBase.__name__, md_code=True)\n",
    "glue_variable(get_variable_name(Aircraft.Design.LIFT_POLAR), md_code=True)\n",
    "glue_variable(get_variable_name(Aircraft.Design.DRAG_POLAR), md_code=True)\n",
    "glue_variable(AviaryProblem.__name__, md_code=False)"
   ]
  },
  {
   "cell_type": "code",
   "execution_count": null,
   "id": "roman-direction",
   "metadata": {},
   "outputs": [],
   "source": [
    "class ExternalAeroBuilder(av.AerodynamicsBuilderBase):\n",
    "    \"\"\"\n",
    "    An example subsystem builder that adds an external aerodynamics component.\n",
    "\n",
    "    Parameters\n",
    "    ----------\n",
    "    aero_data : NamedValues\n",
    "        Altitude, Mach number, and angle of attack data, all in ascending order.\n",
    "    \"\"\"\n",
    "\n",
    "    def __init__(self, name='aero', altitude=None, mach=None, angle_of_attack=None):\n",
    "        super().__init__(name)\n",
    "        self.altitude = altitude\n",
    "        self.mach = mach\n",
    "        self.angle_of_attack = angle_of_attack\n",
    "\n",
    "    def build_pre_mission(self, aviary_inputs):\n",
    "        \"\"\"\n",
    "        Build an OpenMDAO system for the pre-mission computations of the subsystem.\n",
    "\n",
    "        Returns\n",
    "        -------\n",
    "        pre_mission_sys : openmdao.core.Group\n",
    "            An OpenMDAO group containing all computations that need to happen in\n",
    "            the pre-mission part of the Aviary problem. This includes sizing, design,\n",
    "            and other non-mission parameters.\n",
    "        \"\"\"\n",
    "        aero_group = om.Group()\n",
    "        aero = ExternalAero(\n",
    "            altitude=self.altitude, mach=self.mach, angle_of_attack=self.angle_of_attack\n",
    "        )\n",
    "        aero_group.add_subsystem(\n",
    "            'premission_aero',\n",
    "            aero,\n",
    "            promotes_inputs=['*'],\n",
    "            promotes_outputs=[\n",
    "                ('drag_table', Aircraft.Design.DRAG_POLAR),\n",
    "                ('lift_table', Aircraft.Design.LIFT_POLAR),\n",
    "            ],\n",
    "        )\n",
    "        return aero_group"
   ]
  },
  {
   "cell_type": "markdown",
   "id": "extreme-green",
   "metadata": {},
   "source": [
    "Notice that we have passed the altitude, Mach, and angle of attack arrays into the builder so that the ExternalAero component can use them as instantiation arguments.\n",
    "\n",
    "Next, we add the builder to our phase_info as usual. We are using a single-aisle commercial transport aircraft and mission."
   ]
  },
  {
   "cell_type": "code",
   "execution_count": null,
   "id": "coral-beijing",
   "metadata": {},
   "outputs": [],
   "source": [
    "phase_info = av.default_height_energy_phase_info.copy()\n",
    "\n",
    "external_aero = ExternalAeroBuilder(\n",
    "    name='external_aero', altitude=altitude, mach=mach, angle_of_attack=angle_of_attack\n",
    ")\n",
    "\n",
    "phase_info['pre_mission']['external_subsystems'] = [external_aero]"
   ]
  },
  {
   "cell_type": "markdown",
   "id": "technological-compatibility",
   "metadata": {},
   "source": [
    "Next, the existing mission phases need to be given the information they need to set up our aerodynamics analysis using _glue:md}`phase_info`. We use the `tabular_cruise` method with the `solve_alpha` flag of Aviary's included aerodynamics for this, which can accept the input passed from our external subsystem. Since we are using Aviary's built-in aerodynamics methods, we use the default name \"core_aerodynamics\". Don't forget to update the `subsystem_options` for each phase. We must specify the `method`, the `aero_data` that contains our altitude, Mach, and angle of attack data, as well as the `connect_training_data` flag to denote we are passing our drag polars via openMDAO connections."
   ]
  },
  {
   "cell_type": "code",
   "execution_count": null,
   "id": "phantom-showcase",
   "metadata": {},
   "outputs": [],
   "source": [
    "subsystem_options = {\n",
    "    'method': 'tabular_cruise',\n",
    "    'solve_alpha': True,\n",
    "    'aero_data': aero_data,\n",
    "    'connect_training_data': True,\n",
    "}\n",
    "\n",
    "phase_info['climb']['subsystem_options'] = {'core_aerodynamics': subsystem_options}\n",
    "phase_info['cruise']['subsystem_options'] = {'core_aerodynamics': subsystem_options}\n",
    "phase_info['descent']['subsystem_options'] = {'core_aerodynamics': subsystem_options}"
   ]
  },
  {
   "cell_type": "markdown",
   "id": "equivalent-lawsuit",
   "metadata": {},
   "source": [
    "Finally, we can instantiate the {glue:md}`AviaryProblem` like normal. However, we need to tell Aviary the size of our lift and drag polars so that it can allocate the right shape for the connection."
   ]
  },
  {
   "cell_type": "code",
   "execution_count": null,
   "id": "quick-report",
   "metadata": {},
   "outputs": [],
   "source": [
    "from aviary.utils.functions import get_aviary_resource_path\n",
    "\n",
    "input_file = get_aviary_resource_path('models/aircraft/test_aircraft/aircraft_for_bench_GwFm.csv')\n",
    "\n",
    "prob = av.AviaryProblem()\n",
    "prob.load_inputs(input_file, phase_info)\n",
    "\n",
    "# Add correctly-sized polar to aviary_inputs so that input components are sized correctly.\n",
    "shape = (altitude.size, mach.size, angle_of_attack.size)\n",
    "\n",
    "prob.aviary_inputs.set_val(Aircraft.Design.LIFT_POLAR, np.zeros(shape), units='unitless')\n",
    "prob.aviary_inputs.set_val(Aircraft.Design.DRAG_POLAR, np.zeros(shape), units='unitless')"
   ]
  },
  {
   "cell_type": "code",
   "execution_count": null,
   "id": "weird-space",
   "metadata": {
    "tags": [
     "remove-input"
    ]
   },
   "outputs": [],
   "source": [
    "# get through setup for the problem\n",
    "prob.check_and_preprocess_inputs()\n",
    "prob.build_model()\n",
    "prob.add_driver('SLSQP')\n",
    "prob.add_design_variables()\n",
    "prob.add_objective(objective_type='mass', ref=-1e5)\n",
    "prob.setup()\n",
    "\n",
    "prob.run_model()"
   ]
  },
  {
   "cell_type": "code",
   "execution_count": null,
   "id": "bc8788ba-9b2b-4b81-8251-32db008d3a60",
   "metadata": {
    "tags": [
     "remove-cell"
    ]
   },
   "outputs": [],
   "source": [
    "# Testing Cell\n",
    "# Make sure we succesfully passed the polar\n",
    "from openmdao.utils.assert_utils import assert_near_equal\n",
    "\n",
    "om_CD = prob.get_val(Aircraft.Design.DRAG_POLAR)[0, 0, 0]\n",
    "assert_near_equal(om_CD, CD[0, 0, 0], 1e-6)"
   ]
  }
 ],
 "metadata": {
  "celltoolbar": "Tags",
  "kernelspec": {
   "display_name": "aviary",
   "language": "python",
   "name": "python3"
  },
  "language_info": {
   "codemirror_mode": {
    "name": "ipython",
    "version": 3
   },
   "file_extension": ".py",
   "mimetype": "text/x-python",
   "name": "python",
   "nbconvert_exporter": "python",
   "pygments_lexer": "ipython3",
   "version": "3.12.9"
  },
  "orphan": true
 },
 "nbformat": 4,
 "nbformat_minor": 5
}
