{
 "cells": [
  {
   "cell_type": "markdown",
   "metadata": {},
   "source": [
    "# Creating a Turboprop Powered Aircraft Example\n",
    "\n",
    "Here we will create an aircraft using a more advanced `EngineModel`, the `TurbopropModel`. This is a more complicated type of engine that combines several different models into a single unit. The `TurbopropModel` has three individual pieces needed to create it - a \"shaft power model\" that describes how the turboprop turns energy into shaft power, such as a turboshaft or motor, a \"gearbox model\" for adjusting the shaft RPM, and a \"propeller model\" to convert shaft power into thrust. Let's walk through two examples: first building a turboprop-powered aircraft with a minimum amount of information, and then a second example where we electrify the aircraft by replacing the default models in the `TurbopropModel` with custom ones.\n",
    "\n",
    "## Basic Turboprop Aircraft Example"
   ]
  },
  {
   "cell_type": "code",
   "execution_count": null,
   "metadata": {},
   "outputs": [],
   "source": [
    "import aviary.api as av\n",
    "from aviary.models.aircraft.large_turboprop_freighter.phase_info import two_dof_phase_info\n",
    "\n",
    "Aircraft = av.Aircraft\n",
    "Mission = av.Mission\n",
    "Dynamic = av.Dynamic\n",
    "\n",
    "# define the minimum option set for a turboprop\n",
    "options = av.AviaryValues()\n",
    "\n",
    "# top-level turboprop settings\n",
    "options.set_val(av.Settings.VERBOSITY, 0)  # quiet unneeded printouts\n",
    "options.set_val(Aircraft.Engine.FIXED_RPM, 13820, units='rpm')\n",
    "\n",
    "# EngineDeck minimum option set\n",
    "options.set_val(Aircraft.Engine.DATA_FILE, av.get_path('models/engines/turboshaft_4465hp.csv'))\n",
    "\n",
    "# Gearbox model minimum option set\n",
    "options.set_val(Aircraft.Engine.Gearbox.GEAR_RATIO, 13.55, 'unitless')\n",
    "options.set_val(Aircraft.Engine.Gearbox.SHAFT_POWER_DESIGN, 4465, 'hp')\n",
    "\n",
    "# Hamilton Standard propeller minimum option set\n",
    "options.set_val(Aircraft.Engine.Propeller.TIP_MACH_MAX, 1.0)\n",
    "options.set_val(Aircraft.Engine.Propeller.NUM_BLADES, val=4, units='unitless')\n",
    "options.set_val(Aircraft.Engine.Propeller.COMPUTE_INSTALLATION_LOSS, True)\n",
    "\n",
    "# Initialize turboprop model. Model uses an EngineDeck built from `options`, basic\n",
    "# gearbox model with default efficiency of 1, and the Hamilton Standard propeller model\n",
    "# \"turboprop\" is ready to be included in an AviaryProblem\n",
    "turboprop = av.TurbopropModel(name='turboprop_example', options=options)\n",
    "\n",
    "# Build and run AviaryProblem using the Level2 interface\n",
    "prob = av.AviaryProblem()\n",
    "\n",
    "prob.load_inputs(\n",
    "    'models/aircraft/large_turboprop_freighter/large_turboprop_freighter_GASP.csv',\n",
    "    two_dof_phase_info,\n",
    "    engine_builders=[turboprop],\n",
    ")\n",
    "\n",
    "prob.check_and_preprocess_inputs()\n",
    "\n",
    "prob.build_model()\n",
    "prob.add_driver('IPOPT', max_iter=0, verbosity=0)\n",
    "prob.add_design_variables()\n",
    "prob.add_objective()\n",
    "prob.setup()\n",
    "prob.run_aviary_problem(suppress_solver_print=True, make_plots=False)"
   ]
  },
  {
   "cell_type": "markdown",
   "metadata": {},
   "source": [
    "## Electrified Propeller Aircraft Example\n",
    "\n",
    "This model is a WIP and will be coming soon"
   ]
  }
 ],
 "metadata": {
  "kernelspec": {
   "display_name": "Python 3 (ipykernel)",
   "language": "python",
   "name": "python3"
  },
  "language_info": {
   "codemirror_mode": {
    "name": "ipython",
    "version": 3
   },
   "file_extension": ".py",
   "mimetype": "text/x-python",
   "name": "python",
   "nbconvert_exporter": "python",
   "pygments_lexer": "ipython3",
   "version": "3.12.3"
  }
 },
 "nbformat": 4,
 "nbformat_minor": 4
}
