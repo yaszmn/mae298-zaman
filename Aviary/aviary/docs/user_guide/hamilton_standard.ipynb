{
 "cells": [
  {
   "cell_type": "code",
   "execution_count": null,
   "metadata": {
    "tags": [
     "remove-cell"
    ]
   },
   "outputs": [],
   "source": [
    "# Testing Cell\n",
    "from aviary.api import Aircraft\n",
    "from aviary.subsystems.atmosphere.atmosphere import Atmosphere\n",
    "from aviary.subsystems.propulsion.propeller.hamilton_standard import (\n",
    "    HamiltonStandard,\n",
    "    PostHamiltonStandard,\n",
    "    PreHamiltonStandard,\n",
    ")\n",
    "from aviary.subsystems.propulsion.propeller.propeller_performance import InstallLoss\n",
    "from aviary.utils.doctape import check_value, get_variable_name, glue_variable\n",
    "\n",
    "check_value(\n",
    "    Aircraft.Engine.Propeller.COMPUTE_INSTALLATION_LOSS,\n",
    "    'aircraft:engine:propeller:compute_installation_loss',\n",
    ")\n",
    "glue_variable(get_variable_name(Aircraft.Engine.Propeller.COMPUTE_INSTALLATION_LOSS), md_code=True)\n",
    "glue_variable(Atmosphere.__name__, md_code=True)\n",
    "glue_variable(InstallLoss.__name__, md_code=True)\n",
    "glue_variable(PreHamiltonStandard.__name__, md_code=True)\n",
    "glue_variable(HamiltonStandard.__name__, md_code=True)\n",
    "glue_variable(PostHamiltonStandard.__name__, md_code=True)"
   ]
  },
  {
   "cell_type": "markdown",
   "metadata": {},
   "source": [
    "# Hamilton Standard Propulsion Model\n",
    "\n",
    "In the 1970s, NASA contracted Hamilton Standard to forecast into the future mid-80s to the 90s what they thought advanced propellers would look like.\n",
    "The result is what we call “Hamilton Standard model” used in Aviary today.\n",
    "The [Hamilton Standard Documentation](https://ntrs.nasa.gov/api/citations/19720010354/downloads/19720010354.pdf) is publicly available.\n",
    "You can find the definitions, methodology, and Fortran code in the document.\n",
    "In Aviary, we implement only one of the computation options: the code computes the corresponding thrust for a given horsepower.\n",
    "\n",
    "Below is an XDSM diagram of Hamilton Standard model (assuming {glue:md}`Aircraft.Engine.Propeller.COMPUTE_INSTALLATION_LOSS` is `True`):\n",
    "\n",
    "![Hamilton Standard Diagram](images/hamilton_standard.png)\n",
    "\n",
    "The inputs are grouped in three aspects:\n",
    "\n",
    "Geometric inputs:\n",
    "\n",
    "- Propeller diameter\n",
    "- Activity factor per blade (range: 80 to 200, baseline: 150)\n",
    "- Number of blades (range: 2 to 8)\n",
    "\n",
    "Power inputs:\n",
    "\n",
    "- Shaft power to propeller (hp)\n",
    "- Installation loss factor (0 to 1)\n",
    "\n",
    "Performance inputs:\n",
    "\n",
    "- Operating altitude (ft)\n",
    "- True airspeed (knots)\n",
    "- Propeller tip speed (Usually < 800 ft/s)\n",
    "- Integrated lift coefficient (range: 0.3 to 0.8, baseline: 0.5)\n",
    "\n",
    "Some of the inputs are valid for limited ranges.\n",
    "When using an odd number of blades, the Hamilton Standard model interpolates using the 2, 4, 6 and 8 blade data.\n",
    "The corresponding outputs are:\n",
    "\n",
    "Geometric outputs:\n",
    "\n",
    "- Design blade pitch angle (at 0.75 Radius)\n",
    "\n",
    "Power outputs:\n",
    "\n",
    "- Installation loss factor\n",
    "- Tip compressibility loss factor\n",
    "- Power coefficient\n",
    "- Thrust coefficient (rho=const, no losses)\n",
    "\n",
    "Performance outputs:\n",
    "\n",
    "- Flight Mach number\n",
    "- Propeller tip Mach number\n",
    "- Advance ratio\n",
    "- Tip compressibility loss factor\n",
    "- Thrust\n",
    "- Propeller efficiency with compressibility losses\n",
    "- Propeller efficiency with compressibility and installation losses\n",
    "\n",
    "When shaft power is zero, propeller efficiencies are undefined. We set them as 0.0.\n",
    "\n",
    "As shown in the above XDSM diagram, the model is an OpenMDAO group that is composed of three components and two groups:\n",
    "\n",
    "- {glue:md}`Atmosphere` (group)\n",
    "- {glue:md}`PreHamiltonStandard`\n",
    "- {glue:md}`HamiltonStandard`\n",
    "- {glue:md}`InstallLoss` (group)\n",
    "- {glue:md}`PostHamiltonStandard`"
   ]
  },
  {
   "cell_type": "code",
   "execution_count": null,
   "metadata": {
    "tags": [
     "remove-cell"
    ]
   },
   "outputs": [],
   "source": [
    "# Testing Cell\n",
    "import openmdao.api as om\n",
    "\n",
    "import aviary.api as av\n",
    "import aviary.subsystems.propulsion.propeller.hamilton_standard as hs\n",
    "from aviary.subsystems.atmosphere.atmosphere import Atmosphere\n",
    "from aviary.subsystems.propulsion.propeller.propeller_performance import (\n",
    "    InstallLoss,\n",
    "    PropellerPerformance,\n",
    ")\n",
    "from aviary.variable_info.options import get_option_defaults\n",
    "\n",
    "options = get_option_defaults()\n",
    "options.set_val(av.Aircraft.Engine.Propeller.COMPUTE_INSTALLATION_LOSS, val=True, units='unitless')\n",
    "options.set_val(av.Aircraft.Engine.Propeller.NUM_BLADES, val=4, units='unitless')\n",
    "options.set_val(av.Aircraft.Engine.GENERATE_FLIGHT_IDLE, False)\n",
    "options.set_val(av.Aircraft.Engine.DATA_FILE, 'models/engines/turboshaft_4465hp.csv')\n",
    "\n",
    "prob = om.Problem()\n",
    "group = prob.model\n",
    "for name in ('traj', 'cruise', 'rhs_all'):\n",
    "    group = group.add_subsystem(name, om.Group())\n",
    "var_names = [\n",
    "    (av.Aircraft.Engine.Propeller.TIP_SPEED_MAX, 0, {'units': 'ft/s'}),\n",
    "    # (av.Dynamic.Mission.PERCENT_ROTOR_RPM_CORRECTED,0,{'units':'unitless'}),\n",
    "    (av.Aircraft.Engine.Propeller.ACTIVITY_FACTOR, 0, {'units': 'unitless'}),\n",
    "    (av.Aircraft.Engine.Propeller.INTEGRATED_LIFT_COEFFICIENT, 0, {'units': 'unitless'}),\n",
    "]\n",
    "group.add_subsystem('ivc', om.IndepVarComp(var_names), promotes=['*'])\n",
    "\n",
    "prob.model.add_subsystem(name='atmosphere', subsys=Atmosphere(num_nodes=1), promotes=['*'])\n",
    "\n",
    "pp = prob.model.add_subsystem(\n",
    "    'pp',\n",
    "    PropellerPerformance(aviary_options=options),\n",
    "    promotes_inputs=['*'],\n",
    "    promotes_outputs=['*'],\n",
    ")\n",
    "pp.set_input_defaults(av.Aircraft.Engine.Propeller.DIAMETER, 10, units='ft')\n",
    "pp.set_input_defaults(av.Dynamic.Atmosphere.MACH, 0.7, units='unitless')\n",
    "# pp.set_input_defaults(av.Dynamic.Atmosphere.TEMPERATURE, 650, units=\"degR\")\n",
    "pp.set_input_defaults(av.Dynamic.Vehicle.Propulsion.PROPELLER_TIP_SPEED, 800, units='ft/s')\n",
    "pp.set_input_defaults(av.Dynamic.Mission.VELOCITY, 100, units='knot')\n",
    "prob.setup()\n",
    "\n",
    "subsyses = {\n",
    "    'install_loss': InstallLoss,\n",
    "    'pre_hamilton_standard': hs.PreHamiltonStandard,\n",
    "    'hamilton_standard': hs.HamiltonStandard,\n",
    "    'post_hamilton_standard': hs.PostHamiltonStandard,\n",
    "}\n",
    "\n",
    "for name, component in subsyses.items():\n",
    "    subsys = pp._get_subsystem(name)\n",
    "    if subsys is None:\n",
    "        raise ValueError(f\"couldn't find {name} in PropellerPerformance\")\n",
    "    if not isinstance(subsys, component):\n",
    "        raise TypeError(\n",
    "            f'PropellerPerformance component {name} is {type(subsys)}, but should be {component}'\n",
    "        )"
   ]
  },
  {
   "cell_type": "markdown",
   "metadata": {},
   "source": [
    "The {glue:md}`Atmosphere` component provides the flight conditions.\n",
    "The flight conditions are passed to the {glue:md}`PreHamiltonStandard` component which computes the propeller tip Mach number, advance ratio, and power coefficient.\n",
    "These values are then fed into the {glue:md}`HamiltonStandard` component.\n",
    "\n",
    "{glue:md}`HamiltonStandard` is the core of the model.\n",
    "Given the power coefficient (CP) and advance ratio (J), it finds the blade angle (BL) by a CP-BL chart by tracing the advance ratio.\n",
    "Then with the blade angle, it finds the thrust coefficient (CT) using its CT-BL chart by tracing advance ratio again.\n",
    "This algorithm is shown in the below pair of charts.\n",
    "The CP → BL → CT chart matching algorithm is based on baseline data.\n",
    "If the user-inputted values are not in the valid region, it will first convert them to those baseline parameters by a sequence of interpolations to do the necessary corrections.\n",
    "The newly converted parameters are called “effective parameters” (e.g., CPE and CTE).\n",
    "The outputs are blade angle, thrust coefficient and tip compressibility loss factor.\n",
    "\n",
    "![CP and CT matching](images/CPE_CTE_matching.png)\n",
    "\n",
    "Finally, the thrust is computed in the {glue:md}`PostHamiltonStandard` component based on thrust coefficient and tip compressibility loss factor.\n",
    "\n",
    "The Hamilton Standard model uses wind tunnel test data from uninstalled propellers.\n",
    "When a nacelle is mounted behind the propeller, an installation loss factor is introduced.\n",
    "The installation loss factor can be given by the user or computed.\n",
    "If it is computed, we need another group of components as shown below:\n",
    "\n",
    "![Installation Loss Factor](images/installation_loss_factor.png)\n",
    "\n",
    "This diagram is represented by {glue:md}`InstallLoss` group in the first diagram.\n",
    "Nacelle diameter is needed when installation loss factor is computed.\n",
    "We use the average nacelle diameter.\n",
    "\n",
    "The newly added aviary options and variables are:"
   ]
  },
  {
   "cell_type": "code",
   "execution_count": null,
   "metadata": {
    "tags": [
     "remove-cell"
    ]
   },
   "outputs": [],
   "source": [
    "# Testing Cell\n",
    "import inspect\n",
    "\n",
    "from aviary.api import Aircraft, Dynamic\n",
    "from aviary.subsystems.propulsion.turboprop_model import TurbopropModel\n",
    "from aviary.utils.doctape import glue_variable\n",
    "\n",
    "glue_variable(get_variable_name(TurbopropModel), md_code=True)\n",
    "\n",
    "# glue all arguments of function TurbopropModel.__init__()\n",
    "sigs = inspect.signature(TurbopropModel)\n",
    "parameters = sigs.parameters\n",
    "for name, param in parameters.items():\n",
    "    glue_variable(name, md_code=True)\n",
    "    # print(f'Name: {name}, Default: {param.default}, Kind: {param.kind}')"
   ]
  },
  {
   "cell_type": "code",
   "execution_count": null,
   "metadata": {
    "tags": [
     "remove-output"
    ]
   },
   "outputs": [],
   "source": [
    "Aircraft.Engine.Propeller.DIAMETER\n",
    "Aircraft.Engine.Propeller.INTEGRATED_LIFT_COEFFICIENT\n",
    "Aircraft.Engine.Propeller.ACTIVITY_FACTOR\n",
    "Aircraft.Engine.Propeller.NUM_BLADES\n",
    "Aircraft.Engine.Propeller.COMPUTE_INSTALLATION_LOSS\n",
    "Dynamic.Vehicle.Propulsion.PROPELLER_TIP_SPEED\n",
    "Dynamic.Vehicle.Propulsion.SHAFT_POWER"
   ]
  },
  {
   "cell_type": "markdown",
   "metadata": {},
   "source": [
    "To build a turboprop engine that uses the Hamilton Standard propeller model we use a {glue:md}`TurbopropModel` object without providing a custom {glue:md}`propeller_model`, here it is set to `None` (the default). In this example, we also set {glue:md}`shaft_power_model` to `None`, another default that assumes we are using a turboshaft engine deck:"
   ]
  },
  {
   "cell_type": "code",
   "execution_count": null,
   "metadata": {
    "tags": [
     "remove-output"
    ]
   },
   "outputs": [],
   "source": [
    "engine = TurbopropModel(options=options, shaft_power_model=None, propeller_model=None)"
   ]
  },
  {
   "cell_type": "markdown",
   "metadata": {},
   "source": [
    "Some inputs are options:"
   ]
  },
  {
   "cell_type": "code",
   "execution_count": null,
   "metadata": {
    "tags": [
     "remove-output"
    ]
   },
   "outputs": [],
   "source": [
    "options.set_val(Aircraft.Engine.Propeller.DIAMETER, 10, units='ft')\n",
    "options.set_val(Aircraft.Engine.Propeller.NUM_BLADES, val=4, units='unitless')\n",
    "options.set_val(Aircraft.Engine.Propeller.COMPUTE_INSTALLATION_LOSS, val=True, units='unitless')"
   ]
  },
  {
   "cell_type": "markdown",
   "metadata": {},
   "source": [
    "We set the inputs like the following:"
   ]
  },
  {
   "cell_type": "code",
   "execution_count": null,
   "metadata": {
    "tags": [
     "remove-output"
    ]
   },
   "outputs": [],
   "source": [
    "prob.set_val(f'traj.cruise.rhs_all.{Aircraft.Engine.Propeller.TIP_SPEED_MAX}', 710.0, units='ft/s')\n",
    "prob.set_val(\n",
    "    f'traj.cruise.rhs_all.{Aircraft.Engine.Propeller.ACTIVITY_FACTOR}', 150.0, units='unitless'\n",
    ")\n",
    "prob.set_val(\n",
    "    f'traj.cruise.rhs_all.{Aircraft.Engine.Propeller.INTEGRATED_LIFT_COEFFICIENT}',\n",
    "    0.5,\n",
    "    units='unitless',\n",
    ")"
   ]
  },
  {
   "cell_type": "code",
   "execution_count": null,
   "metadata": {
    "tags": [
     "remove-cell"
    ]
   },
   "outputs": [],
   "source": [
    "# Testing Cell\n",
    "import aviary.api as av\n",
    "\n",
    "folder_path = av.get_path('models/engines/propellers')\n",
    "propellers_dir = folder_path.relative_to(av.top_dir)\n",
    "glue_variable(propellers_dir, md_code=True)\n",
    "\n",
    "file_path = av.get_path(folder_path / 'general_aviation.csv')\n",
    "glue_variable(file_path.name, md_code=True)\n",
    "\n",
    "map_file_name = file_path.stem + '.map'\n",
    "file_path = av.get_path(folder_path / map_file_name)\n",
    "glue_variable(file_path.name, md_code=True)\n",
    "\n",
    "file_path = av.get_path(folder_path / 'PropFan.csv')\n",
    "glue_variable(file_path.name, md_code=True)\n",
    "\n",
    "map_file_name = file_path.stem + '.map'\n",
    "file_path = av.get_path(folder_path / map_file_name)\n",
    "glue_variable(file_path.name, md_code=True)\n",
    "\n",
    "check_value(Aircraft.Engine.Propeller.DATA_FILE, 'aircraft:engine:propeller:data_file')\n",
    "glue_variable(get_variable_name(Aircraft.Engine.Propeller.DATA_FILE), md_code=True)\n",
    "check_value(Dynamic.Atmosphere.MACH, 'mach')\n",
    "glue_variable(get_variable_name(Dynamic.Atmosphere.MACH), md_code=True)"
   ]
  },
  {
   "cell_type": "markdown",
   "metadata": {},
   "source": [
    "# Propeller Map Alternative\n",
    "\n",
    "The Hamilton Standard model has limitations where it can be applied; for model aircraft design, it is possible that users may want to provide their own data tables. Two sample data sets are provided in {glue:md}`models/engines/propellers` folder: {glue:md}`general_aviation.csv` and {glue:md}`PropFan.csv`. In both cases, they are in `.csv` format and are converted from `GASP` maps: {glue:md}`general_aviation.csv` and {glue:md}`PropFan.csv` (see [Command Line Tools](aviary_commands.ipynb) for details). The difference between these two samples is that the general aviation sample uses helical Mach numbers as input while the propfan sample uses the free stream Mach numbers. Helical Mach numbers appear higher, due to the inclusion of the rotational component of the tip velocity. In our example, they range from 0.7 to 0.95. To determine which mach type in a GASP map is used, look at the first integer of the first line. If it is 1, it uses helical mach; if it is 2, it uses free stream mach. To determine which mach type is an Aviary propeller file is used, look at which variables are present in the header. It is typically either `helical_mach` or `mach`. If both are present in the header, Aviary will directly use the data in the Mach number column.\n",
    "\n",
    "To use a propeller map, users can provide the propeller map file path to {glue:md}`Aircraft.Engine.Propeller.DATA_FILE`.\n",
    "\n",
    "In the Hamilton Standard models, the thrust coefficients do not take compressibility into account. Therefore, propeller tip compressibility loss factor has to be computed and will be used to compute thrust. If a propeller map is used, the compressibility effects should be included in the data provided. Therefore, this factor is assumed to be 1.0 and is supplied to post Hamilton Standard component. Other outputs are computed using the same formulas."
   ]
  }
 ],
 "metadata": {
  "kernelspec": {
   "display_name": "aviary",
   "language": "python",
   "name": "python3"
  },
  "language_info": {
   "codemirror_mode": {
    "name": "ipython",
    "version": 3
   },
   "file_extension": ".py",
   "mimetype": "text/x-python",
   "name": "python",
   "nbconvert_exporter": "python",
   "pygments_lexer": "ipython3",
   "version": "3.12.9"
  }
 },
 "nbformat": 4,
 "nbformat_minor": 2
}
