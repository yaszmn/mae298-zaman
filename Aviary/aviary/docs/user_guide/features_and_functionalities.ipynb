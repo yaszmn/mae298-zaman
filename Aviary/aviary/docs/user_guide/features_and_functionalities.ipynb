{
 "cells": [
  {
   "cell_type": "code",
   "execution_count": null,
   "metadata": {
    "tags": [
     "remove-cell"
    ]
   },
   "outputs": [],
   "source": [
    "# Testing Cell\n",
    "from aviary.api import LegacyCode\n",
    "from aviary.interface.methods_for_level2 import AviaryGroup\n",
    "from aviary.utils.doctape import glue_variable, glue_class_options\n",
    "\n",
    "current_glued_vars = []\n",
    "glue_class_options(AviaryGroup, current_glued_vars, md_code=True)\n",
    "\n",
    "glue_variable(LegacyCode.FLOPS.name, md_code=False)\n",
    "glue_variable(LegacyCode.GASP.name, md_code=False)"
   ]
  },
  {
   "cell_type": "markdown",
   "metadata": {},
   "source": [
    "# Features and Functionalities\n",
    "\n",
    "## Subsystems\n",
    "\n",
    "At a minimum, an Aviary model needs to include the following subsystems:\n",
    "\n",
    "- Geometry\n",
    "- Mass\n",
    "- Aerodynamics\n",
    "- Propulsion\n",
    "- Mission\n",
    "\n",
    "Basically, these subsystems provide all the necessary forces acting on the aircraft which allows us to evaluate the performance of the aircraft across its mission.\n",
    "Aviary does not explicitly support models with only some of these subsystems, but you are welcome to use parts of Aviary's code to build your own model.\n",
    "\n",
    "The following sections will discuss each of these subsystems in more detail.\n",
    "\n",
    "## Basic Assumptions\n",
    "\n",
    "Because Aviary is a tool for conceptual design, we make a number of assumptions about the aircraft and mission that allow us to simplify the model.\n",
    "These are often baked in to the underlying subsystem models, but it's important to understand what these assumptions are so that you can make sure they're appropriate for your problem.\n",
    "\n",
    "For example, Aviary's computed aerodynamic models are only valid for subsonic flight.\n",
    "Aviary itself is not limited to subsonic flight, but the aerodynamic models are.\n",
    "So, you could use Aviary to model a supersonic aircraft, but you would need to provide your own aerodynamic model.\n",
    "\n",
    "Other assumptions are largely dependent on which subsystems you include, the aircraft you're designing, and the mission you're evaluating.\n",
    "\n",
    "<!-- TODO: add more detail here -->\n",
    "\n",
    "## Mission Optimization\n",
    "\n",
    "We'll now discuss mission optimization from a user's perspective.\n",
    "What we mean by that is that we'll not go into details on the theory or math behind mission optimization, but instead focus on what it means for you to set up a mission optimization problem in Aviary.\n",
    "We'll start by discussing the different phases of a mission that you can model in Aviary, and then we'll discuss how to set up constraints for your mission optimization problem.\n",
    "Additionally, we'll dig into just how much flexibility you should give the optimizer when defining your mission.\n",
    "\n",
    "### Basic definition of a mission\n",
    "\n",
    "Throughout Aviary we use a series of terms when discussing mission optimization.\n",
    "\n",
    "A [\"trajectory\"](https://openmdao.github.io/dymos/features/phases/phases.html) is the full mission that the aircraft flies.\n",
    "Usually this is from takeoff to landing, inclusive.\n",
    "Sometimes you might want to model just a portion of the full aircraft trajectory; for example only the cruise portion.\n",
    "\n",
    "A [\"phase\"](https://openmdao.github.io/dymos/features/phases/phases.html) is a part of the trajectory that is defined by a single set of differential equations.\n",
    "For example, a simple way of defining a full trajectory is to have climb, cruise, and descent phases.\n",
    "Each of these phases can have different physics, subsystems, controls, and constraints.\n",
    "For example, the climb phase for a hybrid-electric aircraft might be have electric motor assistance whereas that might not be needed for the cruise phase.\n",
    "\n",
    "A \"segment\" is a sub-portion of a phase that is mostly used internally or when discussing the math behind the problem.\n",
    "Users that are not defining custom phases will likely never need to worry about segments.\n",
    "\n",
    "### Defining a mission\n",
    "\n",
    "A mission is defined by a series of phases that the user chooses by specifying options in the {glue:md}`phase_info` dictionary.\n",
    "The {glue:md}`phase_info` dictionary is a dictionary of dictionaries, where each key is the name of a phase and the value is a dictionary of options for that phase.\n",
    "\n",
    "How you choose to define your phases is dependent on the aircraft you're modeling, the mission you're trying to evaluate, and the flexibility you want to give the optimizer.\n",
    "For example, if you have a relatively conventional aircraft that is flying a straightforward mission, you might just need three phases: climb, cruise, and descent.\n",
    "However, if you have a more complex aircraft or mission, you might need to define more phases.\n",
    "For instance, if you're modeling a hybrid-electric aircraft with non-conventional propulsion systems that are controlled in different ways, you might want to define additional phases and prescribe different options based on which physics you want included at different stages in the flight.\n",
    "\n",
    "In general, if you're familiar with the legacy tools {glue:md}`FLOPS` or {glue:md}`GASP`, you can use the corresponding default {glue:md}`phase_info` objects to start defining your mission.\n",
    "FLOPS-based missions have three integrated phases: climb, cruise, and descent, as well as analytic takeoff and landing systems.\n",
    "GASP-based missions have at least nine integrated phases: {glue:md}`groundroll`, {glue:md}`rotation`, {glue:md}`ascent`, {glue:md}`accel`, {glue:md}`climb1`, {glue:md}`climb2`, {glue:md}`cruise`, {glue:md}`desc1`, and {glue:md}`desc2`, as well landing systems.\n",
    "The difference in the number of phases is due to the fact that {glue:md}`GASP` had more detailed requirements on the flight profile, especially in the early phases of a mission."
   ]
  },
  {
   "cell_type": "code",
   "execution_count": null,
   "metadata": {
    "tags": [
     "remove-cell"
    ]
   },
   "outputs": [],
   "source": [
    "# Testing Cell\n",
    "from aviary.utils.doctape import check_value, get_variable_name, glue_variable\n",
    "\n",
    "expected_keys = [\n",
    "    'groundroll',\n",
    "    'rotation',\n",
    "    'ascent',\n",
    "    'accel',\n",
    "    'climb1',\n",
    "    'climb2',\n",
    "    'cruise',\n",
    "    'desc1',\n",
    "    'desc2',\n",
    "]\n",
    "for key in expected_keys:\n",
    "    glue_variable(key, md_code=False)"
   ]
  },
  {
   "cell_type": "markdown",
   "metadata": {},
   "source": [
    "You can import a copy of the default {glue:md}`phase_info` dicts and then modify them as you need to for your own mission definition.\n",
    "\n",
    "### Defining mission controls and constraints\n",
    "\n",
    "How you choose to define your mission constraints depends on the aircraft your modeling, the equations of motion used, and which subsystems you're including in your model.\n",
    "For example, if you're modeling a single-aisle commercial transport aircraft that will fly a relatively conventional mission, you might define your mission so that the aircraft can only climb in the first phase, cruises at a fixed altitude and Mach number, then descends in the final phase.\n",
    "This would mimic the actual flight profile of this aircraft to a reasonable degree.\n",
    "\n",
    "However, if you're modeling an urban air mobility aircraft that will fly a more complex mission, you might want to give the optimizer more flexibility in how it flies the mission.\n",
    "Purposefully giving the optimizer the freedom to explore the trajectory design space at the same time it's designing the aircraft is a perfect example use case for Aviary.\n",
    "This will result in a more complex optimization problem that might not converge well without some expert knowledge of the problem, but it will allow you to explore the design space more fully.\n",
    "\n"
   ]
  }
 ],
 "metadata": {
  "kernelspec": {
   "display_name": "Python 3 (ipykernel)",
   "language": "python",
   "name": "python3"
  },
  "language_info": {
   "codemirror_mode": {
    "name": "ipython",
    "version": 3
   },
   "file_extension": ".py",
   "mimetype": "text/x-python",
   "name": "python",
   "nbconvert_exporter": "python",
   "pygments_lexer": "ipython3",
   "version": "3.12.3"
  }
 },
 "nbformat": 4,
 "nbformat_minor": 4
}
