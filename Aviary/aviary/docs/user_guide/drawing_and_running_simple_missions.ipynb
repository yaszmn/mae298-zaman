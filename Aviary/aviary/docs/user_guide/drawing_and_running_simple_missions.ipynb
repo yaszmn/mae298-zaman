{
 "cells": [
  {
   "cell_type": "code",
   "execution_count": null,
   "metadata": {
    "tags": [
     "remove-cell"
    ]
   },
   "outputs": [],
   "source": [
    "# Testing Cell\n",
    "import inspect\n",
    "\n",
    "from aviary.interface.methods_for_level1 import run_aviary\n",
    "from aviary.utils.doctape import glue_variable\n",
    "\n",
    "# glue all argument of function run_aviary()\n",
    "sigs = inspect.signature(run_aviary)\n",
    "parameters = sigs.parameters\n",
    "for name, param in parameters.items():\n",
    "    glue_variable(name, md_code=True)\n",
    "    glue_variable('--' + name, md_code=True)"
   ]
  },
  {
   "cell_type": "markdown",
   "metadata": {},
   "source": [
    "# Drawing and running simple missions\n",
    "\n",
    "## Overview\n",
    "\n",
    "Aviary comes with a simple built-in graphical interface for defining missions.\n",
    "This tool can be accessed via the command line and provides an interactive way to define flight phases, including altitude, Mach number, and optimization parameters.\n",
    "\n",
    "It is specifically made to only be used with the {glue:md}`height_energy` mission method.\n",
    "You could use the results from the GUI to run a mission with a different method, but it would require manually changing the generated {glue:md}`phase_info` python dictionary.\n",
    "\n",
    "![Graphical user interface for drawing missions](images/gui_main.png)"
   ]
  },
  {
   "cell_type": "code",
   "execution_count": null,
   "metadata": {
    "tags": [
     "remove-cell"
    ]
   },
   "outputs": [],
   "source": [
    "# Testing Cell\n",
    "from aviary.utils.doctape import get_variable_name, glue_variable\n",
    "from aviary.variable_info.enums import EquationsOfMotion\n",
    "\n",
    "\n",
    "glue_variable(\n",
    "    'height_energy', get_variable_name(EquationsOfMotion.HEIGHT_ENERGY).lower(), md_code=False\n",
    ")"
   ]
  },
  {
   "cell_type": "markdown",
   "metadata": {},
   "source": [
    "## Getting Started\n",
    "\n",
    "To launch the Flight Profile Utility, use the following command in your terminal:\n",
    "\n",
    "```bash\n",
    "aviary draw_mission\n",
    "```\n",
    "\n",
    "This command will open a graphical interface where you can interactively design a flight profile."
   ]
  },
  {
   "cell_type": "code",
   "execution_count": null,
   "metadata": {
    "tags": [
     "remove-cell"
    ]
   },
   "outputs": [],
   "source": [
    "# Test Cell\n",
    "from aviary.interface.cmd_entry_points import _command_map\n",
    "\n",
    "_command_map['draw_mission']\n",
    "str_run_mission = 'run_mission'\n",
    "_command_map[str_run_mission]\n",
    "glue_variable(str_run_mission, md_code=True)"
   ]
  },
  {
   "cell_type": "markdown",
   "metadata": {},
   "source": [
    "```{note}\n",
    "If you are [WSL on Windows](https://learn.microsoft.com/en-us/windows/wsl/install) you might need to install an [X Server](https://sourceforge.net/projects/xming/) to run the GUI without issues. If you do this, also modify your `.bashrc` file to include this line: `export DISPLAY=localhost:0.0`. \n",
    "```\n",
    "\n",
    "## Graphical Interface Usage\n",
    "\n",
    "### Main Components\n",
    "\n",
    "1. **Altitude Profile**: Graphically represents the altitude profile over time. Users can add new points by clicking on the plot and edit existing points by dragging. Units and axes limits can be changed through the menu.\n",
    "\n",
    "2. **Mach Profile**: Similar to the Altitude Plot but for the Mach number profile.\n",
    "\n",
    "3. **Table Entry**: Tabular form of defining a mission. You can add new points through the `Add New Point` button, edit existing points by changing the values in the table entries, and delete points by pressing the `X` button next to any point. The plots and tables update with changes to either one.\n",
    "\n",
    "### Interactive Features\n",
    "\n",
    "- **Adding Points**: Click on either the Altitude or Mach plot area to add a new point. Points on the Altitude plot represent altitude (in feet by default) at a specific time (in minutes by default), whereas points on the Mach plot represent the Mach number at specific times.\n",
    "\n",
    "- **Dragging Points**: Points on both plots can be dragged to adjust values. This allows for fine-tuning of the flight profile.\n",
    "\n",
    "- **Removing Points**: Press the `X` button next to the point on the tabular section to remove that point.\n",
    "\n",
    "- **Output Phase Info**: Press this button to create an output python file named `outputted_phase_info.py` which contains the mission information in a python dictionary called {glue:md}`phase_info`. This button serves the same function as using the menu <nobr>`File`->`Save`</nobr> command. \n",
    "\n",
    "- **Light/Dark Mode**: Press the button on the bottom left to toggle the theme between light and dark mode. The default is light mode. If the user chooses to save settings (read `Edit Tab` below), the last used theme will be loaded the next time the program is run.\n",
    "\n",
    "### Menu Options\n",
    "#### File Tab\n",
    "1. **Open Phase Info**: Allows user to open a previously made phase info file. This must be a python file that contains a dictionary called `phase_info`. \n",
    "\n",
    "2. **Save Phase Info**: Peforms the same function as clicking on the `Output Phase Info` button by saving the current mission as a phase info dictionary in a file named `outputted_phase_info.py`.\n",
    "\n",
    "3. **Save Phase Info as**: Save the current mission as a phase info dictionary with the filename and location specified by the user.\n",
    "\n",
    "4. **Exit**: Close the program.\n",
    "\n",
    "#### Edit Tab\n",
    "1. **Axes Limits**: Lets the user change the axes limits for the Altitude and Mach plots. Pressing the reset button will change the axes limits to be able to view all the points.\n",
    "\n",
    "2. **Units**: Lets the user change the units for Time and Altitude. The default units are minutes and feet respectively.<br>\n",
    "***Currently supported units:***<br>\n",
    "Time: seconds (s), minutes (min), hours (h)<br>\n",
    "Altitude: meters (m), kilometers (km), feet (ft), miles (mi), nautical miles (nmi)\n",
    "\n",
    "3. **Rounding**: Lets the user change the rounding options for Time, Altitude, and Mach. The number corresponds to the number of digits after the decimal point. \n",
    "\n",
    "4. **Store Settings?**: Toggle the option to store settings. The program can store the user's last used theme (dark/light mode) and the last used screen size and location. If this option is checked, the next time the program is run it will open with the same theme and window size and location as the previous use. Unchecking this option will remove any files that store settings.\n",
    "\n",
    "#### View Tab\n",
    "1. **Optimize Phase**: Toggle the option to show/hide optimization checkboxes. If checked, the user can choose to optimize altitude and/or mach for each phase of the mission. Checking the option will create checkboxes between each point on the tabular section of the program.\n",
    "\n",
    "2. **Phase Slopes**: Toggle the option to show/hide slopes for each mission phase. If checked, the altitude and mach plots will be populated with text that shows the climb rate (altitude/time) and mach rate (mach/time). The units for these values will use the same units as the plots. The slope values are rounded to two more digits than the point values.  \n",
    "\n",
    "3. **Advanced Options**: Shows a dialog box for editing more settings for the mission.<br>\n",
    "3.1. `Constrain Range`: If checked, imposes constraints on the flight range.<br>\n",
    "3.2. `Solve for Distance`: If checked, calculates the total flight range based on the profile.<br>\n",
    "3.3. `Include Takeoff`: If checked, includes takeoff in the mission analysis.<br>\n",
    "3.4. `Include Landing`: If checked, includes landing in the mission analysis.<br>\n",
    "3.5. `Polynomial Control Order`: Sets the polynomial order for control optimization, default being 1. This is for both altitude and mach in all phases. You can modify behavior on a per-phase basis by editing the outputted `phase_info` dict.<br>\n",
    "3.6. `Phase Transcription Order`: This setting will only show once at least 2 points are added to the plots/table. This number controls the number of points that are used to evaluate each mission phase. The minimum value is 3, and increasing this value will increase the number of points Aviary uses to analyze that phase.\n",
    "\n",
    "#### Help Tab\n",
    "1. **Instructions**: Shows instructions on how to use the program.\n",
    "\n",
    "### Output\n",
    "\n",
    "Upon completion, the tool outputs a Python script named `outputted_phase_info.py` in the current working directory. Alternatively, if the user uses the `Save As` command, a python script with the user specified name will be saved in the user specified directory. This tool overwrites any existing python file with the same name as the output. This outputted file contains the `phase_info` dictionary, which holds the flight profile data structured for use in mission simulations.\n",
    "\n",
    "```{note}\n",
    "When using the outputted `phase_info` dict in a mission simulation, you can modify the settings by directly changing the outputted Python file.\n",
    "```\n",
    "\n",
    "The `phase_info` dictionary makes some assumptions about different settings which you can also modify.\n",
    "For example, the time duration of each phase is controlled by the optimizer if `fix_duration` is False, though this can be changed to True to fix the duration of each phase.\n",
    "\n",
    "If you don't have the [black](https://pypi.org/project/black/) python autoformatter installed, your output may look slightly different - as long as you see confirmation that your phase info has been saved, your mission profile was successfully created.\n",
    "\n",
    "## Running a Mission Simulation\n",
    "\n",
    "After generating the flight profile, use the {glue:md}`run_mission` command to simulate the mission.\n",
    "This command utilizes the {glue:md}`phase_info` from `outputted_phase_info.py` and simulates the mission based on the defined parameters. In the commands below, replace `outputted_phase_info.py` with your filename if you choose to save the output file with a different filename.\n",
    "You can use the {glue:md}`--phase_info` flag to specify the path to the `outputted_phase_info.py` file.\n",
    "Here we use a benchmark case as the inputted .csv file, though you can use any Aviary .csv here that defines an aircraft.\n",
    "\n",
    "```bash\n",
    "aviary run_mission --phase_info outputted_phase_info.py validation_cases/benchmark_tests/test_aircraft/aircraft_for_bench_FwFm.csv\n",
    "```\n",
    "\n",
    "You can also supply an optimizer, otherwise the default (SLSQP) will be used.\n",
    "Here is how you'd run the mission with the IPOPT optimizer:\n",
    "\n",
    "```bash\n",
    "aviary run_mission --optimizer IPOPT --phase_info outputted_phase_info.py validation_cases/benchmark_tests/test_aircraft/aircraft_for_bench_FwFm.csv\n",
    "```\n",
    "\n",
    "```{note}\n",
    "When you run Aviary all of the outputs will be saved in the location where you run the command or run script.\n",
    "Outputs files such as optimization history and Dymos output files are saved at that location.\n",
    "A folder named 'report' will also be created there, and contains all of the associated report files for your runs.\n",
    "These reports include [optimization and trajectory reports generated by OpenMDAO and Dymos](https://openmdao.org/newdocs/versions/latest/features/reports/reports_system.html).\n",
    "```"
   ]
  },
  {
   "cell_type": "code",
   "execution_count": null,
   "metadata": {
    "tags": [
     "remove-cell"
    ]
   },
   "outputs": [],
   "source": [
    "# Testing Cell\n",
    "from aviary.utils.doctape import run_command_no_file_error\n",
    "\n",
    "command = (\n",
    "    'aviary run_mission --optimizer IPOPT --phase_info outputted_phase_info.py '\n",
    "    'validation_cases/benchmark_tests/test_aircraft/aircraft_for_bench_FwFm.csv'\n",
    ")\n",
    "command += ' --max_iter 0'\n",
    "run_command_no_file_error(command)"
   ]
  }
 ],
 "metadata": {
  "kernelspec": {
   "display_name": "Python 3 (ipykernel)",
   "language": "python",
   "name": "python3"
  },
  "language_info": {
   "codemirror_mode": {
    "name": "ipython",
    "version": 3
   },
   "file_extension": ".py",
   "mimetype": "text/x-python",
   "name": "python",
   "nbconvert_exporter": "python",
   "pygments_lexer": "ipython3",
   "version": "3.12.3"
  }
 },
 "nbformat": 4,
 "nbformat_minor": 4
}
