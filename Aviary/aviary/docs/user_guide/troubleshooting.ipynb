{
 "cells": [
  {
   "cell_type": "markdown",
   "metadata": {},
   "source": [
    "# Troubleshooting\n",
    "\n",
    "## Building Understanding\n",
    "\n",
    "A fantastic feature of Aviary is the fact that you can construct ridiculously complex coupled aircraft-mission design problems that span multiple disciplines and fidelities.\n",
    "However, this can also be a curse.\n",
    "When you're first starting out with Aviary, it can be difficult to understand why your model is behaving the way it is.\n",
    "This section will discuss some strategies for building up an understanding of your model and how to troubleshoot when things aren't working as expected.\n",
    "\n",
    "````{margin}\n",
    "```{note}\n",
    "It'd be wonderful if optimization allowed you to press one button and create the best aircraft. Unfortunately, that's not the case. We still need engineering intuition and understanding to build good models and interpret results.\n",
    "```\n",
    "````\n",
    "\n",
    "A valuable resource that we've already developed is the [Debugging your optimizations](https://openmdao.github.io/PracticalMDO/Notebooks/Optimization/debugging_your_optimizations.html) content from the [Practical Multidisciplinary Design Optimization](https://openmdao.github.io/PracticalMDO/) course.\n",
    "This video and notebook discuss how to build up an understanding of your optimization model in a general sense.\n",
    "\n",
    "This doc page will discuss how to build up an understanding of your Aviary model in particular.\n",
    "\n",
    "### Understand your subsystem models\n",
    "\n",
    "The first step in building up an understanding of your complete model is to understand the subsystem models you're using.\n",
    "For example, if you're using an engine deck for the propulsion model, plotting the thrust and fuel flow as a function of Mach number and altitude can be a great way to understand how the engine will behave.\n",
    "Similarly, if you're using a battery model, plotting the battery state of charge as a function of time with the expected power draw can be a great way to understand how the battery will behave.\n",
    "\n",
    "Without a thorough understanding of your subsystem models, it will be nearly impossible to understand how and why the optimizer is making certain decisions.\n",
    "Famously, optimizers are very good at finding parts of the model space that are poorly defined and exploiting them in pursuit of minimizing the objective.\n",
    "\n",
    "### Start with a simple mission\n",
    "\n",
    "The first step in building up an understanding of your model is to start simple.\n",
    "This might sound straightforward, but you should start with a simple aircraft model and a simple mission.\n",
    "For example, if you want to eventually model a hybrid-electric aircraft flying a fully optimized trajectory, you might want to start with a simpler mission where the climb rate and cruise altitude are fixed.\n",
    "Once you get good results with the simple mission and understand the results, you can start adding complexity and flexibility.\n",
    "\n",
    "### Interpreting optimized results\n",
    "\n",
    "```{note}\n",
    "A \"Verbosity\" control has been added to minimize the amount of unnecessary information that will be displayed. Verbosity settings are discussed in more detail in the developer guide. Mode 0 (QUIET) will suppress practically everything other than warnings and errors. Mode 2 (VERBOSE) will include information such as the progress of the optimization, instead of just a final summary. And mode 3 (DEBUG) will contain detailed information about many of the steps as they happen.\n",
    "Some of Aviary's CLI functions, such as \"fortran_to_aviary\", allow the verbosity to be set directly with a command line argument. \"run_mission\" uses the variable \"{glue:md}`setting_VERBOSITY`\" to control the print levels.\n",
    "```"
   ]
  },
  {
   "cell_type": "code",
   "execution_count": null,
   "metadata": {
    "tags": [
     "remove-cell"
    ]
   },
   "outputs": [],
   "source": [
    "# Testing Cell\n",
    "import argparse\n",
    "\n",
    "from aviary.api import Settings\n",
    "from aviary.interface.cmd_entry_points import _command_map\n",
    "from aviary.utils.doctape import check_contains, check_value, glue_variable\n",
    "\n",
    "_command_map['run_mission']\n",
    "check_value(Settings.VERBOSITY, 'settings:verbosity')\n",
    "\n",
    "for command in ['fortran_to_aviary']:\n",
    "    parser = argparse.ArgumentParser()\n",
    "    _command_map[command][0](parser)\n",
    "    actions = [*parser._get_optional_actions(), *parser._get_positional_actions()]\n",
    "    check_contains(\n",
    "        'verbosity',\n",
    "        [action.dest for action in actions],\n",
    "        f'{command} does not accept `verbosity` as an argument',\n",
    "        AttributeError,\n",
    "    )\n",
    "\n",
    "setting_VERBOSITY = Settings.VERBOSITY\n",
    "glue_variable('setting_VERBOSITY', setting_VERBOSITY, md_code=False)"
   ]
  },
  {
   "cell_type": "markdown",
   "metadata": {},
   "source": [
    "Once you've built up an understanding of your model and have successfully performed optimization, you can start to interpret the results.\n",
    "This is where a mix of aircraft engineering knowledge and optimization knowledge is extremely helpful.\n",
    "\n",
    "First, examine the exit code of the optimizer.\n",
    "If the optimizer exited with a non-zero exit code, it means that the optimizer did not converge well to a solution.\n",
    "This could be due to a number of reasons, such as the prescribed constraints being unsatisfiable or that the optimizer had numerical difficulties finding the optimum.\n",
    "\n",
    "In the event of non-convergence, you should see if you are solving the simplest relevant optimization case for your studies.\n",
    "If you aren't, it's beneficial to start with the simplest case and build up complexity until you find the source of the non-convergence.\n",
    "\n",
    "If the optimizer exited with a zero exit code, it means that the optimizer converged to a solution.\n",
    "Now you can start to interpret the resulting trajectory and aircraft design.\n",
    "\n",
    "Aviary provides a number of reports to help you interpret the results, including the `opt_report.html` and `traj_results_report.html`.\n",
    "\n",
    "The `opt_report.html` shows you the final values of the design variables, constraints, and objective, along with the corresponding bounds for each value.\n",
    "This is helpful in determining which design variables are at their limits as well as which constraints are driving the design of the aircraft.\n",
    "\n",
    "The `traj_results_report.html` shows you plots of the trajectory variables as a function of time.\n",
    "Specifically, you can look at the altitude and Mach profiles to see if the aircraft flight is in line with what you expected.\n",
    "You can also view any tracked state variables, such as the battery state of charge, to see if the subsystems are behaving as expected.\n",
    "\n",
    "## Ensuring Subsystems Compatibility\n",
    "\n",
    "This section is under development.\n"
   ]
  }
 ],
 "metadata": {
  "kernelspec": {
   "display_name": "av1",
   "language": "python",
   "name": "python3"
  },
  "language_info": {
   "codemirror_mode": {
    "name": "ipython",
    "version": 3
   },
   "file_extension": ".py",
   "mimetype": "text/x-python",
   "name": "python",
   "nbconvert_exporter": "python",
   "pygments_lexer": "ipython3",
   "version": "3.9.18"
  }
 },
 "nbformat": 4,
 "nbformat_minor": 2
}
