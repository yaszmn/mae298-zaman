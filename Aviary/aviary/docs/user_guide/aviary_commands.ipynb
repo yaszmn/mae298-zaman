{
 "cells": [
  {
   "cell_type": "code",
   "execution_count": null,
   "metadata": {
    "tags": [
     "remove-cell"
    ]
   },
   "outputs": [],
   "source": [
    "# Testing Cell\n",
    "from aviary.interface.cmd_entry_points import _command_map\n",
    "from aviary.utils.doctape import glue_keys, glue_variable\n",
    "\n",
    "current_glued_vars = []\n",
    "\n",
    "# glue all the options of 'aviary'\n",
    "glue_keys(_command_map)\n",
    "for key in _command_map:\n",
    "    glue_variable('aviary ' + key, md_code=True)"
   ]
  },
  {
   "attachments": {},
   "cell_type": "markdown",
   "metadata": {},
   "source": [
    "# Command Line Tools\n",
    "\n",
    "Aviary has a number of command line tools that are available via the `aviary`\n",
    "command.\n",
    "\n",
    "```{note}\n",
    "When using a command line tool on a script that takes its own command line arguments, those\n",
    "arguments must be placed after a `--` on the command line.  Anything to the right of the\n",
    "`--` will be ignored by the Aviary command line parser and passed on to the user script.\n",
    "For example: `Aviary sub_command -o foo.html myscript.py -- -x --myarg=bar` would pass\n",
    "`-x` and `--myarg=bar` as args to `myscript.py`.\n",
    "```\n",
    "\n",
    "All available `aviary` sub-commands can be shown using the following command:"
   ]
  },
  {
   "cell_type": "markdown",
   "metadata": {},
   "source": [
    "```\n",
    "aviary -h\n",
    "```"
   ]
  },
  {
   "cell_type": "code",
   "execution_count": null,
   "metadata": {
    "tags": [
     "remove-input"
    ]
   },
   "outputs": [],
   "source": [
    "!aviary -h 2>/dev/null"
   ]
  },
  {
   "cell_type": "markdown",
   "metadata": {},
   "source": [
    "To get further info on any sub-command, follow the command with a *-h*.  For example:"
   ]
  },
  {
   "cell_type": "markdown",
   "metadata": {},
   "source": [
    "```\n",
    "aviary run_mission -h\n",
    "```"
   ]
  },
  {
   "cell_type": "code",
   "execution_count": null,
   "metadata": {
    "tags": [
     "remove-input"
    ]
   },
   "outputs": [],
   "source": [
    "!aviary run_mission -h 2>/dev/null"
   ]
  },
  {
   "cell_type": "markdown",
   "metadata": {},
   "source": [
    "## Available Commands and Their Usage\n",
    "\n",
    "\n",
    "(aviary-run_mission-command)=\n",
    "### aviary run_mission\n",
    "\n",
    "{glue:md}`run_mission` is a command line interface that will run an analysis on a given csv input file."
   ]
  },
  {
   "cell_type": "markdown",
   "metadata": {},
   "source": [
    "```\n",
    "aviary run_mission -h\n",
    "```"
   ]
  },
  {
   "cell_type": "code",
   "execution_count": null,
   "metadata": {
    "tags": [
     "remove-cell"
    ]
   },
   "outputs": [],
   "source": [
    "!aviary run_mission -h 2>/dev/null"
   ]
  },
  {
   "cell_type": "markdown",
   "metadata": {},
   "source": [
    "To use {glue:md}`small_single_aisle_GASP.csv`, run the command\n",
    "{glue:md}`aviary run_mission models/aircraft/small_single_aisle/small_single_aisle_GASP.csv` in\n",
    "{glue:md}`aviary/models/aircraft/small_single_aisle`\n",
    "\n",
    "SNOPT is the default optimizer, but IPOPT is available as well."
   ]
  },
  {
   "cell_type": "code",
   "execution_count": null,
   "metadata": {
    "tags": [
     "remove-cell"
    ]
   },
   "outputs": [],
   "source": [
    "# Testing Cell\n",
    "import os\n",
    "import subprocess\n",
    "\n",
    "import aviary.api as av\n",
    "from aviary.utils.doctape import glue_variable\n",
    "\n",
    "str_folder = 'models/aircraft/small_single_aisle'\n",
    "folder = av.get_path(str_folder)\n",
    "model_dir = folder.relative_to(av.top_dir.parent)\n",
    "glue_variable(model_dir, md_code=True)\n",
    "\n",
    "str_model = 'small_single_aisle_GASP.csv'\n",
    "folder = av.get_path(str_folder) / (str_model)\n",
    "file_name = os.path.basename(folder)\n",
    "glue_variable(file_name, md_code=False)\n",
    "\n",
    "command = 'aviary run_mission ' + str_folder + '/' + str_model\n",
    "glue_variable(command, md_code=True)\n",
    "command += ' --max_iter 0 --optimizer IPOPT'  # max_iter to limit build time, IPOPT to run on CI\n",
    "subprocess.run(command.split()).check_returncode()"
   ]
  },
  {
   "cell_type": "code",
   "execution_count": null,
   "metadata": {
    "tags": [
     "remove-cell"
    ]
   },
   "outputs": [],
   "source": [
    "# Testing Cell\n",
    "import inspect\n",
    "\n",
    "import aviary.api as av\n",
    "from aviary.interface.methods_for_level1 import run_level_1\n",
    "from aviary.utils.doctape import glue_actions, glue_variable\n",
    "from aviary.variable_info.variables import Settings\n",
    "\n",
    "# glue all the options of 'aviary run_mission'\n",
    "glue_actions('run_mission', current_glued_vars, md_code=True)\n",
    "\n",
    "glue_variable(av.EquationsOfMotion.HEIGHT_ENERGY.value, md_code=False, display=True)\n",
    "glue_variable(av.EquationsOfMotion.TWO_DEGREES_OF_FREEDOM.value, md_code=False, display=True)\n",
    "glue_variable(av.EquationsOfMotion.SOLVED_2DOF.value, md_code=False, display=True)\n",
    "glue_variable('equations_of_motion', Settings.EQUATIONS_OF_MOTION, display=True)\n",
    "\n",
    "# obtain the default value of maximum number of iterations from function run_level_1().\n",
    "max_iter = inspect.signature(run_level_1).parameters['max_iter'].default\n",
    "if 'max_iter' not in current_glued_vars:\n",
    "    glue_variable('max_iter', str(max_iter), md_code=False)\n",
    "    current_glued_vars.append('max_iter')"
   ]
  },
  {
   "cell_type": "markdown",
   "metadata": {},
   "source": [
    "{glue:md}`input_deck` is the path to vehicle input deck .csv file.\n",
    "{glue:md}`--optimizer` is the name of the optimizer. The default is `IPOPT`.\n",
    "{glue:md}`--phase_info` is the path to phase info file. If it is missing, it depends on the mission method (`equations_of_motion` with value of {glue:md}`2DOF` or {glue:md}`height_energy`) which is defined in the .csv input file.\n",
    "{glue:md}`--max_iter` is the maximum number of iterations. The default is {glue:md}`max_iter`.\n",
    "\n",
    "More detailed information and examples can be found in the [Level 1 interface](../getting_started/onboarding_level1.ipynb)."
   ]
  },
  {
   "cell_type": "code",
   "execution_count": null,
   "metadata": {
    "tags": [
     "remove-cell"
    ]
   },
   "outputs": [],
   "source": [
    "# Testing Cell\n",
    "from aviary.utils.doctape import glue_actions\n",
    "\n",
    "# glue all the options of 'aviary fortran_to_aviary'\n",
    "glue_actions('fortran_to_aviary', current_glued_vars, md_code=True)"
   ]
  },
  {
   "attachments": {},
   "cell_type": "markdown",
   "metadata": {},
   "source": [
    "(aviary-fortran_to_aviary-command)=\n",
    "### aviary fortran_to_aviary\n",
    "\n",
    "The {glue:md}`aviary fortran_to_aviary` command will convert a Fortran input deck to an Aviary csv.\n",
    "\n"
   ]
  },
  {
   "cell_type": "markdown",
   "metadata": {},
   "source": [
    "```\n",
    "aviary fortran_to_aviary -h\n",
    "```"
   ]
  },
  {
   "cell_type": "code",
   "execution_count": null,
   "metadata": {
    "tags": [
     "remove-input"
    ]
   },
   "outputs": [],
   "source": [
    "!aviary fortran_to_aviary -h 2>/dev/null"
   ]
  },
  {
   "cell_type": "markdown",
   "metadata": {},
   "source": [
    "The only two required inputs are the filepath to the input deck and {glue:md}`-l` (for {glue:md}`--legacy_code` with options `FLOPS` and `GASP`).\n",
    "When this command is run, a brief message is printed. To print more messages, one can set verbosity level higher. For example, `-v 3` will result in debug messages being printed. See [Controlling Display Levels](../developer_guide/coding_standards.ipynb) for more details.\n",
    "If an invalid filepath is given, pre-packaged resources will be checked for input decks with a matching name.\n",
    "If the output file name is not specified, a detault name is assumed to be the trunk of the input file name with `csv` as file extension. For example, an input file `sample.dat` will result in `sample_converted.csv`.\n",
    "If the output file exists, the command will not run unless the user specifies {glue:md}`--force` to force the overwritten action.\n",
    "\n",
    "Here, pre-packaged resources are absolute path, relative path, Aviary based path, and relative path relative to the Aviary models folder.\n",
    "\n",
    "Notes for input decks:\n",
    "- When specifying variables from FORTRAN, they should be in the appropriate NAMELIST\n",
    "- Names are not case-sensitive\n",
    "- Comments can be added using \"!\"\n",
    "- Lists can be entered by separating values with commas on the same line\n",
    "- For GASP variables where required, individual list elements can be specified by adding an index after the variable name\n",
    "    - (NOTE: 1 indexing is used inside NAMELISTS, while 0 indexing is used outside NAMELISTS)\n",
    "\n",
    "Example inputs (GASP-style file):\n",
    "```\n",
    "$INGASP\n",
    "DELP = 7.34797 ! typical GASP input\n",
    "ARNGE(1) = 3600 ! variable with specified index\n",
    "ACLS = 0.0,0.40,0.60,0.80,1.00,1.20, 1.40,1.60,1.80, ! values given as array\n",
    "```\n",
    "\n",
    "Example usage:\n",
    "`aviary fortran_to_aviary --legacy_code GASP --force GASP_test.dat` Converts the GASP input deck to Aviary (even if a file with the name GASP_test.dat already exists)."
   ]
  },
  {
   "cell_type": "code",
   "execution_count": null,
   "metadata": {
    "tags": [
     "remove-cell"
    ]
   },
   "outputs": [],
   "source": [
    "# Testing Cell\n",
    "\n",
    "# glue all the options of 'aviary convert_engine'\n",
    "glue_actions('convert_engine', current_glued_vars, md_code=True)"
   ]
  },
  {
   "cell_type": "markdown",
   "metadata": {},
   "source": [
    "(aviary-hangar-command)=\n",
    "### aviary hangar\n",
    "\n",
    "The {glue:md}`aviary hangar` command will copy files and folders from the Aviary hangar to an accessible directory.\n",
    "This is useful for users that have pip installed Aviary, but want to experiment with the included examples.\n",
    "\n",
    "\n"
   ]
  },
  {
   "cell_type": "markdown",
   "metadata": {},
   "source": [
    "```\n",
    "aviary hangar -h\n",
    "```"
   ]
  },
  {
   "cell_type": "code",
   "execution_count": null,
   "metadata": {
    "tags": [
     "remove-input"
    ]
   },
   "outputs": [],
   "source": [
    "!aviary hangar -h 2>/dev/null"
   ]
  },
  {
   "cell_type": "markdown",
   "metadata": {},
   "source": [
    "The only required input is the name of an input deck.\n",
    "This can be specified as the name of the file, the path from [aviary/models](https://github.com/OpenMDAO/Aviary/tree/main/aviary/models), the name of a folder in aviary/models. Multiple files and folders can be copied at once.\n",
    "Optionally, the output directory can be specified; if it is not, the files will be copied into the current working directory in a folder called `aviary_models`.\n",
    "If specified, the output directory will be created as needed.\n",
    "\n",
    "Example usage:\n",
    "```\n",
    "# Copy all files in the engines folder\n",
    "aviary hangar engines\n",
    "# Copy the 22k turbofan deck\n",
    "aviary hangar turbofan_22k.txt\n",
    "# Copy the N3CC data\n",
    "aviary hangar advanced_single_aisle/advanced_single_aisle_data.py\n",
    "# Copy the Fortran and Aviary input decks for the small single aisle\n",
    "aviary hangar small_single_aisle_GwGm.dat small_single_aisle_GwGm.csv\n",
    "# Copy the engine model into ~/example_files\n",
    "aviary hangar turbofan_22k.txt -o ~/example_files\n",
    "```"
   ]
  },
  {
   "cell_type": "code",
   "execution_count": null,
   "metadata": {
    "tags": [
     "remove-cell"
    ]
   },
   "outputs": [],
   "source": [
    "# Testing Cell\n",
    "import os\n",
    "import subprocess\n",
    "import tempfile\n",
    "\n",
    "commands = [\n",
    "    'engines',\n",
    "    'turbofan_22k.csv',\n",
    "    'advanced_single_aisle/advanced_single_aisle_data.py',\n",
    "    'small_single_aisle_GASP.dat small_single_aisle_GASP.csv',\n",
    "    'turbofan_22k.csv -o ~/example_files',\n",
    "]\n",
    "# Save the current directory\n",
    "original_cwd = os.getcwd()\n",
    "\n",
    "try:\n",
    "    with tempfile.TemporaryDirectory() as tempdir:\n",
    "        os.chdir(tempdir)\n",
    "        for command in commands:\n",
    "            command = 'aviary hangar ' + command\n",
    "            subprocess.run(command.split()).check_returncode()\n",
    "finally:\n",
    "    # Always restore the original directory\n",
    "    os.chdir(original_cwd)"
   ]
  },
  {
   "cell_type": "markdown",
   "metadata": {},
   "source": [
    "(aviary-EDC-command)=\n",
    "### aviary convert_engine\n",
    "\n",
    "The {glue:md}`aviary convert_engine` command will convert a legacy formatted (FLOPS or GASP) engine deck into an Aviary formatted engine deck."
   ]
  },
  {
   "cell_type": "markdown",
   "metadata": {},
   "source": [
    "```\n",
    "aviary convert_engine -h\n",
    "```"
   ]
  },
  {
   "cell_type": "code",
   "execution_count": null,
   "metadata": {
    "tags": [
     "remove-input"
    ]
   },
   "outputs": [],
   "source": [
    "!aviary convert_engine -h 2>/dev/null"
   ]
  },
  {
   "cell_type": "markdown",
   "metadata": {},
   "source": [
    "Users must provide the path or name of an input deck, and the engine format being converted.\n",
    "If an invalid filepath is given for the input file, pre-packaged resources will be checked for input decks with a matching name.\n",
    "\n",
    "The path to the output file name is optional. If it is missing, the output file name takes the \n",
    "trunk of the input file name with `deck` as default file extension. For example, an input file `sample.eng` will result in `sample.csv` unless the user specifies the output file name.\n",
    "\n",
    "If the output file exists, it will be overwritten.\n",
    "\n",
    "The engine format is specified by {glue:md}`-f` or {glue:md}`--data_format` with one of `FLOPS`, `GASP`, and `GASP_TS` string (`TS` stands for turboshaft). If multiple are specified, the last one will be used.\n",
    "\n",
    "Notes for input decks:\n",
    "- Turbofan decks for both FLOPS and GASP can be converted\n",
    "- Turboshaft decks for GASP can also be converted\n",
    "- Comments can be added using #\n",
    "\n",
    "\n",
    "Example usage:\n",
    "\n",
    "```\n",
    "# Convert a GASP based turbofan\n",
    "aviary convert_engine turbofan_23k_1.eng turbofan_23k_1.csv -f GASP \n",
    "# Convert a FLOPS based turbofan\n",
    "aviary convert_engine turbofan_22k.eng turbofan_22k.csv -f FLOPS \n",
    "# Convert a GASP based turboshaft\n",
    "aviary convert_engine turboshaft_4465hp.eng turboshaft_4465hp.csv --data_format GASP_TS\n",
    "```"
   ]
  },
  {
   "cell_type": "code",
   "execution_count": null,
   "metadata": {
    "tags": [
     "remove-cell"
    ]
   },
   "outputs": [],
   "source": [
    "# Testing Cell\n",
    "from aviary.utils.doctape import run_command_no_file_error\n",
    "\n",
    "commands = [\n",
    "    'utils/test/data/turbofan_23k_1.eng turbofan_23k_1.csv -f GASP',\n",
    "    'utils/test/data/turbofan_22k.txt turbofan_22k.csv -f FLOPS',\n",
    "    'utils/test/data/turboshaft_4465hp.eng turboshaft_4465hp.csv -f GASP_TS',\n",
    "]\n",
    "for command in commands:\n",
    "    run_command_no_file_error('aviary convert_engine ' + command)"
   ]
  },
  {
   "cell_type": "code",
   "execution_count": null,
   "metadata": {
    "tags": [
     "remove-cell"
    ]
   },
   "outputs": [],
   "source": [
    "# Testing Cell\n",
    "\n",
    "# glue all the options of 'aviary convert_aero_table'\n",
    "glue_actions('convert_aero_table', current_glued_vars, md_code=True)"
   ]
  },
  {
   "cell_type": "markdown",
   "metadata": {},
   "source": [
    "(aviary-ATC-command)=\n",
    "### aviary convert_aero_table\n",
    "\n",
    "The {glue:md}`aviary convert_aero_table` command will convert a legacy formatted (FLOPS or GASP) aero table into an Aviary formatted aero table.\n"
   ]
  },
  {
   "cell_type": "markdown",
   "metadata": {},
   "source": [
    "```\n",
    "aviary convert_aero_table -h\n",
    "```"
   ]
  },
  {
   "cell_type": "code",
   "execution_count": null,
   "metadata": {
    "tags": [
     "remove-input"
    ]
   },
   "outputs": [],
   "source": [
    "!aviary convert_aero_table -h 2>/dev/null"
   ]
  },
  {
   "cell_type": "markdown",
   "metadata": {},
   "source": [
    "Users must provide the path or name of an input deck and the data format being converted.\n",
    "Optionally, the path to the output file can also be specified, otherwise the default output file will be in the same location and have the same name as input file, but with '_aviary' appended to the end of filename trunk while the file extension is preserved. For example, an input file `sample.txt` will result in `sample_aviary.txt` unless the user specifies the output file name.\n",
    "If both {glue:md}`-f` and {glue:md}`--data_format` are specified, the later one is taken.\n",
    "If an existing file has the same name as output file name, the existing file will be overwritten.\n",
    "If an invalid filepath is given for the input file, pre-packaged resources will be checked for input decks with a matching name.\n",
    "\n",
    "Notes for input decks:\n",
    "- Aero tables for both FLOPS and GASP can be converted\n",
    "- GASP tables will create a single file containing all the lift and drag information\n",
    "- There are two types of GASP tables. The first one combines CL and CD into one single table. The second one has them separated with a possible CD0 table. We name the first one as `GASP_ALT` and the second one as `GASP`. The second one is usually obtained by high fidelity CFD tools.\n",
    "- FLOPS tables will create two files, one containing the lift-dependent drag and the other containing the lift-independent drag.\n",
    "- Comments can be added using #\n",
    "\n",
    "\n",
    "Example usage:\n",
    "```\n",
    "# Converts a GASP based aero table \n",
    "aviary convert_aero_table -f GASP_ALT utils/test/data/aero_free_GASP.txt large_single_aisle_1_aero_flaps.csv\n",
    "# Converts a GASP based alternative aero table \n",
    "aviary convert_aero_table -f GASP utils/test/data/aero_BWB_modified_GASP.txt generic_BWB_GASP_aero.csv\n",
    "# Converts a FLOPS based aero table\n",
    "aviary convert_aero_table -f FLOPS utils/test/data/flops_test_polar.txt aviary_flops_polar.txt\n",
    "```"
   ]
  },
  {
   "cell_type": "code",
   "execution_count": null,
   "metadata": {
    "tags": [
     "remove-cell"
    ]
   },
   "outputs": [],
   "source": [
    "# Testing Cell\n",
    "from aviary.utils.doctape import run_command_no_file_error\n",
    "\n",
    "commands = [\n",
    "    '-f GASP_ALT utils/test/data/aero_free_GASP.txt large_single_aisle_1_aero_flaps.csv',\n",
    "    '-f GASP utils/test/data/aero_BWB_modified_GASP.txt',\n",
    "    '-f FLOPS utils/test/data/flops_test_polar.txt aviary_flops_polar.txt',\n",
    "]\n",
    "for command in commands:\n",
    "    run_command_no_file_error('aviary convert_aero_table ' + command)"
   ]
  },
  {
   "cell_type": "markdown",
   "metadata": {},
   "source": [
    "(aviary-PMC-command)=\n",
    "### aviary convert_prop_table\n",
    "\n",
    "The {glue:md}`aviary convert_prop_table` command converts a legacy formatted (GASP) propeller map into an Aviary formatted propeller map. Currently, GASP is the only format supported."
   ]
  },
  {
   "cell_type": "markdown",
   "metadata": {},
   "source": [
    "```\n",
    "aviary convert_prop_table -h\n",
    "```"
   ]
  },
  {
   "cell_type": "code",
   "execution_count": null,
   "metadata": {
    "tags": [
     "remove-input"
    ]
   },
   "outputs": [],
   "source": [
    "!aviary convert_prop_table -h 2>/dev/null"
   ]
  },
  {
   "cell_type": "markdown",
   "metadata": {},
   "source": [
    "Users must provide the path or name of an input deck, and optionally the path to the desired output file. If not provided, the output file will have the same filename as the input file but with the exension `.prop`. This is arbitrary, and `.prop` is not a required file extension for propeller data files, but it is designed to help users recognize the purpose of the data table without needing to open it.\n",
    "If an invalid filepath is given for the input file, Aviary's files will be checked for input decks with a matching name.\n",
    "\n",
    "Notes for input decks:\n",
    "- There are two options for Mach number: Mach number and helical Mach number at 75% radius. We provide one example for each. This is the first integer on the first line of the input file. (1 = Mach, 2 = helical Mach)\n",
    "- Comments can be added using #\n",
    "\n",
    "\n",
    "Example usage:\n",
    "\n",
    "```\n",
    "# Convert GASP based propeller map PropFan.map to Aviary data table PropFan.csv\n",
    "aviary convert_prop_table PropFan.map PropFan.csv\n",
    "# Convert GASP based propeller map general_aviation.map to Aviary data table general_aviation.csv\n",
    "aviary convert_prop_table general_aviation.map general_aviation.csv\n",
    "# Convert GASP based propeller map general_aviation.map to Aviary data table general_aviation.csv\n",
    "aviary convert_prop_table general_aviation.map\n",
    "```\n",
    "The first example uses Mach number and the second example uses helical Mach number. \n",
    "Note that the output file name was not specified in the third example."
   ]
  },
  {
   "cell_type": "code",
   "execution_count": null,
   "metadata": {
    "tags": [
     "remove-cell"
    ]
   },
   "outputs": [],
   "source": [
    "# Testing Cell\n",
    "from aviary.utils.doctape import run_command_no_file_error\n",
    "\n",
    "commands = [\n",
    "    'models/engines/propellers/PropFan.map PropFan.csv',\n",
    "    'models/engines/propellers/general_aviation.map general_aviation.csv',\n",
    "    'models/engines/propellers/general_aviation.map',\n",
    "]\n",
    "for command in commands:\n",
    "    run_command_no_file_error('aviary convert_prop_table ' + command)"
   ]
  },
  {
   "cell_type": "code",
   "execution_count": null,
   "metadata": {
    "tags": [
     "remove-cell"
    ]
   },
   "outputs": [],
   "source": [
    "# glue all the options of 'aviary convert_prop_table'\n",
    "glue_actions('convert_prop_table', current_glued_vars, md_code=True)"
   ]
  },
  {
   "cell_type": "markdown",
   "metadata": {},
   "source": [
    "(aviary-draw-command)=\n",
    "### aviary draw_mission\n",
    "\n",
    "The {glue:md}`aviary draw_mission` command will bring up a new graphical interface for users to create a  mission. This command does not have an input. More details can be found at [Drawing and running simple missions](drawing_and_running_simple_missions.ipynb)."
   ]
  },
  {
   "cell_type": "markdown",
   "metadata": {},
   "source": [
    "(aviary-plot-command)=\n",
    "### aviary plot_drag_polar\n",
    "\n",
    "The {glue:md}`aviary plot_drag_polar` command will bring up a new graphical interface for users to draw drag polar. No options are needed on the command line but a file explorer window will pop-up to allow the user to select a drag polar file (a `.csv` file). It is not working at this time."
   ]
  },
  {
   "cell_type": "markdown",
   "metadata": {},
   "source": [
    "```\n",
    "aviary plot_drag_polar -h\n",
    "```"
   ]
  },
  {
   "cell_type": "code",
   "execution_count": null,
   "metadata": {
    "tags": [
     "remove-input"
    ]
   },
   "outputs": [],
   "source": [
    "!aviary plot_drag_polar -h 2>/dev/null"
   ]
  },
  {
   "cell_type": "code",
   "execution_count": null,
   "metadata": {
    "tags": [
     "remove-cell"
    ]
   },
   "outputs": [],
   "source": [
    "# Testing Cell\n",
    "\n",
    "# glue all the options of 'aviary dashboard'\n",
    "glue_actions('dashboard', current_glued_vars, glue_default=True, md_code=True)"
   ]
  },
  {
   "cell_type": "markdown",
   "metadata": {},
   "source": [
    "(aviary-dashboard-command)=\n",
    "### aviary dashboard\n",
    "\n",
    "The {glue:md}`aviary dashboard` command will bring up a dashboard that lets the user easily browse between the reports and files that are generated during an Aviary run."
   ]
  },
  {
   "cell_type": "markdown",
   "metadata": {},
   "source": [
    "```\n",
    "aviary dashboard -h\n",
    "```"
   ]
  },
  {
   "cell_type": "code",
   "execution_count": null,
   "metadata": {
    "tags": [
     "remove-input"
    ]
   },
   "outputs": [],
   "source": [
    "!aviary dashboard -h 2>/dev/null"
   ]
  },
  {
   "cell_type": "markdown",
   "metadata": {},
   "source": [
    "To use this utility, either a problem has been run or a run script is provided.\n",
    "\n",
    "{glue:md}`--port` is the dashboard server port ID. The default is {glue:md}`port_default` meaning any free port.\n",
    "{glue:md}`-b` or {glue:md}`--background` indicates to run in background. Default is `False`.\n",
    "{glue:md}`-d` or {glue:md}`--debug` indicates to show debugging output. Default is `False`.\n",
    "{glue:md}`--save` is the name of zip file in which dashboard files are saved. If no argument given, use the script name to name the zip file.\n",
    "{glue:md}`--force` indicates to overwrite the saved zip file. The default is `False`.\n",
    "{glue:md}`script_name` is the name of aviary script that was run (not including .py), or the csv input filename if the user runs a Level 1 script.\n"
   ]
  },
  {
   "cell_type": "markdown",
   "metadata": {},
   "source": [
    "More discussion on {glue:md}`aviary dashboard` command can be found in [Postprocessing and Visualizing Results from Aviary](postprocessing_and_visualizing_results.ipynb)."
   ]
  },
  {
   "cell_type": "markdown",
   "metadata": {},
   "source": [
    "(aviary-rtplot-command)=\n",
    "### aviary rtplot\n",
    "\n",
    "The {glue:md}`aviary rtplot` command runs an Aviary script and also displays a real-time plot of the variables as an optimization progresses. It makes use of the data being written to a case recorder file, the script must add a recorder to the `Driver`."
   ]
  },
  {
   "cell_type": "markdown",
   "metadata": {},
   "source": [
    "```\n",
    "aviary rtplot -h\n",
    "```"
   ]
  },
  {
   "cell_type": "code",
   "execution_count": null,
   "metadata": {},
   "outputs": [],
   "source": [
    "!aviary rtplot -h 2>/dev/null"
   ]
  },
  {
   "cell_type": "markdown",
   "metadata": {},
   "source": [
    "An example of using this command would be\n",
    "```\n",
    "aviary rtplot aviary_script.py\n",
    "```"
   ]
  }
 ],
 "metadata": {
  "kernelspec": {
   "display_name": "aviary",
   "language": "python",
   "name": "python3"
  },
  "language_info": {
   "codemirror_mode": {
    "name": "ipython",
    "version": 3
   },
   "file_extension": ".py",
   "mimetype": "text/x-python",
   "name": "python",
   "nbconvert_exporter": "python",
   "pygments_lexer": "ipython3",
   "version": "3.12.9"
  }
 },
 "nbformat": 4,
 "nbformat_minor": 4
}
