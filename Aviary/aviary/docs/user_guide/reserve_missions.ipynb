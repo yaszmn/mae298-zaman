{
 "cells": [
  {
   "cell_type": "code",
   "execution_count": null,
   "metadata": {
    "tags": [
     "remove-cell"
    ]
   },
   "outputs": [],
   "source": [
    "# Testing Cell\n",
    "import aviary.api as av\n",
    "from aviary.interface.methods_for_level2 import AviaryGroup, AviaryProblem\n",
    "from aviary.utils.doctape import glue_class_functions, glue_variable, glue_class_options\n",
    "\n",
    "current_glued_vars = []\n",
    "\n",
    "glue_variable(av.EquationsOfMotion.HEIGHT_ENERGY.value, md_code=False)\n",
    "glue_variable(av.EquationsOfMotion.TWO_DEGREES_OF_FREEDOM.value, md_code=False)\n",
    "\n",
    "glue_class_options(AviaryGroup, current_glued_vars, md_code=True)\n",
    "\n",
    "folder = 'examples/reserve_missions/'\n",
    "\n",
    "str_level2_example = 'run_reserve_mission_multiphase.py'\n",
    "file_path = av.get_path(folder + str_level2_example)\n",
    "glue_variable(file_path.name, md_code=True)\n",
    "\n",
    "# Get all functions of class AviaryProblem\n",
    "glue_class_functions(AviaryProblem, current_glued_vars, prefix='prob')"
   ]
  },
  {
   "cell_type": "markdown",
   "metadata": {},
   "source": [
    "# Reserve Mission\n",
    "\n",
    "## Overview\n",
    "\n",
    "Reserve missions are enabled for the following mission types:\n",
    "\n",
    "* {glue:md}`height_energy`\n",
    "* {glue:md}`2DOF`\n",
    "\n",
    "A reserve mission can be created by appending one or more reserve phases to {glue:md}`phase_info` after the last phase of the regular mission.\n",
    "To create a simple reserve mission, copy your current cruise phase which is located in {glue:md}`phase_info`.\n",
    "\n",
    "```{note}\n",
    "You may need to revise some of your assumptions for the copied phase if you are making a reserve phase that is radically different than the original (i.e. original phase was to travel 3000km but reserve phase is 100km).\n",
    "```\n",
    "\n",
    "Append that phase to the end of {glue:md}`phase_info`, name it `reserve_cruise` and add `\"reserve\": True,` to `user_options` for this phase.\n",
    "There are two optional flags that can now be added to `user_options`.\n",
    "The `\"target_duration\"` option creates a phase requiring the aircraft to fly for a specific amount of time.\n",
    "The `\"target_distance\"` option creates a phase requiring the aircraft to fly for a specific distance.\n",
    "Avoid using the optional flag if you have a reserve phase (i.e climb or descent) where you just want that phase to be completed as quickly as possible.\n",
    "The optional flags should not be combined as they will create overlapping constraints creating an infeasible problem."
   ]
  },
  {
   "cell_type": "code",
   "execution_count": null,
   "metadata": {
    "tags": [
     "remove-cell"
    ]
   },
   "outputs": [],
   "source": [
    "# Testing Cell\n",
    "import os\n",
    "from importlib.machinery import SourceFileLoader\n",
    "\n",
    "import aviary.api as av\n",
    "from aviary.mission.flight_phase_builder import FlightPhaseBase\n",
    "from aviary.utils.doctape import check_contains\n",
    "\n",
    "gasp_phase_path = av.get_path(os.path.join('mission', 'gasp_based', 'phases'))\n",
    "files = os.listdir(gasp_phase_path)\n",
    "phases = [FlightPhaseBase]\n",
    "for file in files:\n",
    "    if '_phase.py' in file and 'twodof' not in file:\n",
    "        file_path = os.path.join(str(gasp_phase_path), file)\n",
    "        phase_name = file.split('_phase.py')[0].capitalize()\n",
    "        module = SourceFileLoader(phase_name, file_path).load_module()\n",
    "        phases.append(getattr(module, phase_name + 'Phase'))\n",
    "\n",
    "for phase in phases:\n",
    "    phase_name = phase().__class__.__name__\n",
    "    if 'Groundroll' in phase_name:\n",
    "        continue  # no reserve groundroll\n",
    "    check_contains(\n",
    "        ['reserve', 'time_duration', 'target_distance'],\n",
    "        phase.default_options_class(),\n",
    "        error_string='{var} is not a valid key for ' + str(phase_name),\n",
    "    )"
   ]
  },
  {
   "cell_type": "markdown",
   "metadata": {},
   "source": [
    "You can chain together multiple reserve phases to make a complete reserve mission (i.e. climb to altitude, cruise for range, cruise for time, then descend).\n",
    "An example of this is shown in {glue:md}`run_reserve_mission_multiphase.py`."
   ]
  },
  {
   "cell_type": "code",
   "execution_count": null,
   "metadata": {
    "tags": [
     "remove-cell"
    ]
   },
   "outputs": [],
   "source": [
    "# Testing Cell\n",
    "import os\n",
    "\n",
    "import aviary.api as av\n",
    "from aviary.utils.doctape import check_contains\n",
    "\n",
    "reserve_examples = av.get_path(os.path.join('examples', 'reserve_missions'))\n",
    "check_contains(\n",
    "    ('run_reserve_mission_multiphase.py'),\n",
    "    os.listdir(reserve_examples),\n",
    "    error_string='{var} not in ' + str(reserve_examples),\n",
    "    error_type=FileNotFoundError,\n",
    ")"
   ]
  },
  {
   "cell_type": "code",
   "execution_count": null,
   "metadata": {
    "tags": [
     "remove-cell"
    ]
   },
   "outputs": [],
   "source": [
    "# Testing Cell\n",
    "import aviary.api as av\n",
    "from aviary.utils.doctape import glue_variable\n",
    "\n",
    "methods_for_level2 = av.get_path('interface/methods_for_level2.py').name\n",
    "glue_variable(methods_for_level2, md_code=True)\n",
    "\n",
    "setting_2DOF = (\n",
    "    av.Settings.EQUATIONS_OF_MOTION + ',' + av.EquationsOfMotion.TWO_DEGREES_OF_FREEDOM.value\n",
    ")\n",
    "glue_variable('setting_2DOF', setting_2DOF, md_code=True)"
   ]
  },
  {
   "cell_type": "markdown",
   "metadata": {},
   "source": [
    "The first reserve phase will start at the same range and mass as the last regular phase, but all other states (i.e. altitude, Mach number) are not automatically connected.\n",
    "Thus you can fly climb, cruise, descent for regular phases and then immediately jump to an arbitrary altitude for the reserve mission.\n",
    "Or if you wanted to make things more realistic you could attach a climb phase and then add your reserve cruise.\n",
    "Make sure both the reserve climb and the reserve cruise phases both have `\"reserve\": True,` flag.\n",
    "\n",
    "### Examples\n",
    "\n",
    "Examples of single-phase and multi-phase reserve missions are presented in [Reserve Mission Examples](../examples/reserve_missions).\n",
    "\n",
    "### Caveats when using 2DOF\n",
    "\n",
    "If you are using {glue:md}`2DOF` equations of motion (EOM) in your problem (i.e. {glue:md}`setting_2DOF`) there are some additional things you need to be aware of.\n",
    "The name of the reserve phase should include one of the keywords to indicate which EOM from {glue:md}`2DOF` will be selected and the prefix `reserve_`.\n",
    "Valid keywords include: {glue:md}`rotation`, {glue:md}`accel`, {glue:md}`ascent`, {glue:md}`climb1`, {glue:md}`climb2`, {glue:md}`cruise`, {glue:md}`desc1`, {glue:md}`desc2`.\n",
    "This is because {glue:md}`2DOF` uses different EOMs for different phases and we need to let {glue:md}`methods_for_level2.py` know which method to select.\n",
    "This is why in the example in the first paragraph above, the phase was named `reserve_cruise`.\n",
    "Cruise phases can have additional information in suffixes, but this isn't necessary.\n",
    "Do not worry about phase naming if you are using Height-Energy EOM as all those EOMs are the same for every phase."
   ]
  },
  {
   "cell_type": "code",
   "execution_count": null,
   "metadata": {
    "tags": [
     "remove-cell"
    ]
   },
   "outputs": [],
   "source": [
    "# Testing Cell\n",
    "from aviary.utils.doctape import check_contains, glue_variable\n",
    "\n",
    "two_DOF_phases = ['rotation', 'accel', 'ascent', 'climb1', 'climb2', 'cruise', 'desc1', 'desc2']\n",
    "for ph in two_DOF_phases:\n",
    "    glue_variable(ph, md_code=True)"
   ]
  },
  {
   "cell_type": "markdown",
   "metadata": {},
   "source": [
    "## Theory\n",
    "\n",
    "When adding a reserve phase, {glue:md}`check_and_preprocess_inputs()` divides all the phases into two dictionaries: `regular_phases` which contain your nominal phases and `reserve_phases` which contains any phases with the `reserve` flag set to `True`.\n",
    "Additionally, {glue:md}`check_and_preprocess_inputs()` will add the `\"analytic\"` flag to each phase.\n",
    "This is used to indicate if a phase is an analytic phase (i.e. Breguet range) or a ordinary differential equation (ODE).\n",
    "\n",
    "Only the final mission mass and range from `regular_phases` are automatically connected to the first point of the `reserve_phases`.\n",
    "All other state variables (i.e. altitude, mach) are not automatically connected, allowing you to start the reserve mission at whatever altitude you want.\n",
    "\n",
    "The `\"analytic\"` flag helps to properly connect phases for {glue:md}`2DOF` missions.\n",
    "{glue:md}`2DOF` `cruise` missions are analytic because they use a Breguet range calculation instead of integrating an EOM. \n",
    "Analytic phases have a slightly different naming convention in order to access state/timeseries variables like distance, mass, and range compared with their non-analytic counterparts.\n",
    "\n",
    "You cannot create a reserve mission that enforces time or range constraints over multiple phases (i.e specify the total range covered by a climb + cruise + descent).\n",
    "This is because each constraint `\"target_distance\"` or `\"target_time\"` is only enforced on a single phase.\n",
    "It is essential that you run {glue:md}`prob.check_and_preprocess_inputs()` after {glue:md}`prob.load_inputs()` to make sure that regular and reserve phases are separated via `phase_separator()`."
   ]
  },
  {
   "cell_type": "code",
   "execution_count": null,
   "metadata": {
    "tags": [
     "remove-cell"
    ]
   },
   "outputs": [],
   "source": [
    "# Testing Cell\n",
    "import os\n",
    "from importlib.machinery import SourceFileLoader\n",
    "\n",
    "import aviary.api as av\n",
    "from aviary.models.missions.two_dof_default import phase_info\n",
    "from aviary.interface.download_models import get_model\n",
    "from aviary.interface.methods_for_level2 import AviaryProblem\n",
    "from aviary.utils.doctape import check_contains\n",
    "\n",
    "prob = AviaryProblem()\n",
    "prob.load_inputs(get_model('aircraft_for_bench_GwGm.csv'), phase_info)\n",
    "prob.check_and_preprocess_inputs()\n",
    "\n",
    "gasp_phase_path = av.get_path(os.path.join('mission', 'gasp_based', 'phases'))\n",
    "for file in os.listdir(gasp_phase_path):\n",
    "    if '_phase.py' in file and 'twodof' not in file:\n",
    "        phase_name = file.split('_phase.py')[0].capitalize()\n",
    "        file_path = os.path.join(str(gasp_phase_path), file)\n",
    "        module = SourceFileLoader(phase_name, file_path).load_module()\n",
    "        check_contains(\n",
    "            'analytic',\n",
    "            getattr(module, phase_name + 'PhaseOptions')(),\n",
    "            error_string=f'analytic is not a valid key for {phase_name}',\n",
    "            error_type=NameError,\n",
    "        )"
   ]
  },
  {
   "cell_type": "markdown",
   "metadata": {},
   "source": [
    "### Advanced Users and Target Duration Phases\n",
    "\n",
    "For advanced users, instead of just copying a phase you used before, you might completely specify a new phase from scratch. \n",
    "When creating a `\"target_duration\"` reserve phase there are a number of values inside of `phase_info['user_options']` that are overwritten in {glue:md}`prob.check_and_preprocess_inputs()`. \n",
    "Specifically, `duration_bounds`, `fixed_duration`, and `\"initial_guesses\": {\"time\"}` will be over-written. \n",
    "That is because if `\"target_duration\"` is specified, Aviary already knows what these other three values need to be: `target_duration = duration_bounds = \"initial_guesses\": {\"time\"}`, and `fix_duration = True`."
   ]
  },
  {
   "cell_type": "code",
   "execution_count": null,
   "metadata": {
    "tags": [
     "remove-cell"
    ]
   },
   "outputs": [],
   "source": [
    "# Testing Cell\n",
    "from copy import deepcopy\n",
    "\n",
    "from aviary.models.missions.two_dof_default import phase_info\n",
    "from aviary.interface.download_models import get_model\n",
    "from aviary.interface.methods_for_level2 import AviaryProblem\n",
    "from aviary.utils.doctape import check_value\n",
    "\n",
    "climb1_info = deepcopy(phase_info['climb1'])\n",
    "phase_info_for_test = {'climb1': climb1_info}\n",
    "user_options = climb1_info['user_options']\n",
    "user_options['reserve'] = True\n",
    "user_options['time_duration'] = (10, 'min')\n",
    "user_options['time_duration_bounds'] = ((30, 300), 's')\n",
    "climb1_info['initial_guesses']['time'] = ((1.0, 2.0), 'min')\n",
    "\n",
    "prob = AviaryProblem()\n",
    "prob.load_inputs(get_model('aircraft_for_bench_GwGm.csv'), phase_info_for_test)\n",
    "\n",
    "prob.check_and_preprocess_inputs()\n",
    "\n",
    "values_of_interest = {\n",
    "    'time_duration': user_options['time_duration'],\n",
    "    'time_duration_bounds': user_options['time_duration_bounds'],\n",
    "    'time': climb1_info['initial_guesses']['time'],\n",
    "}\n",
    "expected_values = {\n",
    "    'time_duration': (10, 'min'),\n",
    "    'time_duration_bounds': ((30, 300), 's'),\n",
    "    'time': ((1.0, 10.0), 'min'),\n",
    "}\n",
    "check_value(values_of_interest, expected_values)"
   ]
  },
  {
   "cell_type": "markdown",
   "metadata": {},
   "source": [
    "### Fuel Burn Calculations\n",
    "\n",
    "Fuel burn during the regular mission ({glue:md}`Mission.Summary.FUEL_BURNED`) is calculated only based on `regular_phases`.\n",
    "\n",
    "Reserve fuel ({glue:md}`Mission.Design.RESERVE_FUEL`) is the sum of {glue:md}`Aircraft.Design.RESERVE_FUEL_ADDITIONAL`, {glue:md}`Aircraft.Design.RESERVE_FUEL_FRACTION`, and {glue:md}`Mission.Summary.RESERVE_FUEL_BURNED`.\n",
    "\n",
    "* {glue:md}`RESERVE_FUEL_ADDITIONAL` is a fixed value (i.e. 300kg)\n",
    "* {glue:md}`RESERVE_FUEL_FRACTION` is based on a fraction of {glue:md}`Mission.Summary.FUEL_BURNED`\n",
    "* {glue:md}`RESERVE_FUEL_BURNED` is sum of fuel burn in all `reserve_phases`\n"
   ]
  },
  {
   "cell_type": "code",
   "execution_count": null,
   "metadata": {
    "tags": [
     "remove-cell"
    ]
   },
   "outputs": [],
   "source": [
    "# Testing Cell\n",
    "from aviary.api import Aircraft, Mission\n",
    "from aviary.utils.doctape import get_variable_name, glue_variable\n",
    "\n",
    "Mission.Summary.FUEL_BURNED\n",
    "Mission.Design.RESERVE_FUEL\n",
    "Aircraft.Design.RESERVE_FUEL_ADDITIONAL\n",
    "Aircraft.Design.RESERVE_FUEL_FRACTION\n",
    "glue_variable(get_variable_name(Mission.Summary.FUEL_BURNED), md_code=True)\n",
    "glue_variable(get_variable_name(Mission.Design.RESERVE_FUEL), md_code=True)\n",
    "glue_variable(get_variable_name(Aircraft.Design.RESERVE_FUEL_ADDITIONAL), md_code=True)\n",
    "glue_variable(get_variable_name(Aircraft.Design.RESERVE_FUEL_FRACTION), md_code=True)\n",
    "glue_variable(get_variable_name(Mission.Summary.RESERVE_FUEL_BURNED), md_code=True)\n",
    "glue_variable(\n",
    "    get_variable_name(Aircraft.Design.RESERVE_FUEL_ADDITIONAL).split('.')[2], md_code=True\n",
    ")\n",
    "glue_variable(get_variable_name(Aircraft.Design.RESERVE_FUEL_FRACTION).split('.')[2], md_code=True)\n",
    "glue_variable(get_variable_name(Mission.Summary.RESERVE_FUEL_BURNED).split('.')[2], md_code=True)"
   ]
  }
 ],
 "metadata": {
  "kernelspec": {
   "display_name": "Python 3 (ipykernel)",
   "language": "python",
   "name": "python3"
  },
  "language_info": {
   "codemirror_mode": {
    "name": "ipython",
    "version": 3
   },
   "file_extension": ".py",
   "mimetype": "text/x-python",
   "name": "python",
   "nbconvert_exporter": "python",
   "pygments_lexer": "ipython3",
   "version": "3.12.3"
  }
 },
 "nbformat": 4,
 "nbformat_minor": 4
}
