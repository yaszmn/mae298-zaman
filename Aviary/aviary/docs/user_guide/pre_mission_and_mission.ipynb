{
 "cells": [
  {
   "cell_type": "markdown",
   "metadata": {},
   "source": [
    "# Pre-Mission and Mission\n",
    "\n",
    "Within an Aviary model there are two main types of systems: pre-mission and mission.\n",
    "\n",
    "Pre-mission systems are those that are run before the mission analysis and do not vary throughout the mission.\n",
    "Examples include aircraft geometry, masses of aircraft components, any pre-computed quantities needed for mission systems.\n",
    "Any quantities within the pre-mission systems are assumed to be constant throughout the mission.\n",
    "\n",
    "Mission systems are those that are run during the mission analysis and may vary throughout the mission.\n",
    "Examples include aerodynamics, propulsion, current mass and velocity of the aircraft, etc.\n",
    "Any quantities within the mission systems are allowed to vary throughout the mission.\n",
    "\n",
    "A nominal diagram showing the pre-mission and mission systems is shown below.\n",
    "\n",
    "![Pre-mission vs mission](images/pre_mission_and_mission.svg)\n",
    "\n",
    "## Pre-Mission Systems\n",
    "\n",
    "Pre-mission systems are run before the mission analysis and are assumed to be constant throughout the mission.\n",
    "The values in the pre-mission systems _can_ vary during the optimization process.\n",
    "For example, gross takeoff weight (GTOW) is often a design variable in an aircraft optimization problem.\n",
    "GTOW does not vary across the mission but it does vary during the optimization process.\n",
    "\n",
    "## Mission Systems\n",
    "\n",
    "Systems within the mission group of Aviary are the systems that vary during the aircraft's flight trajectory.\n",
    "This means that the systems are evaluated at each analysis point within the mission analysis.\n",
    "For example, the aerodynamics subsystem is evaluated at each analysis point to determine the aerodynamic forces and moments acting on the aircraft at that point.\n",
    "The propulsion subsystem is evaluated at each point to determine the thrust and fuel flow of the propulsion system.\n",
    "\n",
    "Systems within the mission group are often vectorized.\n",
    "This is possible because the systems are evaluated at each analysis point independently of the other analysis points when using {term}`collocation integration methods`.\n",
    "Within Aviary, the number of mission analysis points is called {glue:md}`num_nodes`."
   ]
  },
  {
   "cell_type": "code",
   "execution_count": null,
   "metadata": {
    "tags": [
     "remove-cell"
    ]
   },
   "outputs": [],
   "source": [
    "# Testing Cell\n",
    "import inspect\n",
    "\n",
    "from aviary.mission.phase_builder_base import PhaseBuilderBase\n",
    "from aviary.subsystems.subsystem_builder_base import SubsystemBuilderBase\n",
    "from aviary.utils.doctape import check_args, get_variable_name, glue_class_functions, glue_variable\n",
    "\n",
    "current_glued_vars = []\n",
    "\n",
    "check_args(PhaseBuilderBase.__init__, 'num_nodes')\n",
    "glue_variable('num_nodes', md_code=True)\n",
    "glue_variable(get_variable_name(SubsystemBuilderBase), md_code=True)\n",
    "\n",
    "# Get all functions of class SubsystemBuilderBase\n",
    "glue_class_functions(SubsystemBuilderBase, current_glued_vars)"
   ]
  },
  {
   "cell_type": "markdown",
   "metadata": {},
   "source": [
    "## States, Controls, and Parameters\n",
    "\n",
    "States, controls, and parameters are the three main types of variables within Aviary that are relevant to the mission analysis.\n",
    "States are variables that are integrated over the mission analysis.\n",
    "Controls are variables that are manipulated by the optimizer and are allowed to vary across the mission.\n",
    "Parameters are variables that are allowed to be controlled by the optimizer (but don't have to be) and are assumed to be constant across the entire trajectory or a single phase, depending on how they're set up.\n",
    "\n",
    "## The Bus System in Aviary\n",
    "\n",
    "Within Aviary, you might want to connect a pre-mission system to a mission system.\n",
    "Variables that include a `':'` (which includes all variables that start with `aircraft:` and `mission:`) are connected when you use the {glue:md}`get_parameters()` method within {glue:md}`SubsystemBuilderBase`.\n",
    "However, you might want to connect a variable from a pre-mission system to a mission system that does not begin with `'aircraft:'`.\n",
    "For example, you might have a subsystem that has some computations in the pre-mission system that you want to connect to the mission system, but you don't necessarily want to expose those variables to the rest of Aviary.\n",
    "The bus system is also useful if you have variables that begin with `'aircraft:'` but you don't want them exposed to the rest of Aviary.\n",
    "\n",
    "To do this, you can use the \"bus\" system.\n",
    "The bus system allows you to connect variables from the pre-mission system to the mission system based on what you specify.\n",
    "This is especially relevant when you're using external subsystems as core Aviary does not use the bus system internally.\n",
    "The notion of the bus system is detailed more within the {glue:md}`SubsystemBuilderBase` docstrings.\n"
   ]
  },
  {
   "cell_type": "code",
   "execution_count": null,
   "metadata": {
    "tags": [
     "remove-cell"
    ]
   },
   "outputs": [],
   "source": [
    "# Testing Cell\n",
    "from aviary.subsystems.subsystem_builder_base import SubsystemBuilderBase\n",
    "\n",
    "SubsystemBuilderBase.get_parameters\n",
    "SubsystemBuilderBase.get_pre_mission_bus_variables"
   ]
  },
  {
   "cell_type": "markdown",
   "metadata": {},
   "source": [
    "## Post-Mission Systems\n",
    "\n",
    "Post-mission systems are run after the pre-mission and mission analyses, as expected by the name.\n",
    "These systems are used to compute any post-mission quantities that are needed, such as landing-related properties, economic models, mission postprocessing, etc.\n",
    "These systems can use any of the outputs from the pre-mission and mission systems."
   ]
  }
 ],
 "metadata": {
  "kernelspec": {
   "display_name": "aviary",
   "language": "python",
   "name": "python3"
  },
  "language_info": {
   "codemirror_mode": {
    "name": "ipython",
    "version": 3
   },
   "file_extension": ".py",
   "mimetype": "text/x-python",
   "name": "python",
   "nbconvert_exporter": "python",
   "pygments_lexer": "ipython3",
   "version": "3.12.8"
  }
 },
 "nbformat": 4,
 "nbformat_minor": 2
}
