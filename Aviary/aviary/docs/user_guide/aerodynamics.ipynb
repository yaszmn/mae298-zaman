{
 "cells": [
  {
   "cell_type": "code",
   "execution_count": null,
   "metadata": {
    "tags": [
     "remove-cell"
    ]
   },
   "outputs": [],
   "source": [
    "# Testing Cell\n",
    "import inspect\n",
    "\n",
    "import aviary.api as av\n",
    "from aviary.subsystems.aerodynamics.aerodynamics_builder import CoreAerodynamicsBuilder\n",
    "from aviary.utils.doctape import get_variable_name, glue_variable\n",
    "\n",
    "current_glued_vars = []\n",
    "\n",
    "CoreAerodynamicsBuilder\n",
    "glue_variable(get_variable_name(CoreAerodynamicsBuilder), md_code=True)\n",
    "\n",
    "HEIGHT_ENERGY = av.EquationsOfMotion.HEIGHT_ENERGY\n",
    "glue_variable('height_energy', HEIGHT_ENERGY.value, md_code=False)\n",
    "\n",
    "TWO_DEGREES_OF_FREEDOM = av.EquationsOfMotion.TWO_DEGREES_OF_FREEDOM\n",
    "glue_variable(TWO_DEGREES_OF_FREEDOM.value, md_code=False)\n",
    "\n",
    "# glue all arguments of function CoreAerodynamicsBuilder.__init__()\n",
    "sigs = inspect.signature(CoreAerodynamicsBuilder)\n",
    "parameters = sigs.parameters\n",
    "for name, param in parameters.items():\n",
    "    glue_variable(name, md_code=True)\n",
    "    # print(f'Name: {name}, Default: {param.default}, Kind: {param.kind}')"
   ]
  },
  {
   "cell_type": "markdown",
   "metadata": {},
   "source": [
    "<!-- Work in progress... -->\n",
    "# Aerodynamics Subsystem\n",
    "\n",
    "The built-in aerodynamics subsystem in Aviary offers multiple options for computing drag. Users can select from methods based on the FLOPS or GASP legacy codes. Choice of which legacy code's routines to use is determined by the {glue:md}`code_origin` option provided when initializing a {glue:md}`CoreAerodynamicsBuilder`. When using Aviary's [Level 1 interface](../getting_started/onboarding_level1), the code origin for aerodynamics is automatically set to match with the mission method ({glue:md}`height_energy` is paired with FLOPS, and {glue:md}`2DOF` is paired with GASP). Future updates to Aviary will allow for the user to specify aerodynamics code origin directly in the input file."
   ]
  },
  {
   "cell_type": "code",
   "execution_count": null,
   "metadata": {},
   "outputs": [],
   "source": [
    "from aviary.api import CoreAerodynamicsBuilder, LegacyCode\n",
    "\n",
    "aero_builder = CoreAerodynamicsBuilder(name='aero_example', code_origin=LegacyCode.FLOPS)"
   ]
  },
  {
   "cell_type": "code",
   "execution_count": null,
   "metadata": {
    "tags": [
     "remove-cell"
    ]
   },
   "outputs": [],
   "source": [
    "# Testing Cell\n",
    "from aviary.interface.methods_for_level1 import run_aviary\n",
    "from aviary.utils.doctape import glue_class_functions\n",
    "\n",
    "# Get all functions of class CoreAerodynamicsBuilder\n",
    "glue_class_functions(\n",
    "    CoreAerodynamicsBuilder, current_glued_vars, prefix=CoreAerodynamicsBuilder.__name__\n",
    ")\n",
    "\n",
    "# glue all argument of function run_aviary()\n",
    "sigs = inspect.signature(run_aviary)\n",
    "parameters = sigs.parameters\n",
    "for name, param in parameters.items():\n",
    "    glue_variable(name, md_code=True)"
   ]
  },
  {
   "cell_type": "markdown",
   "metadata": {},
   "source": [
    "Both FLOPS and GASP methods have only a single option for pre-mission components, so there are no user-configurable options when calling {glue:md}`CoreAerodynamicsBuilder.build_pre_mission()`.\n",
    "\n",
    "For mission analysis, a variety of methods are available to both legacy codes, each with unique options. This can be configured per-mission segment in a {glue:md}`phase_info` file, with relevant aerodynamics configurations placed inside `<phase_name>['core_subsystems']`. The following example would instruct Aviary to send the defined options to a subsystem named 'aero_example' when building the mission, if the dictionary is properly added to {glue:md}`phase_info`"
   ]
  },
  {
   "cell_type": "code",
   "execution_count": null,
   "metadata": {
    "tags": [
     "remove-cell"
    ]
   },
   "outputs": [],
   "source": [
    "# Testing Cell\n",
    "from aviary.api import CoreAerodynamicsBuilder\n",
    "from aviary.utils.doctape import check_args\n",
    "\n",
    "check_args(CoreAerodynamicsBuilder.build_pre_mission, ['aviary_inputs', 'kwargs'])"
   ]
  },
  {
   "cell_type": "code",
   "execution_count": null,
   "metadata": {},
   "outputs": [],
   "source": [
    "from aviary.api import AviaryValues\n",
    "\n",
    "# If you are using Aviary's interface to run analysis, this example dictionary must be\n",
    "# place in phase_info, under the phase you want the arguments applied, like this:\n",
    "# (<phase_name>[<subsystem_name>] = aerodynamic_args).\n",
    "\n",
    "# The aerodynamics subsystem name must match what you provide here\n",
    "aerodynamic_args = {'aero_example': {'method': 'computed', 'gamma': 1.35}}\n",
    "\n",
    "# If you are manually building your subsystems, you can instead directly pass the\n",
    "# arguments to the builder\n",
    "input_variables = AviaryValues()  # include your aircraft inputs here\n",
    "mission_comp = aero_builder.build_mission(\n",
    "    num_nodes=1, aviary_inputs=input_variables, kwargs=aerodynamic_args['aero_example']\n",
    ")"
   ]
  },
  {
   "cell_type": "markdown",
   "metadata": {},
   "source": [
    "## FLOPS Based\n",
    "\n",
    "The choice of using FLOPS based aerodynamics behavior is user specified per mission. Note, detailed wing weight input variables do not impact aerodynamic calculations.\n",
    "\n",
    "The FLOPS aerodynamics pre-mission component performs calculations to determine the design Mach and lift coefficient of the aircraft.\n",
    "\n",
    "<!--TODO are these variables actually required or will defaults work?-->\n",
    "The following input variables are required for the pre-mission calculations:\n",
    "- {glue:md}`Aircraft.Wing.MAX_CAMBER_AT_70_SEMISPAN` : Maximum camber at 70 percent semi-span, percent of local chord\n",
    "- {glue:md}`Aircraft.Design.BASE_AREA` : Aircraft base area (total exit cross-section area minus inlet capture areas for internally mounted engines)\n",
    "- {glue:md}`Aircraft.Wing.AIRFOIL_TECHNOLOGY` : Airfoil technology parameter. Limiting values are: 1.0 represents conventional technology wing (Default); 2.0 represents advanced technology wing\n",
    "<!--TODO: etc. is there a better way than manual copy/paste?-->"
   ]
  },
  {
   "cell_type": "code",
   "execution_count": null,
   "metadata": {
    "tags": [
     "remove-cell"
    ]
   },
   "outputs": [],
   "source": [
    "# Testing Cell\n",
    "from aviary.api import Aircraft\n",
    "\n",
    "glue_variable(get_variable_name(Aircraft.Wing.MAX_CAMBER_AT_70_SEMISPAN), md_code=True)\n",
    "glue_variable(get_variable_name(Aircraft.Wing.AIRFOIL_TECHNOLOGY), md_code=True)\n",
    "glue_variable(get_variable_name(Aircraft.Design.BASE_AREA), md_code=True)"
   ]
  },
  {
   "cell_type": "markdown",
   "metadata": {},
   "source": [
    "For mission analysis, FLOPS-based aerodynamics has several choices of method to determine the total lift and drag on the vehicle, listed below. The default is `computed`. If another method is desired, it should be specified in {glue:md}`phase_info` for each individual mission segment.\n",
    "- `computed`: uses regression-based techniques to estimate lift and drag\n",
    "- `low_speed`: for use in detailed takeoff analysis, and includes high-lift devices and considers angle-of-attack\n",
    "- `tabular`: allows the user to substitute the lift and drag coefficient calculations in `computed` with data tables\n",
    "- `external`: disables Aviary's core aerodynamics computation, intended for use with external subsystems to replace all aerodynamic calculations.\n",
    "\n",
    "### Computed Aerodynamics\n",
    "The FLOPS based aerodynamics subsystem uses a modified version of algorithms from the EDET (Empirical Drag Estimation Technique) program [^edet] to internally compute drag polars. FLOPS improvements to EDET as implemented in Aviary include smoothing of drag polars, more accurate Reynolds number calculations, and use of the Sommer and Short T' method [^tprime] for skin friction calculations.\n",
    "\n",
    "### Low Speed Aerodynamics\n",
    "This aerodynamics routine is designed for use with the {glue:md}`height_energy` detailed takeoff phase, which includes use of high-lift devices. This aerodynamics method uses angle of attack, which is a special case not present in other {glue:md}`height_energy` phases.\n",
    "\n",
    "### User Specified Tabular Drag Polars\n",
    "Third party drag polars can be specified by the user, either via a data file in [Aviary data format](./input_files) or a NamedValues object. Two tables are required, one for lift-dependent drag, and another for zero-lift drag.\n",
    "- The lift-dependent drag coefficient table must include Mach number and lift coefficient as independent variables.\n",
    "- The zero-lift drag coefficient table must include altitude and Mach number as independent variables.\n",
    "\n",
    "Tabular aerodynamics uses Aviary's [data_interpolator_builder](../_srcdocs/packages/utils/data_interpolator_builder) interface. This component is unique as it requires two data tables to be provided. All configuration options, such as the choice to use a structured metamodel or training data, are applied to both tables.\n",
    "\n",
    "### External Aerodynamics\n",
    "Selecting the `external` aerodynamics method disables Aviary's core aerodynamics group. This allows for external subsystems to completely replace these calculations."
   ]
  },
  {
   "cell_type": "code",
   "execution_count": null,
   "metadata": {
    "tags": [
     "remove-cell"
    ]
   },
   "outputs": [],
   "source": [
    "# Testing Cell\n",
    "from aviary.api import AviaryValues, CoreAerodynamicsBuilder, LegacyCode\n",
    "\n",
    "cab = CoreAerodynamicsBuilder(code_origin=LegacyCode.FLOPS)\n",
    "# here we are only checking that the CoreAerodynamicsBuilder has a build_mission for a given method\n",
    "# we know this will fail when it attempts to build the aero groups\n",
    "for method in (None, 'computed', 'low_speed', 'tabular', 'external'):\n",
    "    try:\n",
    "        cab.build_mission(1, AviaryValues(), method=method)\n",
    "    except ValueError as e:\n",
    "        raise e\n",
    "    except:\n",
    "        pass\n",
    "try:\n",
    "    cab.build_mission(1, AviaryValues(), method='computed', solve_alpha=True)\n",
    "except KeyError:\n",
    "    pass"
   ]
  },
  {
   "cell_type": "markdown",
   "metadata": {},
   "source": [
    "## GASP Based\n",
    "### Using GASP Aerodynamics with the Height-Energy Equations of Motion (FLOPS Mission)\n",
    "\n",
    "You can also use GASP-based aero with the {glue:md}`height_energy` mission by using the `solve_alpha` flag.\n",
    "\n",
    "GASP-based drag polars have 3 inputs: altitude, Mach number, and angle of attack. Since the {glue:md}`height_energy` equations of motion do not incorporate angle of attack, `solve_alpha` adds a computational group with a solver that varies the angle of attack until the lift from the FLOPS aero module matches the weight force on the aircraft. When using tabular aerodynamics, the format for the drag table file is the same as for GASP-based aerodynamics used with the {glue:md}`2DOF` mission.\n",
    "\n",
    "## Externally Computed Polars\n",
    "\n",
    "Both FLOPS and GASP methods that use data tables support the use of training data, where the values for interpolation are provided by another openMDAO component via connections. An example problem using this method can be found [here](./external_aero).\n",
    "\n",
    "## References\n",
    "\n",
    "These papers provide a thorough overview of the specific methodologies used for emperical drag prediction in Aviary.\n",
    "\n",
    "[^edet]: Feagin, Richard C. and Morrison, William D., Jr. \"Delta Method, An Empirical\n",
    "Drag Buildup Technique.\" NASA CR-151971, December 1978.\n",
    "\n",
    "[^tprime]: Sommer, Simon C. and Short, Barbara J. \"Free-Flight Measurements of\n",
    "Turbulent-Boundary-Layer Skin Friction in the Presence of Severe Aerodynamic Heating at\n",
    "Mach Numbers from 2.8 to 7.9.\" NASA TN-3391, 1955."
   ]
  }
 ],
 "metadata": {
  "kernelspec": {
   "display_name": "aviary",
   "language": "python",
   "name": "python3"
  },
  "language_info": {
   "codemirror_mode": {
    "name": "ipython",
    "version": 3
   },
   "file_extension": ".py",
   "mimetype": "text/x-python",
   "name": "python",
   "nbconvert_exporter": "python",
   "pygments_lexer": "ipython3",
   "version": "3.12.9"
  }
 },
 "nbformat": 4,
 "nbformat_minor": 2
}
